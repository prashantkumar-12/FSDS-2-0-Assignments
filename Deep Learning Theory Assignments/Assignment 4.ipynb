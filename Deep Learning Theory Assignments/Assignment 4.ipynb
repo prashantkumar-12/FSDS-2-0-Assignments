{
 "cells": [
  {
   "cell_type": "markdown",
   "id": "dc6bd03c",
   "metadata": {},
   "source": [
    "# Assignment 04 Solutions"
   ]
  },
  {
   "cell_type": "markdown",
   "id": "4a248256",
   "metadata": {},
   "source": [
    "#### 1.\tHow would you describe TensorFlow in a short sentence? What are its main features? Can you name other popular Deep Learning libraries?"
   ]
  },
  {
   "cell_type": "markdown",
   "id": "58689610",
   "metadata": {},
   "source": [
    "**Answer** TensorFlow is an open-source deep learning framework known for its flexibility, scalability, and efficient computation on GPUs and TPUs. Its main features include automatic differentiation, GPU support, distributed computing, and high-level APIs like Keras. Other popular deep learning libraries include PyTorch, Keras (which is now part of TensorFlow), and MXNet."
   ]
  },
  {
   "cell_type": "markdown",
   "id": "f5c5f184",
   "metadata": {},
   "source": [
    "#### 2.\tIs TensorFlow a drop-in replacement for NumPy? What are the main differences between the two?"
   ]
  },
  {
   "cell_type": "markdown",
   "id": "9816fbb3",
   "metadata": {},
   "source": [
    "**Answer**TensorFlow is not a drop-in replacement for NumPy, although it shares similarities with NumPy in terms of tensor operations. The main differences include TensorFlow's computation graph paradigm, which allows for deferred execution and optimization on GPUs/TPUs, and its focus on deep learning models with support for automatic differentiation and neural network layers."
   ]
  },
  {
   "cell_type": "markdown",
   "id": "edf7aaa4",
   "metadata": {},
   "source": [
    "#### 3.\tDo you get the same result with tf.range(10) and tf.constant(np.arange(10))?"
   ]
  },
  {
   "cell_type": "markdown",
   "id": "e0cafb15",
   "metadata": {},
   "source": [
    "**Answer**No, you do not get the same result with tf.range(10) and tf.constant(np.arange(10)). While tf.range(10) creates a tensor representing the range from 0 to 9, tf.constant(np.arange(10)) creates a tensor with the values of the NumPy array np.arange(10). So the former is equivalent to tf.constant([0, 1, 2, 3, 4, 5, 6, 7, 8, 9])."
   ]
  },
  {
   "cell_type": "markdown",
   "id": "746cb7cc",
   "metadata": {},
   "source": [
    "#### 4.\tCan you name six other data structures available in TensorFlow, beyond regular tensors?"
   ]
  },
  {
   "cell_type": "markdown",
   "id": "d1ff29a0",
   "metadata": {},
   "source": [
    "**Answer**Six other data structures available in TensorFlow beyond regular tensors are:\n",
    "\n",
    "SparseTensor: Used to represent sparse data efficiently, where most of the elements are zero.\n",
    "RaggedTensor: Handles data with varying lengths, like sequences or nested data structures.\n",
    "Variable: Mutable tensor-like objects used for storing and updating trainable model parameters.\n",
    "Dataset: A data pipeline API to efficiently load and preprocess large datasets during training.\n",
    "Queue: Used for asynchronous input data handling in multi-threaded scenarios.\n",
    "TensorArray: Dynamic-sized arrays of tensors, useful in some dynamic RNN scenarios."
   ]
  },
  {
   "cell_type": "markdown",
   "id": "332cbd41",
   "metadata": {},
   "source": [
    "#### 5.\tA custom loss function can be defined by writing a function or by subclassing the keras.losses.Loss class. When would you use each option?"
   ]
  },
  {
   "cell_type": "markdown",
   "id": "572bce76",
   "metadata": {},
   "source": [
    "**Answer**You would use a function to define a custom loss when you need a simple loss that does not require additional state or customization. On the other hand, you would subclass the keras.losses.Loss class when you need to define a more complex loss that requires additional internal state, customizations, or logic. Subclassing allows you to create a more sophisticated loss function with additional methods like get_config() and from_config() to enable serialization and deserialization."
   ]
  },
  {
   "cell_type": "markdown",
   "id": "4e479268",
   "metadata": {},
   "source": [
    "#### 6.\tSimilarly, a custom metric can be defined in a function or a subclass of keras.metrics.Metric. When would you use each option?"
   ]
  },
  {
   "cell_type": "markdown",
   "id": "b97b350a",
   "metadata": {},
   "source": [
    "**Answer**You would use a function to define a custom metric when you need a simple metric that does not require additional state or customization. On the other hand, you would subclass the keras.metrics.Metric class when you need to define a more complex metric that requires additional internal state, customizations, or logic. Subclassing allows you to create a more sophisticated metric with additional methods like update_state(), result(), and reset_states()."
   ]
  },
  {
   "cell_type": "markdown",
   "id": "f71bd58a",
   "metadata": {},
   "source": [
    "#### 7.\tWhen should you create a custom layer versus a custom model?"
   ]
  },
  {
   "cell_type": "markdown",
   "id": "6122f173",
   "metadata": {},
   "source": [
    "**Answer**Create a custom layer when you need to define a new type of neural network layer with learnable parameters, non-trainable weights, or custom computations. Create a custom model when you want to define a new model architecture that combines existing layers or has multiple inputs/outputs, or when you need a model with unique behaviors for training, inference, or serving."
   ]
  },
  {
   "cell_type": "markdown",
   "id": "0d16db75",
   "metadata": {},
   "source": [
    "#### 8.\tWhat are some use cases that require writing your own custom training loop?"
   ]
  },
  {
   "cell_type": "markdown",
   "id": "2236a16f",
   "metadata": {},
   "source": [
    "**Answer**Some use cases that require writing your own custom training loop include implementing advanced optimization algorithms not available in standard optimizers, introducing custom learning rate schedules, handling distributed training with specialized synchronization, or implementing unique training procedures that cannot be achieved with standard Keras training routines."
   ]
  },
  {
   "cell_type": "markdown",
   "id": "979e3af2",
   "metadata": {},
   "source": [
    "#### 9.\tCan custom Keras components contain arbitrary Python code, or must they be convertible to TF Functions?"
   ]
  },
  {
   "cell_type": "markdown",
   "id": "45d481a1",
   "metadata": {},
   "source": [
    "**Answer**Custom Keras components can contain arbitrary Python code as long as they can be serialized using standard Python pickling mechanisms. However, if you want to take advantage of TensorFlow's Graph Mode optimization and distributed training, the components should be convertible to TF Functions, meaning they should follow TensorFlow's graph execution model."
   ]
  },
  {
   "cell_type": "markdown",
   "id": "bd77bd31",
   "metadata": {},
   "source": [
    "#### 10.\tWhat are the main rules to respect if you want a function to be convertible to a TF Function?"
   ]
  },
  {
   "cell_type": "markdown",
   "id": "417878db",
   "metadata": {},
   "source": [
    "**Answer**To make a function convertible to a TF Function, you should follow these main rules:\n",
    "\n",
    "Use TensorFlow operations (e.g., tf.add, tf.matmul) or compatible operations for all computations within the function.\n",
    "Avoid using Python constructs like lists, dictionaries, or conditionals directly within the function.\n",
    "Ensure that all input arguments to the function are tensors or convertible to tensors (e.g., NumPy arrays).\n",
    "Avoid using operations with variable-sized tensors, as this may hinder graph optimization."
   ]
  },
  {
   "cell_type": "markdown",
   "id": "0c0f18dc",
   "metadata": {},
   "source": [
    "#### 11.\tWhen would you need to create a dynamic Keras model? How do you do that? Why not make all your models dynamic?"
   ]
  },
  {
   "cell_type": "markdown",
   "id": "548a7173",
   "metadata": {},
   "source": [
    "**Answer**You would need to create a dynamic Keras model when the model's architecture needs to change dynamically based on input data or when the number of layers is determined at runtime. Dynamic models are useful for tasks like dynamic recurrent architectures (e.g., varying sequence lengths) or generative models that require different layer configurations. However, dynamic models cannot be converted to static graphs, which can lead to potential performance overhead, so it's best to use dynamic models only when necessary. You can create a dynamic Keras model by defining a model using the functional API with conditional statements and loops, allowing for flexibility in constructing the model architecture based on runtime conditions."
   ]
  }
 ],
 "metadata": {
  "kernelspec": {
   "display_name": "Python 3 (ipykernel)",
   "language": "python",
   "name": "python3"
  },
  "language_info": {
   "codemirror_mode": {
    "name": "ipython",
    "version": 3
   },
   "file_extension": ".py",
   "mimetype": "text/x-python",
   "name": "python",
   "nbconvert_exporter": "python",
   "pygments_lexer": "ipython3",
   "version": "3.9.0"
  }
 },
 "nbformat": 4,
 "nbformat_minor": 5
}
