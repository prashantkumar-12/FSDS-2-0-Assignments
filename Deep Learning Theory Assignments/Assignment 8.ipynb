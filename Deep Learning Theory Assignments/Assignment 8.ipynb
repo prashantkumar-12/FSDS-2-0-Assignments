{
 "cells": [
  {
   "cell_type": "markdown",
   "id": "dc6bd03c",
   "metadata": {},
   "source": [
    "# Assignment 08 Solutions"
   ]
  },
  {
   "cell_type": "markdown",
   "id": "4a248256",
   "metadata": {},
   "source": [
    "#### 1.\tWhat are the pros and cons of using a stateful RNN versus a stateless RNN?"
   ]
  },
  {
   "cell_type": "markdown",
   "id": "2351caef",
   "metadata": {},
   "source": [
    "**Answer**\n",
    "Pros and Cons of Stateful RNN vs. Stateless RNN:\n",
    "\n",
    "Stateful RNN:\n",
    "Pros:\n",
    "\n",
    "Retains hidden states between batches, allowing the model to learn long-term dependencies across sequences.\n",
    "Suitable for tasks with sequential dependencies, where the order of input data matters.\n",
    "Cons:\n",
    "Requires careful handling of input data to maintain sequence continuity between batches.\n",
    "Less memory-efficient due to the need to store and manage hidden states for each sequence.\n",
    "Stateless RNN:\n",
    "Pros:\n",
    "\n",
    "Easier to implement and manage, as each batch is treated independently.\n",
    "More memory-efficient since hidden states are reset between batches.\n",
    "Cons:\n",
    "May struggle with learning long-term dependencies, especially in tasks with long sequences.\n",
    "Not suitable for tasks with strong temporal dependencies or where the order of input data matters."
   ]
  },
  {
   "cell_type": "markdown",
   "id": "f5c5f184",
   "metadata": {},
   "source": [
    "#### 2.\tWhy do people use Encoder–Decoder RNNs rather than plain sequence-to-sequence RNNs for automatic translation?"
   ]
  },
  {
   "cell_type": "markdown",
   "id": "276e9828",
   "metadata": {},
   "source": [
    "**Answer**Encoder-Decoder RNN vs. Plain Sequence-to-Sequence RNN:\n",
    "\n",
    "Encoder-Decoder RNN:\n",
    "\n",
    "Encoder captures the input sequence's information into a fixed-length vector (context vector) before generating the output sequence.\n",
    "Suitable for tasks like machine translation, where input and output sequences can have different lengths.\n",
    "Allows handling variable-length input sequences more efficiently.\n",
    "Plain Sequence-to-Sequence RNN:\n",
    "\n",
    "Uses a single RNN to map an input sequence to an output sequence directly.\n",
    "Suitable for tasks where input and output sequences have fixed lengths.\n",
    "Less efficient for handling variable-length sequences and may require padding or truncation."
   ]
  },
  {
   "cell_type": "markdown",
   "id": "edf7aaa4",
   "metadata": {},
   "source": [
    "#### 3.\tHow can you deal with variable-length input sequences? What about variable-length output sequences?"
   ]
  },
  {
   "cell_type": "markdown",
   "id": "28b80ff8",
   "metadata": {},
   "source": [
    "**Answer**\n",
    "Dealing with Variable-Length Input and Output Sequences:\n",
    "\n",
    "Variable-Length Input Sequences:\n",
    "\n",
    "Padding: Pad the shorter sequences in the batch with a special token to match the length of the longest sequence. This ensures consistent input dimensions.\n",
    "Masking: Use a mask to ignore padded elements during computation, preventing them from contributing to the loss or gradients.\n",
    "Variable-Length Output Sequences:\n",
    "\n",
    "Teacher Forcing: During training, use the ground-truth output tokens as input for the next time step, even if the model's previous prediction was different. This ensures consistent target sequence lengths during training.\n",
    "Beam Search: During inference, use beam search to generate the output sequence probabilistically and handle variable-length outputs efficiently."
   ]
  },
  {
   "cell_type": "markdown",
   "id": "746cb7cc",
   "metadata": {},
   "source": [
    "#### 4.\tWhat is beam search and why would you use it? What tool can you use to implement it?"
   ]
  },
  {
   "cell_type": "markdown",
   "id": "37ded1c9",
   "metadata": {},
   "source": [
    "**Answer**Beam Search and Its Usage:\n",
    "\n",
    "Beam search is a search algorithm used in sequence generation tasks, especially in natural language processing and machine translation. It is used to generate the most probable sequence of words given a model's predictions and is an improvement over greedy search, which selects the word with the highest probability at each step.\n",
    "\n",
    "In beam search, instead of selecting the single highest-probability word at each time step, it keeps track of a fixed number (beam width) of the most probable sequences up to that point. It expands the search space by considering multiple possible next words and retains the top candidates based on their cumulative probabilities. This allows beam search to explore a larger portion of the search space and find more diverse and plausible sequences.\n",
    "\n",
    "Beam search is beneficial for tasks where the output sequences can be highly ambiguous or have multiple valid solutions, such as machine translation or image captioning. It helps to improve the quality of generated sequences and reduce the risk of getting stuck in local optima.\n",
    "\n",
    "To implement beam search, you can use TensorFlow's tf.nn.top_k() function to get the top-k most probable words at each step and keep track of the top-k sequences based on cumulative probabilities."
   ]
  },
  {
   "cell_type": "markdown",
   "id": "332cbd41",
   "metadata": {},
   "source": [
    "#### 5.\tWhat is an attention mechanism? How does it help?"
   ]
  },
  {
   "cell_type": "markdown",
   "id": "f0c61936",
   "metadata": {},
   "source": [
    "**Answer**Attention Mechanism:\n",
    "\n",
    "The attention mechanism is a key component in the Transformer architecture used for sequence-to-sequence tasks. It allows the model to focus on specific parts of the input sequence while generating each element of the output sequence.\n",
    "\n",
    "In the attention mechanism, the model computes attention weights for each input element (source sequence) based on its relevance to the current decoding step (target sequence). The attention weights represent how much attention the model should pay to each input element while making predictions. By attending to relevant parts of the input sequence, the model can better capture long-range dependencies and relationships between words.\n",
    "\n",
    "Attention helps the model allocate its resources effectively and consider relevant context, leading to improved performance in tasks like machine translation, text generation, and sentiment analysis."
   ]
  },
  {
   "cell_type": "markdown",
   "id": "4e479268",
   "metadata": {},
   "source": [
    "#### 6.\tWhat is the most important layer in the Transformer architecture? What is its purpose?"
   ]
  },
  {
   "cell_type": "markdown",
   "id": "01640bc8",
   "metadata": {},
   "source": [
    "**Answer**Most Important Layer in the Transformer Architecture:\n",
    "\n",
    "The most important layer in the Transformer architecture is the \"Self-Attention\" layer, also known as the \"Scaled Dot-Product Attention\" layer. It is a fundamental building block of the Transformer and enables the model to attend to different positions in the input sequence to capture dependencies efficiently.\n",
    "\n",
    "In the Self-Attention layer, the model computes attention scores between each pair of positions in the input sequence, allowing it to learn contextual relationships and dependencies across the entire sequence simultaneously. This layer is responsible for capturing global dependencies and facilitating parallelization, making it crucial for the Transformer's success in handling long sequences effectively."
   ]
  },
  {
   "cell_type": "markdown",
   "id": "f71bd58a",
   "metadata": {},
   "source": [
    "#### 7.\tWhen would you need to use sampled softmax?"
   ]
  },
  {
   "cell_type": "markdown",
   "id": "336893fa",
   "metadata": {},
   "source": [
    "**Answer**\n",
    "When to Use Sampled Softmax:\n",
    "\n",
    "Sampled softmax is used in cases where the output vocabulary size is extremely large, making the standard softmax computation computationally expensive and memory-intensive. It is commonly employed in large language models and neural language models, where the output vocabulary can contain tens of thousands or even millions of words.\n",
    "\n",
    "Sampled softmax approximates the full softmax by randomly sampling a small subset of the output vocabulary during training. This reduces the computational cost and allows training on smaller batches of data. While it introduces some noise due to sampling, it has been shown to be effective in large-scale language modeling tasks and significantly speeds up training in such scenarios."
   ]
  }
 ],
 "metadata": {
  "kernelspec": {
   "display_name": "Python 3 (ipykernel)",
   "language": "python",
   "name": "python3"
  },
  "language_info": {
   "codemirror_mode": {
    "name": "ipython",
    "version": 3
   },
   "file_extension": ".py",
   "mimetype": "text/x-python",
   "name": "python",
   "nbconvert_exporter": "python",
   "pygments_lexer": "ipython3",
   "version": "3.9.0"
  }
 },
 "nbformat": 4,
 "nbformat_minor": 5
}
