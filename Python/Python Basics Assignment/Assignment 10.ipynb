{
 "cells": [
  {
   "cell_type": "markdown",
   "id": "c750c84b",
   "metadata": {},
   "source": [
    "# Assignment 10 Solutions"
   ]
  },
  {
   "cell_type": "markdown",
   "id": "c00ae223",
   "metadata": {},
   "source": [
    "#### 1. How do you distinguish between shutil.copy() and shutil.copytree()?\n",
    "**Ans:** shutil.copy() is used to copy a single file from the source to the destination, while shutil.copytree() is used to recursively copy an entire directory tree from the source to the destination.\n"
   ]
  },
  {
   "cell_type": "markdown",
   "id": "0a932861",
   "metadata": {},
   "source": [
    "#### 2. What function is used to rename files??\n",
    "**Ans:** The os.rename() function is used to rename files. It takes two arguments: the current file name and the new file name."
   ]
  },
  {
   "cell_type": "markdown",
   "id": "34ce7a3d",
   "metadata": {},
   "source": [
    "#### 3. What is the difference between the delete functions in the send2trash and shutil modules?\n",
    "**Ans:** The delete functions in the send2trash and shutil modules serve different purposes:\n",
    "\n",
    "send2trash: The send2trash.send2trash() function moves a file or directory to the trash or recycle bin instead of permanently deleting it, providing a safer way to delete files with a chance of recovery.\n",
    "shutil: The shutil.rmtree() function is used to permanently delete a directory and all its contents, while shutil.remove() is used to permanently delete a single file. These functions delete files and directories directly without sending them to the trash, so the data is not recoverable."
   ]
  },
  {
   "cell_type": "markdown",
   "id": "bf6ed792",
   "metadata": {},
   "source": [
    "#### 4.ZipFile objects have a close() method just like File objects’ close() method. What ZipFile method is equivalent to File objects’ open() method?\n",
    "**Ans:** The ZipFile method that is equivalent to File objects' open() method is the ZipFile() constructor. Just like the open() method is used to open a file, the ZipFile() constructor is used to open a ZIP archive and create a ZipFile object, allowing you to interact with the contents of the ZIP archive. Here's an example of how to use it:\n",
    "\n",
    "\n",
    "import zipfile\n",
    "\n",
    "Open a ZIP archive named 'example.zip' in read mode\n",
    "with zipfile.ZipFile('example.zip', 'r') as zip_file:\n",
    "    # Perform operations on the ZipFile object"
   ]
  },
  {
   "cell_type": "markdown",
   "id": "c625fcea",
   "metadata": {},
   "source": [
    "#### 5. Create a programme that searches a folder tree for files with a certain file extension (such as .pdf or .jpg). Copy these files from whatever location they are in to a new folder"
   ]
  },
  {
   "cell_type": "code",
   "execution_count": 2,
   "id": "4710d7d8",
   "metadata": {},
   "outputs": [],
   "source": [
    "import os\n",
    "import shutil\n",
    "\n",
    "def copy_files_by_extension(source_folder, destination_folder, file_extension):\n",
    "    for foldername, subfolders, filenames in os.walk(source_folder):\n",
    "        for filename in filenames:\n",
    "            if filename.endswith(file_extension):\n",
    "                source_path = os.path.join(foldername, filename)\n",
    "                destination_path = os.path.join(destination_folder, filename)\n",
    "                shutil.copy(source_path, destination_path)\n",
    "\n",
    "# Example usage\n",
    "source_folder = 'path/to/source/folder'\n",
    "destination_folder = 'path/to/destination/folder'\n",
    "file_extension = '.pdf'\n",
    "\n",
    "copy_files_by_extension(source_folder, destination_folder, file_extension)\n"
   ]
  },
  {
   "cell_type": "code",
   "execution_count": null,
   "id": "1d05329f",
   "metadata": {},
   "outputs": [],
   "source": []
  }
 ],
 "metadata": {
  "kernelspec": {
   "display_name": "Python 3 (ipykernel)",
   "language": "python",
   "name": "python3"
  },
  "language_info": {
   "codemirror_mode": {
    "name": "ipython",
    "version": 3
   },
   "file_extension": ".py",
   "mimetype": "text/x-python",
   "name": "python",
   "nbconvert_exporter": "python",
   "pygments_lexer": "ipython3",
   "version": "3.9.0"
  }
 },
 "nbformat": 4,
 "nbformat_minor": 5
}
