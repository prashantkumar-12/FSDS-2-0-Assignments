{
 "cells": [
  {
   "cell_type": "markdown",
   "id": "372ee7a9",
   "metadata": {},
   "source": [
    "# Assignment 23 Solutions"
   ]
  },
  {
   "cell_type": "markdown",
   "id": "cbe5add1",
   "metadata": {},
   "source": [
    "#### 1. What is the result of the code, and why?\n",
    "`>>> def func(a, b=6, c=8):`   \n",
    "`print(a, b, c)`   \n",
    "`>>> func(1, 2)`   \n",
    "**Ans:** The function func(a, b=6, c=8) is defined with three parameters: a, b, and c. b and c have default values of 6 and 8, respectively.\n",
    "When the function is called with func(1, 2), the value 1 is assigned to parameter a, and the value 2 is assigned to parameter b. Since no value is provided for c, it takes its default value of 8.\n",
    "The function then prints the values of a, b, and c, which are 1, 2, and 8, respectively."
   ]
  },
  {
   "cell_type": "code",
   "execution_count": 1,
   "id": "25277357",
   "metadata": {},
   "outputs": [
    {
     "name": "stdout",
     "output_type": "stream",
     "text": [
      "1 2 8\n"
     ]
    }
   ],
   "source": [
    "def func(a,b=6,c=8):\n",
    "    print(a,b,c)\n",
    "func(1,2)"
   ]
  },
  {
   "cell_type": "markdown",
   "id": "9fcdfe9e",
   "metadata": {},
   "source": [
    "#### 2. What is the result of this code, and why?\n",
    "`>>> def func(a, b, c=5):`  \n",
    "`print(a, b, c)`  \n",
    "`>>> func(1, c=3, b=2)`     \n",
    "**Ans:** The function func(a, b, c=5) is defined with three parameters: a, b, and c. c has a default value of 5.\n",
    "When the function is called with func(1, c=3, b=2), the value 1 is assigned to parameter a, 2 is assigned to parameter b, and 3 is assigned to parameter c.\n",
    "The function then prints the values of a, b, and c, which are 1, 2, and 3, respectively."
   ]
  },
  {
   "cell_type": "code",
   "execution_count": 2,
   "id": "dfb849ce",
   "metadata": {},
   "outputs": [
    {
     "name": "stdout",
     "output_type": "stream",
     "text": [
      "1 2 3\n"
     ]
    }
   ],
   "source": [
    "def func(a,b,c=5):\n",
    "    print(a,b,c)\n",
    "func(1,c=3,b=2)"
   ]
  },
  {
   "cell_type": "markdown",
   "id": "d030f9f1",
   "metadata": {},
   "source": [
    "#### 3. How about this code: what is its result, and why?\n",
    "`>>> def func(a, *pargs):`   \n",
    "`print(a, pargs)`   \n",
    "`>>> func(1, 2, 3)`   \n",
    "**Ans:** The function func(a, *pargs) is defined with two parameters: a and *pargs. The *pargs parameter is used to collect any additional positional arguments into a tuple.\n",
    "When the function is called with func(1, 2, 3), the value 1 is assigned to parameter a, and the additional positional arguments 2 and 3 are collected into the tuple pargs.\n",
    "The function then prints the values of a and pargs, which are 1 and (2, 3), respectively."
   ]
  },
  {
   "cell_type": "code",
   "execution_count": 3,
   "id": "82ddc925",
   "metadata": {},
   "outputs": [
    {
     "name": "stdout",
     "output_type": "stream",
     "text": [
      "1 (2, 3)\n"
     ]
    }
   ],
   "source": [
    "def func(a, *pargs):\n",
    "    print(a,pargs)\n",
    "func(1,2,3)"
   ]
  },
  {
   "cell_type": "markdown",
   "id": "c1c3848b",
   "metadata": {},
   "source": [
    "#### 4. What does this code print, and why?\n",
    "`>>> def func(a, **kargs):`   \n",
    "`print(a, kargs)`   \n",
    "`>>> func(a=1, c=3, b=2)`   \n",
    "**Ans:** The result of the above code is `1 {'c': 3, 'b': 2}`. `**args` stands for variable length keyword arguments. this format is used when we want pass key value pairs as input to a function. All these key value pairs will be stored in a dictionary"
   ]
  },
  {
   "cell_type": "code",
   "execution_count": 4,
   "id": "53f34da6",
   "metadata": {},
   "outputs": [
    {
     "name": "stdout",
     "output_type": "stream",
     "text": [
      "1 {'c': 3, 'b': 2}\n"
     ]
    }
   ],
   "source": [
    "def func(a,**kargs):\n",
    "    print(a,kargs)\n",
    "func(a=1,c=3,b=2)"
   ]
  },
  {
   "cell_type": "markdown",
   "id": "473e1bdf",
   "metadata": {},
   "source": [
    "#### 5. What gets printed by this, and explain?\n",
    "`>>> def func(a, b, c=8, d=5): print(a, b, c, d)`   \n",
    "`>>> func(1, *(5, 6))`   \n",
    "**Ans:** \n",
    "\n",
    "The function func(a, **kargs) is defined with one parameter a and uses   **kargs to collect any additional keyword arguments into a dictionary.\n",
    "When the function is called with func(a=1, c=3, b=2), the value 1 is assigned to parameter a, and the additional keyword arguments c=3 and b=2 are collected into the dictionary kargs.\n",
    "The function then prints the values of a and kargs, which are 1 and {'c': 3, 'b': 2}, respectively."
   ]
  },
  {
   "cell_type": "code",
   "execution_count": 5,
   "id": "ab5de589",
   "metadata": {},
   "outputs": [
    {
     "name": "stdout",
     "output_type": "stream",
     "text": [
      "1 5 6 5\n"
     ]
    }
   ],
   "source": [
    "def func(a,b,c=8,d=5):\n",
    "    print(a,b,c,d)\n",
    "func(1,*(5,6))"
   ]
  },
  {
   "cell_type": "markdown",
   "id": "e6fd179c",
   "metadata": {},
   "source": [
    "#### 6. what is the result of this, and explain?\n",
    "`>>> def func(a, b, c): a = 2; b[0] = 'x'; c['a'] = 'y'`   \n",
    "`>>> l=1; m=[1]; n={'a':0}`   \n",
    "`>>> func(l, m, n)`   \n",
    "`>>> l, m, n`   \n",
    "**Ans:** The function func(a, b, c) is defined with three parameters: a, b, and c.\n",
    "The variables l, m, and n are initialized with the values 1, [1], and {'a': 0}, respectively.\n",
    "When the function is called with func(l, m, n), the value 1 is assigned to parameter a, the list [1] is assigned to parameter b, and the dictionary {'a': 0} is assigned to parameter c.\n",
    "Inside the function, the local variable a is assigned the value 2, the first element of the list b (which is [1]) is modified to 'x', and the value associated with key 'a' in the dictionary c is modified to 'y'.\n",
    "After the function call, the variables l, m, and n retain their original values, which are 1, ['x'], and {'a': 'y'}, respectively."
   ]
  },
  {
   "cell_type": "code",
   "execution_count": 6,
   "id": "3a23e9c9",
   "metadata": {},
   "outputs": [
    {
     "data": {
      "text/plain": [
       "(1, ['x'], {'a': 'y'})"
      ]
     },
     "execution_count": 6,
     "metadata": {},
     "output_type": "execute_result"
    }
   ],
   "source": [
    "def func(a, b, c): a = 2; b[0] = 'x'; c['a'] = 'y'\n",
    "l=1; m=[1]; n={'a':0}\n",
    "func(l, m, n)\n",
    "l,m,n"
   ]
  }
 ],
 "metadata": {
  "kernelspec": {
   "display_name": "Python 3 (ipykernel)",
   "language": "python",
   "name": "python3"
  },
  "language_info": {
   "codemirror_mode": {
    "name": "ipython",
    "version": 3
   },
   "file_extension": ".py",
   "mimetype": "text/x-python",
   "name": "python",
   "nbconvert_exporter": "python",
   "pygments_lexer": "ipython3",
   "version": "3.9.0"
  }
 },
 "nbformat": 4,
 "nbformat_minor": 5
}
