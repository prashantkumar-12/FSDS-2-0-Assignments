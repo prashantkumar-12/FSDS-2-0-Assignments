{
 "cells": [
  {
   "cell_type": "markdown",
   "id": "5e4896b3",
   "metadata": {},
   "source": [
    "# Assignment 9 Solutions"
   ]
  },
  {
   "cell_type": "markdown",
   "id": "7a719726",
   "metadata": {},
   "source": [
    "#### 1.To what does a relative path refer ?\n",
    "**Ans:** TA relative path refers to the location of a file or directory relative to the current working directory of the program."
   ]
  },
  {
   "cell_type": "markdown",
   "id": "1e5a7601",
   "metadata": {},
   "source": [
    "#### 2.Where does an absolute path start with your Operating System ?\n",
    "**Ans:** An absolute path starts with the root directory of the operating system. In Windows, it typically starts with a drive letter (e.g., C:), and in Unix-like systems, it starts with a forward slash (/)."
   ]
  },
  {
   "cell_type": "markdown",
   "id": "20cf4bf7",
   "metadata": {},
   "source": [
    "#### 3.What does the functions `os.getcwd()` and `os.chdir()` do ?\n",
    "**Ans:** os.getcwd() returns the current working directory of the program, while os.chdir() is used to change the current working directory to a specified path."
   ]
  },
  {
   "cell_type": "markdown",
   "id": "ef89a436",
   "metadata": {},
   "source": [
    "#### 4.What are `.` and `..`  folders ?\n",
    "**Ans:** The . (dot) folder represents the current directory, and the .. (dot dot) folder represents the parent directory. These are used as shorthand notations in file system navigation."
   ]
  },
  {
   "cell_type": "markdown",
   "id": "dc9559e2",
   "metadata": {},
   "source": [
    "#### 5.In `C:\\bacon\\eggs\\spam.txt` which part is the dir name and which part is the base name ?\n",
    "**Ans:** In C:\\bacon\\eggs\\spam.txt, the directory name (dir name) is C:\\bacon\\eggs, and the base name is spam.txt."
   ]
  },
  {
   "cell_type": "code",
   "execution_count": 2,
   "id": "3e63e793",
   "metadata": {},
   "outputs": [
    {
     "name": "stdout",
     "output_type": "stream",
     "text": [
      "C:\\bacon\\eggs\n",
      "spam.txt\n"
     ]
    }
   ],
   "source": [
    "import os\n",
    "path = r'C:\\bacon\\eggs\\spam.txt'\n",
    "print(os.path.dirname(path))\n",
    "print(os.path.basename(path))"
   ]
  },
  {
   "cell_type": "markdown",
   "id": "edb97d1b",
   "metadata": {},
   "source": [
    "#### 6.What are the three `mode` arguments that can be passed to the `open()` function ?\n",
    "**Ans:** The three \"mode\" arguments that can be passed to the open() function are:\n",
    "\n",
    "'r': Read mode (default). Opens the file for reading.\n",
    "'w': Write mode. Opens the file for writing and truncates the file if it exists or creates a new file if it doesn't exist.\n",
    "'a': Append mode. Opens the file for writing and appends data to the end of the file if it exists or creates a new file if it doesn't exist."
   ]
  },
  {
   "cell_type": "markdown",
   "id": "a6250b7d",
   "metadata": {},
   "source": [
    "#### 7.What happens if an existing file is opened in write mode ?\n",
    "**Ans:** If an existing file is opened in write mode ('w'), its contents will be truncated (deleted) and the file will be empty before any new data is written to it. Be cautious when using write mode to avoid data loss."
   ]
  },
  {
   "cell_type": "markdown",
   "id": "e76da392",
   "metadata": {},
   "source": [
    "#### 8.How do you tell the difference between `read()` and `readlines()` ?\n",
    "**Ans:** read() reads the entire content of a file as a single string, while readlines() reads the lines of a file and returns them as a list of strings, with each element representing a line."
   ]
  },
  {
   "cell_type": "markdown",
   "id": "9e161992",
   "metadata": {},
   "source": [
    "#### 9.What data structure does a shelf value resemble ?\n",
    "**Ans:** A shelf value resembles a dictionary-like data structure. It is obtained by using the shelve module in Python and behaves similar to a dictionary, allowing data to be stored and retrieved with keys, but it is persisted to a file on the disk."
   ]
  }
 ],
 "metadata": {
  "kernelspec": {
   "display_name": "Python 3 (ipykernel)",
   "language": "python",
   "name": "python3"
  },
  "language_info": {
   "codemirror_mode": {
    "name": "ipython",
    "version": 3
   },
   "file_extension": ".py",
   "mimetype": "text/x-python",
   "name": "python",
   "nbconvert_exporter": "python",
   "pygments_lexer": "ipython3",
   "version": "3.9.0"
  }
 },
 "nbformat": 4,
 "nbformat_minor": 5
}
