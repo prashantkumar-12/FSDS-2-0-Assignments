{
 "cells": [
  {
   "cell_type": "markdown",
   "id": "925a970b",
   "metadata": {},
   "source": [
    "# Assignment 24 Soluitons"
   ]
  },
  {
   "cell_type": "markdown",
   "id": "3267a0e0",
   "metadata": {},
   "source": [
    "#### 1. What is the relationship between def statements and lambda expressions ?\n",
    "**Ans:** Relationship between def statements and lambda expressions:\n",
    "Both def statements and lambda expressions are used to define functions in Python.\n",
    "def statements are used to create regular, named functions that can have multiple lines of code and can be called by their names.\n",
    "lambda expressions, also known as lambda functions, are used to create small, anonymous functions with a single expression. They are typically used when a simple function is needed for a short period and don't require a name."
   ]
  },
  {
   "cell_type": "markdown",
   "id": "e23f6be0",
   "metadata": {},
   "source": [
    "#### 2. What is the benefit of lambda?\n",
    "**Ans:** Benefits of lambda:\n",
    "Lambda functions are concise and can be written in a single line, making the code more compact.\n",
    "They are useful for quick and temporary function definitions.\n",
    "Lambda functions can be used as arguments to higher-order functions like map(), filter(), and sorted()."
   ]
  },
  {
   "cell_type": "markdown",
   "id": "c0abb1a0",
   "metadata": {},
   "source": [
    "#### 3. Compare and contrast map, filter, and reduce.\n",
    "**Ans:** Comparison of map, filter, and reduce:\n",
    "map(function, iterable): Applies the specified function to each item in the iterable and returns an iterator with the results.\n",
    "filter(function, iterable): Applies the specified function to each item in the iterable and returns an iterator with items that satisfy the condition defined in the function.\n",
    "reduce(function, iterable): Applies the specified function cumulatively to the items of the iterable from left to right to reduce it to a single value."
   ]
  },
  {
   "cell_type": "code",
   "execution_count": 1,
   "id": "a96df72c",
   "metadata": {},
   "outputs": [
    {
     "name": "stdout",
     "output_type": "stream",
     "text": [
      "Map -> [2, 4, 6, 8]\n",
      "Filter -> [1, 3]\n",
      "Reduce -> 21\n"
     ]
    }
   ],
   "source": [
    "from functools import reduce\n",
    "# map function\n",
    "print('Map ->',list(map(lambda x:x+x, [1,2,3,4])))\n",
    "# fitler function\n",
    "print('Filter ->',list(filter(lambda x:x%2 !=0, [1,2,3,4])))\n",
    "# reduce function\n",
    "print('Reduce ->',reduce(lambda x,y:x+y, [1,2,3,4,5,6]))"
   ]
  },
  {
   "cell_type": "markdown",
   "id": "ed66668e",
   "metadata": {},
   "source": [
    "#### 4. What are function annotations, and how are they used?\n",
    "**Ans:** Function annotations:\n",
    "Function annotations are a way to attach metadata to function arguments and the return value.\n",
    "They are used to specify the expected type of function arguments and the return value, but they don't enforce any type checking.\n",
    "Function annotations are added as expressions following the function arguments, separated by colons."
   ]
  },
  {
   "cell_type": "markdown",
   "id": "e91c02f9",
   "metadata": {},
   "source": [
    "#### 5. What are recursive functions, and how are they used?\n",
    "**Ans:** Recursive functions:\n",
    "Recursive functions are functions that call themselves during their execution.\n",
    "They are used to solve problems that can be divided into smaller sub-problems of the same type.\n",
    "Recursion allows elegant and concise solutions for certain problems, like calculating factorials or Fibonacci numbers."
   ]
  },
  {
   "cell_type": "markdown",
   "id": "0616de68",
   "metadata": {},
   "source": [
    "#### 6. What are some general design guidelines for coding functions?\n",
    "**Ans:** General design guidelines for coding functions:\n",
    "Functions should have a clear and descriptive name that indicates their purpose.\n",
    "Functions should be modular and perform a single task, making them easier to read and maintain.\n",
    "Functions should have a proper documentation string (docstring) that explains their purpose, arguments, and return values.\n",
    "Functions should use meaningful variable names and follow good coding practices for readability."
   ]
  },
  {
   "cell_type": "markdown",
   "id": "50555ec6",
   "metadata": {},
   "source": [
    "#### 7. Name three or more ways that functions can communicate results to a caller.\n",
    "**Ans:** Ways functions can communicate results to a caller:\n",
    "Return statements: Functions can use return statements to send back a value to the caller.\n",
    "Print statements: Functions can use print statements to display intermediate results or debugging information.\n",
    "Exceptions: Functions can raise exceptions to signal errors or exceptional conditions to the caller.\n",
    "Global variables: Functions can modify global variables to communicate results outside the function scope. However, this is generally discouraged for clarity and maintainability."
   ]
  }
 ],
 "metadata": {
  "kernelspec": {
   "display_name": "Python 3 (ipykernel)",
   "language": "python",
   "name": "python3"
  },
  "language_info": {
   "codemirror_mode": {
    "name": "ipython",
    "version": 3
   },
   "file_extension": ".py",
   "mimetype": "text/x-python",
   "name": "python",
   "nbconvert_exporter": "python",
   "pygments_lexer": "ipython3",
   "version": "3.9.0"
  }
 },
 "nbformat": 4,
 "nbformat_minor": 5
}
