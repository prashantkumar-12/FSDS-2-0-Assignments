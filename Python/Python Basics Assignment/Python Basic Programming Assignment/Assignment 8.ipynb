{
 "cells": [
  {
   "cell_type": "markdown",
   "id": "d3a4bb27",
   "metadata": {},
   "source": [
    "# Assignment 8 Solutions"
   ]
  },
  {
   "cell_type": "markdown",
   "id": "823845d3",
   "metadata": {},
   "source": [
    "#### 1. Write a Python Program to Add two Matrices ?"
   ]
  },
  {
   "cell_type": "code",
   "execution_count": 1,
   "id": "6dd2fd5c",
   "metadata": {},
   "outputs": [
    {
     "name": "stdout",
     "output_type": "stream",
     "text": [
      "Resultant Matrix after addition:\n",
      "[10, 10, 10]\n",
      "[10, 10, 10]\n",
      "[10, 10, 10]\n"
     ]
    }
   ],
   "source": [
    "def add_matrices(matrix1, matrix2):\n",
    "    result = [[matrix1[i][j] + matrix2[i][j] for j in range(len(matrix1[0]))] for i in range(len(matrix1))]\n",
    "    return result\n",
    "\n",
    "matrix1 = [[1, 2, 3],\n",
    "           [4, 5, 6],\n",
    "           [7, 8, 9]]\n",
    "\n",
    "matrix2 = [[9, 8, 7],\n",
    "           [6, 5, 4],\n",
    "           [3, 2, 1]]\n",
    "\n",
    "result = add_matrices(matrix1, matrix2)\n",
    "print(\"Resultant Matrix after addition:\")\n",
    "for row in result:\n",
    "    print(row)\n"
   ]
  },
  {
   "cell_type": "markdown",
   "id": "9e6c1983",
   "metadata": {},
   "source": [
    "#### 2. Write a Python Program to Multiply two Matrices ?"
   ]
  },
  {
   "cell_type": "code",
   "execution_count": 2,
   "id": "e5c57cb3",
   "metadata": {},
   "outputs": [
    {
     "name": "stdout",
     "output_type": "stream",
     "text": [
      "Resultant Matrix after multiplication:\n",
      "[19, 22]\n",
      "[43, 50]\n"
     ]
    }
   ],
   "source": [
    "def multiply_matrices(matrix1, matrix2):\n",
    "    result = [[sum(matrix1[i][k] * matrix2[k][j] for k in range(len(matrix2))) for j in range(len(matrix2[0]))] for i in range(len(matrix1))]\n",
    "    return result\n",
    "\n",
    "matrix1 = [[1, 2],\n",
    "           [3, 4]]\n",
    "\n",
    "matrix2 = [[5, 6],\n",
    "           [7, 8]]\n",
    "\n",
    "result = multiply_matrices(matrix1, matrix2)\n",
    "print(\"Resultant Matrix after multiplication:\")\n",
    "for row in result:\n",
    "    print(row)\n"
   ]
  },
  {
   "cell_type": "markdown",
   "id": "c2705b7d",
   "metadata": {},
   "source": [
    "#### 3. Write a Python Program to transpose a Matrix ?"
   ]
  },
  {
   "cell_type": "code",
   "execution_count": 3,
   "id": "08afb7ff",
   "metadata": {},
   "outputs": [
    {
     "name": "stdout",
     "output_type": "stream",
     "text": [
      "Transposed Matrix:\n",
      "[1, 4, 7]\n",
      "[2, 5, 8]\n",
      "[3, 6, 9]\n"
     ]
    }
   ],
   "source": [
    "def transpose_matrix(matrix):\n",
    "    result = [[matrix[j][i] for j in range(len(matrix))] for i in range(len(matrix[0]))]\n",
    "    return result\n",
    "\n",
    "matrix = [[1, 2, 3],\n",
    "          [4, 5, 6],\n",
    "          [7, 8, 9]]\n",
    "\n",
    "result = transpose_matrix(matrix)\n",
    "print(\"Transposed Matrix:\")\n",
    "for row in result:\n",
    "    print(row)\n"
   ]
  },
  {
   "cell_type": "markdown",
   "id": "5b6207c1",
   "metadata": {},
   "source": [
    "#### 4. Write a Python Program to sort Words in an Alphabatical Order ?"
   ]
  },
  {
   "cell_type": "code",
   "execution_count": 4,
   "id": "d6e5de3d",
   "metadata": {},
   "outputs": [
    {
     "name": "stdout",
     "output_type": "stream",
     "text": [
      "Sorted Words in Alphabetic Order: Python amazing an is language programming\n"
     ]
    }
   ],
   "source": [
    "def sort_words(sentence):\n",
    "    words = sentence.split()\n",
    "    words.sort()\n",
    "    return ' '.join(words)\n",
    "\n",
    "sentence = \"Python is an amazing programming language\"\n",
    "sorted_sentence = sort_words(sentence)\n",
    "print(\"Sorted Words in Alphabetic Order:\", sorted_sentence)\n"
   ]
  },
  {
   "cell_type": "markdown",
   "id": "eb0e084d",
   "metadata": {},
   "source": [
    "#### 5. Write a Python Program to remove Punctuations From a String ?"
   ]
  },
  {
   "cell_type": "code",
   "execution_count": 5,
   "id": "08c0196d",
   "metadata": {},
   "outputs": [
    {
     "name": "stdout",
     "output_type": "stream",
     "text": [
      "String after removing punctuation: Hello world This is a Python program\n"
     ]
    }
   ],
   "source": [
    "import string\n",
    "\n",
    "def remove_punctuation(input_string):\n",
    "    return input_string.translate(str.maketrans('', '', string.punctuation))\n",
    "\n",
    "input_string = \"Hello, world! This is a Python program.\"\n",
    "result = remove_punctuation(input_string)\n",
    "print(\"String after removing punctuation:\", result)\n"
   ]
  },
  {
   "cell_type": "code",
   "execution_count": null,
   "id": "4790c827",
   "metadata": {},
   "outputs": [],
   "source": []
  }
 ],
 "metadata": {
  "kernelspec": {
   "display_name": "Python 3 (ipykernel)",
   "language": "python",
   "name": "python3"
  },
  "language_info": {
   "codemirror_mode": {
    "name": "ipython",
    "version": 3
   },
   "file_extension": ".py",
   "mimetype": "text/x-python",
   "name": "python",
   "nbconvert_exporter": "python",
   "pygments_lexer": "ipython3",
   "version": "3.9.0"
  }
 },
 "nbformat": 4,
 "nbformat_minor": 5
}
