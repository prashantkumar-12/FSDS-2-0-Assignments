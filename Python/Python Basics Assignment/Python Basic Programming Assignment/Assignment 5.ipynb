{
 "cells": [
  {
   "cell_type": "markdown",
   "id": "9e1733f2",
   "metadata": {},
   "source": [
    "# Assignment 5 Solutions"
   ]
  },
  {
   "cell_type": "markdown",
   "id": "901748b2",
   "metadata": {},
   "source": [
    "#### 1. Write a Python Program to find LCM ?"
   ]
  },
  {
   "cell_type": "code",
   "execution_count": 1,
   "id": "91140999",
   "metadata": {},
   "outputs": [
    {
     "name": "stdout",
     "output_type": "stream",
     "text": [
      "Enter the first number: 5\n",
      "Enter the second number: 4\n",
      "LCM of 5 and 4 is 20\n"
     ]
    }
   ],
   "source": [
    "def find_gcd(x, y):\n",
    "    while(y):\n",
    "        x, y = y, x % y\n",
    "    return x\n",
    "\n",
    "def find_lcm(x, y):\n",
    "    return (x * y) // find_gcd(x, y)\n",
    "\n",
    "num1 = int(input(\"Enter the first number: \"))\n",
    "num2 = int(input(\"Enter the second number: \"))\n",
    "\n",
    "lcm = find_lcm(num1, num2)\n",
    "print(\"LCM of\", num1, \"and\", num2, \"is\", lcm)\n"
   ]
  },
  {
   "cell_type": "markdown",
   "id": "5998fa74",
   "metadata": {},
   "source": [
    "#### 2. Write a Python Program to find HCF ?"
   ]
  },
  {
   "cell_type": "code",
   "execution_count": 2,
   "id": "352d08d9",
   "metadata": {},
   "outputs": [
    {
     "name": "stdout",
     "output_type": "stream",
     "text": [
      "Enter the first number: 5\n",
      "Enter the second number: 3\n",
      "HCF of 5 and 3 is 1\n"
     ]
    }
   ],
   "source": [
    "def find_hcf(x, y):\n",
    "    while(y):\n",
    "        x, y = y, x % y\n",
    "    return x\n",
    "\n",
    "num1 = int(input(\"Enter the first number: \"))\n",
    "num2 = int(input(\"Enter the second number: \"))\n",
    "\n",
    "hcf = find_hcf(num1, num2)\n",
    "print(\"HCF of\", num1, \"and\", num2, \"is\", hcf)\n"
   ]
  },
  {
   "cell_type": "markdown",
   "id": "f29f8214",
   "metadata": {},
   "source": [
    "#### 3. Write a Python Program to Convert Decimal to Binary, Octal and Hexadecimal ?"
   ]
  },
  {
   "cell_type": "code",
   "execution_count": 3,
   "id": "53212645",
   "metadata": {},
   "outputs": [
    {
     "name": "stdout",
     "output_type": "stream",
     "text": [
      "Enter a decimal number: 8\n",
      "Binary representation: 0b1000\n",
      "Octal representation: 0o10\n",
      "Hexadecimal representation: 0x8\n"
     ]
    }
   ],
   "source": [
    "decimal_num = int(input(\"Enter a decimal number: \"))\n",
    "\n",
    "binary_num = bin(decimal_num)\n",
    "octal_num = oct(decimal_num)\n",
    "hexadecimal_num = hex(decimal_num)\n",
    "\n",
    "print(\"Binary representation:\", binary_num)\n",
    "print(\"Octal representation:\", octal_num)\n",
    "print(\"Hexadecimal representation:\", hexadecimal_num)\n"
   ]
  },
  {
   "cell_type": "markdown",
   "id": "1a4ed424",
   "metadata": {},
   "source": [
    "#### 4. Write a Python Program to Find the ASCII value of  a Character ?"
   ]
  },
  {
   "cell_type": "code",
   "execution_count": 4,
   "id": "8173265f",
   "metadata": {},
   "outputs": [
    {
     "name": "stdout",
     "output_type": "stream",
     "text": [
      "Enter a character: 3\n",
      "ASCII value of 3 is 51\n"
     ]
    }
   ],
   "source": [
    "character = input(\"Enter a character: \")\n",
    "ascii_value = ord(character)\n",
    "print(\"ASCII value of\", character, \"is\", ascii_value)\n"
   ]
  },
  {
   "cell_type": "markdown",
   "id": "e9f467f1",
   "metadata": {},
   "source": [
    "#### 5. Write a Python Program to Make a Simple Calculator with 4 Basic Mathematical operations ?"
   ]
  },
  {
   "cell_type": "code",
   "execution_count": 5,
   "id": "846d7a21",
   "metadata": {},
   "outputs": [
    {
     "name": "stdout",
     "output_type": "stream",
     "text": [
      "Select operation:\n",
      "1. Add\n",
      "2. Subtract\n",
      "3. Multiply\n",
      "4. Divide\n",
      "Enter choice (1/2/3/4): 3\n",
      "Enter first number: 34\n",
      "Enter second number: 38\n",
      "Result: 1292.0\n"
     ]
    }
   ],
   "source": [
    "def add(x, y):\n",
    "    return x + y\n",
    "\n",
    "def subtract(x, y):\n",
    "    return x - y\n",
    "\n",
    "def multiply(x, y):\n",
    "    return x * y\n",
    "\n",
    "def divide(x, y):\n",
    "    return x / y\n",
    "\n",
    "print(\"Select operation:\")\n",
    "print(\"1. Add\")\n",
    "print(\"2. Subtract\")\n",
    "print(\"3. Multiply\")\n",
    "print(\"4. Divide\")\n",
    "\n",
    "choice = input(\"Enter choice (1/2/3/4): \")\n",
    "\n",
    "num1 = float(input(\"Enter first number: \"))\n",
    "num2 = float(input(\"Enter second number: \"))\n",
    "\n",
    "if choice == '1':\n",
    "    print(\"Result:\", add(num1, num2))\n",
    "elif choice == '2':\n",
    "    print(\"Result:\", subtract(num1, num2))\n",
    "elif choice == '3':\n",
    "    print(\"Result:\", multiply(num1, num2))\n",
    "elif choice == '4':\n",
    "    print(\"Result:\", divide(num1, num2))\n",
    "else:\n",
    "    print(\"Invalid choice\")\n"
   ]
  },
  {
   "cell_type": "code",
   "execution_count": null,
   "id": "91b1319d",
   "metadata": {},
   "outputs": [],
   "source": []
  }
 ],
 "metadata": {
  "kernelspec": {
   "display_name": "Python 3 (ipykernel)",
   "language": "python",
   "name": "python3"
  },
  "language_info": {
   "codemirror_mode": {
    "name": "ipython",
    "version": 3
   },
   "file_extension": ".py",
   "mimetype": "text/x-python",
   "name": "python",
   "nbconvert_exporter": "python",
   "pygments_lexer": "ipython3",
   "version": "3.9.0"
  }
 },
 "nbformat": 4,
 "nbformat_minor": 5
}
