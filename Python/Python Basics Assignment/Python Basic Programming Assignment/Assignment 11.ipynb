{
 "cells": [
  {
   "cell_type": "markdown",
   "id": "e9523fbb",
   "metadata": {},
   "source": [
    "# Assignment 11 Solutions"
   ]
  },
  {
   "cell_type": "markdown",
   "id": "267b6b8f",
   "metadata": {},
   "source": [
    "#### 1. Write a Python program to find words which are greater than given length k ?"
   ]
  },
  {
   "cell_type": "code",
   "execution_count": 1,
   "id": "d3ec10f6",
   "metadata": {},
   "outputs": [
    {
     "name": "stdout",
     "output_type": "stream",
     "text": [
      "Words greater than length 4 : ['sample', 'words', 'greater', 'length']\n"
     ]
    }
   ],
   "source": [
    "def find_words_greater_than_k(string, k):\n",
    "    words = string.split()\n",
    "    result = [word for word in words if len(word) > k]\n",
    "    return result\n",
    "\n",
    "text = \"This is a sample text to find words greater than length 4\"\n",
    "k = 4\n",
    "print(\"Words greater than length\", k, \":\", find_words_greater_than_k(text, k))\n"
   ]
  },
  {
   "cell_type": "markdown",
   "id": "3711485d",
   "metadata": {},
   "source": [
    "#### 2. Write a Python program for removing i-th character from a string ?"
   ]
  },
  {
   "cell_type": "code",
   "execution_count": 2,
   "id": "f7fccd01",
   "metadata": {},
   "outputs": [
    {
     "name": "stdout",
     "output_type": "stream",
     "text": [
      "String after removing i-th character: Hell, World!\n"
     ]
    }
   ],
   "source": [
    "def remove_ith_character(string, i):\n",
    "    if i < 0 or i >= len(string):\n",
    "        return \"Invalid index\"\n",
    "    return string[:i] + string[i+1:]\n",
    "\n",
    "text = \"Hello, World!\"\n",
    "i = 4\n",
    "print(\"String after removing i-th character:\", remove_ith_character(text, i))\n"
   ]
  },
  {
   "cell_type": "markdown",
   "id": "845ba790",
   "metadata": {},
   "source": [
    "#### 3. Write a Python program to split and join a string ?"
   ]
  },
  {
   "cell_type": "code",
   "execution_count": 4,
   "id": "fd82df54",
   "metadata": {},
   "outputs": [
    {
     "name": "stdout",
     "output_type": "stream",
     "text": [
      "String after split and join: Prashant-Yadav\n"
     ]
    }
   ],
   "source": [
    "def split_and_join(string):\n",
    "    words = string.split()\n",
    "    return \"-\".join(words)\n",
    "\n",
    "text = \"Prashant Yadav\"\n",
    "print(\"String after split and join:\", split_and_join(text))\n"
   ]
  },
  {
   "cell_type": "markdown",
   "id": "ee642cdf",
   "metadata": {},
   "source": [
    "#### 4. Write a Python to check if a given string is binary string or not ?"
   ]
  },
  {
   "cell_type": "code",
   "execution_count": 5,
   "id": "6d04b29e",
   "metadata": {},
   "outputs": [
    {
     "name": "stdout",
     "output_type": "stream",
     "text": [
      "Is binary string? True\n"
     ]
    }
   ],
   "source": [
    "def is_binary_string(string):\n",
    "    for char in string:\n",
    "        if char not in \"01\":\n",
    "            return False\n",
    "    return True\n",
    "\n",
    "text = \"101010101010\"\n",
    "print(\"Is binary string?\", is_binary_string(text))\n"
   ]
  },
  {
   "cell_type": "markdown",
   "id": "d22e2622",
   "metadata": {},
   "source": [
    "#### 5. Write a Python program to find uncommon words from two Strings ?"
   ]
  },
  {
   "cell_type": "code",
   "execution_count": 6,
   "id": "be223e06",
   "metadata": {},
   "outputs": [
    {
     "name": "stdout",
     "output_type": "stream",
     "text": [
      "Uncommon words: ['a', 'another']\n"
     ]
    }
   ],
   "source": [
    "def find_uncommon_words(str1, str2):\n",
    "    words1 = set(str1.split())\n",
    "    words2 = set(str2.split())\n",
    "    uncommon_words = words1.symmetric_difference(words2)\n",
    "    return list(uncommon_words)\n",
    "\n",
    "text1 = \"This is a sample text\"\n",
    "text2 = \"This is another sample text\"\n",
    "print(\"Uncommon words:\", find_uncommon_words(text1, text2))\n"
   ]
  },
  {
   "cell_type": "markdown",
   "id": "a077bda5",
   "metadata": {},
   "source": [
    "#### 6. Write a Python to find all duplicate characters in string ?"
   ]
  },
  {
   "cell_type": "code",
   "execution_count": 7,
   "id": "6116a494",
   "metadata": {},
   "outputs": [
    {
     "name": "stdout",
     "output_type": "stream",
     "text": [
      "Duplicate characters: ['l', 'o']\n"
     ]
    }
   ],
   "source": [
    "def find_duplicate_characters(string):\n",
    "    duplicates = [char for char in string if string.count(char) > 1]\n",
    "    return list(set(duplicates))\n",
    "\n",
    "text = \"Hello, World!\"\n",
    "print(\"Duplicate characters:\", find_duplicate_characters(text))\n"
   ]
  },
  {
   "cell_type": "markdown",
   "id": "e14912b1",
   "metadata": {},
   "source": [
    "#### 7. Write a Python Program to check if a string contains any special character?"
   ]
  },
  {
   "cell_type": "code",
   "execution_count": 8,
   "id": "b51b221d",
   "metadata": {},
   "outputs": [
    {
     "name": "stdout",
     "output_type": "stream",
     "text": [
      "Contains special character? True\n"
     ]
    }
   ],
   "source": [
    "import re\n",
    "\n",
    "def contains_special_character(string):\n",
    "    special_characters = re.compile('[@_!#$%^&*()<>?/\\|}{~:]')\n",
    "    return bool(special_characters.search(string))\n",
    "\n",
    "text = \"Hello, World!\"\n",
    "print(\"Contains special character?\", contains_special_character(text))\n"
   ]
  },
  {
   "cell_type": "code",
   "execution_count": null,
   "id": "4e8a4de3",
   "metadata": {},
   "outputs": [],
   "source": []
  }
 ],
 "metadata": {
  "kernelspec": {
   "display_name": "Python 3 (ipykernel)",
   "language": "python",
   "name": "python3"
  },
  "language_info": {
   "codemirror_mode": {
    "name": "ipython",
    "version": 3
   },
   "file_extension": ".py",
   "mimetype": "text/x-python",
   "name": "python",
   "nbconvert_exporter": "python",
   "pygments_lexer": "ipython3",
   "version": "3.9.0"
  }
 },
 "nbformat": 4,
 "nbformat_minor": 5
}
