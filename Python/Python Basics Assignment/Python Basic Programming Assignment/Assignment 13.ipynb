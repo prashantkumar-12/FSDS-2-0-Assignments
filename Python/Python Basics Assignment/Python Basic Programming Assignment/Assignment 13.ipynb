{
 "cells": [
  {
   "cell_type": "markdown",
   "id": "bf5409c0",
   "metadata": {},
   "source": [
    "# Assignment 13 Answers"
   ]
  },
  {
   "cell_type": "markdown",
   "id": "e73a2da3",
   "metadata": {},
   "source": [
    "##### Write a program that calculates and prints the value according to the given formula:\n",
    "\n",
    "Q = Square root of [(2 * C * D)/H]\n",
    "\n",
    "Following are the fixed values of C and H:\n",
    "\n",
    "C is 50. H is 30.\n",
    "\n",
    "D is the variable whose values should be input to your program in a comma-separated sequence.\n",
    "\n",
    "Example\n",
    "\n",
    "Let us assume the following comma separated input sequence is given to the program:\n",
    "\n",
    "100,150,180\n",
    "\n",
    "The output of the program should be:\n",
    "\n",
    "18,22,24\n"
   ]
  },
  {
   "cell_type": "code",
   "execution_count": 1,
   "id": "ef7d1c7c",
   "metadata": {},
   "outputs": [
    {
     "name": "stdout",
     "output_type": "stream",
     "text": [
      "Enter comma-separated values for D: 54\n",
      "13\n"
     ]
    }
   ],
   "source": [
    "import math\n",
    "\n",
    "C = 50\n",
    "H = 30\n",
    "\n",
    "def calculate_q(d_values):\n",
    "    result = []\n",
    "    for d in d_values:\n",
    "        Q = int(math.sqrt((2 * C * d) / H))\n",
    "        result.append(Q)\n",
    "    return result\n",
    "\n",
    "input_sequence = input(\"Enter comma-separated values for D: \")\n",
    "d_values = [int(d) for d in input_sequence.split(\",\")]\n",
    "\n",
    "output_values = calculate_q(d_values)\n",
    "print(\",\".join(str(q) for q in output_values))\n"
   ]
  },
  {
   "cell_type": "markdown",
   "id": "2f5b884e",
   "metadata": {},
   "source": [
    "#### Write a program which takes 2 digits, X,Y as input and generates a 2-dimensional array. The element value in the i-th row and j-th column of the array should be i*j.\n",
    "\n",
    "Note: i=0,1.., X-1; j=0,1,¡¬Y-1.\n",
    "\n",
    "Example\n",
    "\n",
    "Suppose the following inputs are given to the program:\n",
    "\n",
    "3,5\n",
    "\n",
    "Then, the output of the program should be:\n",
    "\n",
    "[[0, 0, 0, 0, 0], [0, 1, 2, 3, 4], [0, 2, 4, 6, 8]] \n"
   ]
  },
  {
   "cell_type": "code",
   "execution_count": 3,
   "id": "999879ce",
   "metadata": {},
   "outputs": [
    {
     "name": "stdout",
     "output_type": "stream",
     "text": [
      "Enter two digits (X,Y): 3,5\n",
      "[[0, 0, 0, 0, 0], [0, 1, 2, 3, 4], [0, 2, 4, 6, 8]]\n"
     ]
    }
   ],
   "source": [
    "def generate_2d_array(x, y):\n",
    "    result = []\n",
    "    for i in range(x):\n",
    "        row = []\n",
    "        for j in range(y):\n",
    "            row.append(i * j)\n",
    "        result.append(row)\n",
    "    return result\n",
    "\n",
    "input_str = input(\"Enter two digits (X,Y): \")\n",
    "x, y = map(int, input_str.split(\",\"))\n",
    "\n",
    "output_array = generate_2d_array(x, y)\n",
    "print(output_array)\n",
    "\n"
   ]
  },
  {
   "cell_type": "markdown",
   "id": "512e5348",
   "metadata": {},
   "source": [
    "#### 3.Write a program that accepts a comma separated sequence of words as input and prints the words in a comma-separated sequence after sorting them alphabetically.\n",
    "\n",
    "Suppose the following input is supplied to the program:\n",
    "\n",
    "without,hello,bag,world\n",
    "\n",
    "Then, the output should be:\n",
    "\n",
    "bag,hello,without,world\n"
   ]
  },
  {
   "cell_type": "code",
   "execution_count": 4,
   "id": "d62e5da5",
   "metadata": {},
   "outputs": [
    {
     "name": "stdout",
     "output_type": "stream",
     "text": [
      "Enter comma-separated words: without,hello,bag,world\n",
      "bag,hello,without,world\n"
     ]
    }
   ],
   "source": [
    "input_str = input(\"Enter comma-separated words: \")\n",
    "words = input_str.split(\",\")\n",
    "words.sort()\n",
    "output_str = \",\".join(words)\n",
    "print(output_str)\n"
   ]
  },
  {
   "cell_type": "markdown",
   "id": "67d99dab",
   "metadata": {},
   "source": [
    "#### 4.Write a program that accepts a sequence of whitespace separated words as input and prints the words after removing all duplicate words and sorting them alphanumerically.\n",
    "\n",
    "Suppose the following input is supplied to the program:\n",
    "\n",
    "hello world and practice makes perfect and hello world again\n",
    "\n",
    "Then, the output should be:\n",
    "\n",
    "again and hello makes perfect practice world\n"
   ]
  },
  {
   "cell_type": "code",
   "execution_count": 5,
   "id": "2633f827",
   "metadata": {},
   "outputs": [
    {
     "name": "stdout",
     "output_type": "stream",
     "text": [
      "Enter whitespace-separated words: hello world and practice makes perfect and hello world again\n",
      "again and hello makes perfect practice world\n"
     ]
    }
   ],
   "source": [
    "input_str = input(\"Enter whitespace-separated words: \")\n",
    "words = input_str.split()\n",
    "unique_words = sorted(set(words))\n",
    "output_str = \" \".join(unique_words)\n",
    "print(output_str)\n"
   ]
  },
  {
   "cell_type": "markdown",
   "id": "bf647aa0",
   "metadata": {},
   "source": [
    "#### 5.Write a program that accepts a sentence and calculate the number of letters and digits.\n",
    "\n",
    "Suppose the following input is supplied to the program:\n",
    "\n",
    "hello world! 123\n",
    "\n",
    "Then, the output should be:\n",
    "\n",
    "LETTERS 10\n",
    "\n",
    "DIGITS 3\n"
   ]
  },
  {
   "cell_type": "code",
   "execution_count": 6,
   "id": "a1055c73",
   "metadata": {},
   "outputs": [
    {
     "name": "stdout",
     "output_type": "stream",
     "text": [
      "Enter a sentence: hello world! 123\n",
      "LETTERS 10\n",
      "DIGITS 3\n"
     ]
    }
   ],
   "source": [
    "input_str = input(\"Enter a sentence: \")\n",
    "letter_count = 0\n",
    "digit_count = 0\n",
    "\n",
    "for char in input_str:\n",
    "    if char.isalpha():\n",
    "        letter_count += 1\n",
    "    elif char.isdigit():\n",
    "        digit_count += 1\n",
    "\n",
    "print(\"LETTERS\", letter_count)\n",
    "print(\"DIGITS\", digit_count)\n"
   ]
  },
  {
   "cell_type": "markdown",
   "id": "925eb219",
   "metadata": {},
   "source": [
    "#### 6.A website requires the users to input username and password to register. Write a program to check the validity of password input by users.\n",
    "\n",
    "Following are the criteria for checking the password:\n",
    "\n",
    "1. At least 1 letter between [a-z]\n",
    "\n",
    "2. At least 1 number between [0-9]\n",
    "\n",
    "1. At least 1 letter between [A-Z]\n",
    "\n",
    "3. At least 1 character from [$#@]\n",
    "\n",
    "4. Minimum length of transaction password: 6\n",
    "\n",
    "5. Maximum length of transaction password: 12\n",
    "\n",
    "Your program should accept a sequence of comma separated passwords and will check them according to the above criteria. Passwords that match the criteria are to be printed, each separated by a comma.\n",
    "\n",
    "Example\n",
    "\n",
    "If the following passwords are given as input to the program:\n",
    "\n",
    "ABd1234@1,a F1#,2w3E*,2We3345\n",
    "\n",
    "Then, the output of the program should be:\n",
    "\n",
    "ABd1234@1\n"
   ]
  },
  {
   "cell_type": "code",
   "execution_count": 7,
   "id": "b7b299c2",
   "metadata": {},
   "outputs": [
    {
     "name": "stdout",
     "output_type": "stream",
     "text": [
      "Enter comma separated passwords: ABd1234@1,a F1#,2w3E*,2We3345\n",
      "ABd1234@1\n"
     ]
    }
   ],
   "source": [
    "import re\n",
    "\n",
    "def is_valid_password(password):\n",
    "    if len(password) < 6 or len(password) > 12:\n",
    "        return False\n",
    "    if not re.search(\"[a-z]\", password):\n",
    "        return False\n",
    "    if not re.search(\"[0-9]\", password):\n",
    "        return False\n",
    "    if not re.search(\"[A-Z]\", password):\n",
    "        return False\n",
    "    if not re.search(\"[$#@]\", password):\n",
    "        return False\n",
    "    return True\n",
    "\n",
    "input_passwords = input(\"Enter comma separated passwords: \")\n",
    "password_list = input_passwords.split(\",\")\n",
    "\n",
    "valid_passwords = [password for password in password_list if is_valid_password(password)]\n",
    "\n",
    "print(\",\".join(valid_passwords))\n"
   ]
  },
  {
   "cell_type": "code",
   "execution_count": null,
   "id": "00ac340f",
   "metadata": {},
   "outputs": [],
   "source": []
  }
 ],
 "metadata": {
  "kernelspec": {
   "display_name": "Python 3 (ipykernel)",
   "language": "python",
   "name": "python3"
  },
  "language_info": {
   "codemirror_mode": {
    "name": "ipython",
    "version": 3
   },
   "file_extension": ".py",
   "mimetype": "text/x-python",
   "name": "python",
   "nbconvert_exporter": "python",
   "pygments_lexer": "ipython3",
   "version": "3.9.0"
  }
 },
 "nbformat": 4,
 "nbformat_minor": 5
}
