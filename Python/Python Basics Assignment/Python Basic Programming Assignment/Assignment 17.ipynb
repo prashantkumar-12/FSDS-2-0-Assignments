{
 "cells": [
  {
   "cell_type": "markdown",
   "id": "85eacd12",
   "metadata": {},
   "source": [
    "# Assignment 17 Solutions"
   ]
  },
  {
   "cell_type": "markdown",
   "id": "86c4e861",
   "metadata": {},
   "source": [
    "#### 1.Create a function that takes three arguments a, b, c and returns the sum of the numbers that are evenly divided by c from the range a, b inclusive.\n",
    "Examples\n",
    "evenly_divisible(1, 10, 20) ➞ 0\n",
    "#No number between 1 and 10 can be evenly divided by 20.\n",
    "\n",
    "evnly_divisible(1, 10, 2) ➞ 30\n",
    "#2 + 4 + 6 + 8 + 10 = 30\n",
    "\n",
    "evenly_divisible(1, 10, 3) ➞ 18\n",
    "#3 + 6 + 9 = 18\n"
   ]
  },
  {
   "cell_type": "code",
   "execution_count": 1,
   "id": "b9f60e1c",
   "metadata": {},
   "outputs": [
    {
     "name": "stdout",
     "output_type": "stream",
     "text": [
      "0\n",
      "30\n",
      "18\n"
     ]
    }
   ],
   "source": [
    "def evenly_divisible(a, b, c):\n",
    "    return sum(num for num in range(a, b+1) if num % c == 0)\n",
    "\n",
    "# Test cases\n",
    "print(evenly_divisible(1, 10, 20)) \n",
    "print(evenly_divisible(1, 10, 2)) \n",
    "print(evenly_divisible(1, 10, 3))  \n"
   ]
  },
  {
   "cell_type": "markdown",
   "id": "8589ab33",
   "metadata": {},
   "source": [
    "#### 2.Create a function that returns True if a given inequality expression is correct and False otherwise.\n",
    "Examples\n",
    "correct_signs(\"3 < 7 < 11\") ➞ True\n",
    "\n",
    "correct_signs(\"13 > 44 > 33 > 1\") ➞ False\n",
    "\n",
    "correct_signs(\"1 < 2 < 6 < 9 > 3\") ➞ True\n"
   ]
  },
  {
   "cell_type": "code",
   "execution_count": 2,
   "id": "0021eeb2",
   "metadata": {},
   "outputs": [
    {
     "name": "stdout",
     "output_type": "stream",
     "text": [
      "True\n",
      "False\n",
      "True\n"
     ]
    }
   ],
   "source": [
    "def correct_signs(expr):\n",
    "    return eval(expr)\n",
    "\n",
    "# Test cases\n",
    "print(correct_signs(\"3 < 7 < 11\"))         \n",
    "print(correct_signs(\"13 > 44 > 33 > 1\"))   \n",
    "print(correct_signs(\"1 < 2 < 6 < 9 > 3\"))\n"
   ]
  },
  {
   "cell_type": "markdown",
   "id": "d7200223",
   "metadata": {},
   "source": [
    "#### 3.Create a function that replaces all the vowels in a string with a specified character.\n",
    "Examples\n",
    "replace_vowels(\"the aardvark\", \"#\") ➞ \"th# ##rdv#rk\"\n",
    "\n",
    "replace_vowels(\"minnie mouse\", \"?\") ➞ \"m?nn?? m??s?\"\n",
    "\n",
    "replace_vowels(\"shakespeare\", \"*\") ➞ \"sh*k*sp**r*\"\n"
   ]
  },
  {
   "cell_type": "code",
   "execution_count": 3,
   "id": "e83aad2e",
   "metadata": {},
   "outputs": [
    {
     "name": "stdout",
     "output_type": "stream",
     "text": [
      "th# ##rdv#rk\n",
      "m?nn?? m??s?\n",
      "sh*k*sp**r*\n"
     ]
    }
   ],
   "source": [
    "def replace_vowels(string, replacement_char):\n",
    "    vowels = \"aeiouAEIOU\"\n",
    "    result = \"\"\n",
    "    for char in string:\n",
    "        if char in vowels:\n",
    "            result += replacement_char\n",
    "        else:\n",
    "            result += char\n",
    "    return result\n",
    "\n",
    "# Test cases\n",
    "print(replace_vowels(\"the aardvark\", \"#\"))    \n",
    "print(replace_vowels(\"minnie mouse\", \"?\"))    \n",
    "print(replace_vowels(\"shakespeare\", \"*\"))     "
   ]
  },
  {
   "cell_type": "markdown",
   "id": "4c343c6e",
   "metadata": {},
   "source": [
    "#### 4.Write a function that calculates the factorial of a number recursively.\n",
    "Examples\n",
    "factorial(5) ➞ 120\n",
    "\n",
    "factorial(3) ➞ 6\n",
    "\n",
    "factorial(1) ➞ 1\n",
    "\n",
    "factorial(0) ➞ 1\n"
   ]
  },
  {
   "cell_type": "code",
   "execution_count": 4,
   "id": "4d026831",
   "metadata": {},
   "outputs": [
    {
     "name": "stdout",
     "output_type": "stream",
     "text": [
      "120\n",
      "6\n",
      "1\n",
      "1\n"
     ]
    }
   ],
   "source": [
    "def factorial(n):\n",
    "    if n == 0 or n == 1:\n",
    "        return 1\n",
    "    else:\n",
    "        return n * factorial(n - 1)\n",
    "\n",
    "# Test cases\n",
    "print(factorial(5))   \n",
    "print(factorial(3))   \n",
    "print(factorial(1))    \n",
    "print(factorial(0))    \n"
   ]
  },
  {
   "cell_type": "markdown",
   "id": "a0d0b57f",
   "metadata": {},
   "source": [
    "#### 5.Hamming distance is the number of characters that differ between two strings.\n",
    "To illustrate:\n",
    "String1: \"abcbba\"\n",
    "String2: \"abcbda\"\n",
    "\n",
    "Hamming Distance: 1 - \"b\" vs. \"d\" is the only difference.\n",
    "Create a function that computes the hamming distance between two strings.\n",
    "Examples\n",
    "hamming_distance(\"abcde\", \"bcdef\") ➞ 5\n",
    "\n",
    "hamming_distance(\"abcde\", \"abcde\") ➞ 0\n",
    "\n",
    "hamming_distance(\"strong\", \"strung\") ➞ 1\n",
    "\n",
    "\n"
   ]
  },
  {
   "cell_type": "code",
   "execution_count": 5,
   "id": "d72b29ae",
   "metadata": {},
   "outputs": [
    {
     "name": "stdout",
     "output_type": "stream",
     "text": [
      "5\n",
      "0\n",
      "1\n"
     ]
    }
   ],
   "source": [
    "def hamming_distance(str1, str2):\n",
    "    if len(str1) != len(str2):\n",
    "        raise ValueError(\"Input strings must be of the same length.\")\n",
    "    \n",
    "    distance = 0\n",
    "    for char1, char2 in zip(str1, str2):\n",
    "        if char1 != char2:\n",
    "            distance += 1\n",
    "    \n",
    "    return distance\n",
    "\n",
    "# Test cases\n",
    "print(hamming_distance(\"abcde\", \"bcdef\"))  \n",
    "print(hamming_distance(\"abcde\", \"abcde\"))   \n",
    "print(hamming_distance(\"strong\", \"strung\")) \n"
   ]
  },
  {
   "cell_type": "code",
   "execution_count": null,
   "id": "2ce91e0b",
   "metadata": {},
   "outputs": [],
   "source": []
  }
 ],
 "metadata": {
  "kernelspec": {
   "display_name": "Python 3 (ipykernel)",
   "language": "python",
   "name": "python3"
  },
  "language_info": {
   "codemirror_mode": {
    "name": "ipython",
    "version": 3
   },
   "file_extension": ".py",
   "mimetype": "text/x-python",
   "name": "python",
   "nbconvert_exporter": "python",
   "pygments_lexer": "ipython3",
   "version": "3.9.0"
  }
 },
 "nbformat": 4,
 "nbformat_minor": 5
}
