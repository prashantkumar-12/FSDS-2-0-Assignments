{
 "cells": [
  {
   "cell_type": "markdown",
   "id": "0753e292",
   "metadata": {},
   "source": [
    "# Assignment 10 Solutions"
   ]
  },
  {
   "cell_type": "markdown",
   "id": "d6f96d38",
   "metadata": {},
   "source": [
    "#### 1.Write a Python Program to find sum of elements in a list ?"
   ]
  },
  {
   "cell_type": "code",
   "execution_count": 1,
   "id": "1fbea5b2",
   "metadata": {},
   "outputs": [
    {
     "name": "stdout",
     "output_type": "stream",
     "text": [
      "Sum of elements: 15\n"
     ]
    }
   ],
   "source": [
    "def sum_of_elements(lst):\n",
    "    return sum(lst)\n",
    "\n",
    "numbers = [1, 2, 3, 4, 5]\n",
    "print(\"Sum of elements:\", sum_of_elements(numbers))\n"
   ]
  },
  {
   "cell_type": "markdown",
   "id": "35ff9c7c",
   "metadata": {},
   "source": [
    "#### 2.Write a Python Program to multiply all numbers in the list ?"
   ]
  },
  {
   "cell_type": "code",
   "execution_count": 2,
   "id": "d77e77e6",
   "metadata": {},
   "outputs": [
    {
     "name": "stdout",
     "output_type": "stream",
     "text": [
      "Multiplication of numbers: 120\n"
     ]
    }
   ],
   "source": [
    "def multiply_numbers(lst):\n",
    "    result = 1\n",
    "    for num in lst:\n",
    "        result *= num\n",
    "    return result\n",
    "\n",
    "numbers = [1, 2, 3, 4, 5]\n",
    "print(\"Multiplication of numbers:\", multiply_numbers(numbers))\n"
   ]
  },
  {
   "cell_type": "markdown",
   "id": "0561967b",
   "metadata": {},
   "source": [
    "#### 3.Write a Python Program to find smallest number in the list ?"
   ]
  },
  {
   "cell_type": "code",
   "execution_count": 3,
   "id": "3e9863eb",
   "metadata": {},
   "outputs": [
    {
     "name": "stdout",
     "output_type": "stream",
     "text": [
      "Smallest number: 2\n"
     ]
    }
   ],
   "source": [
    "def find_smallest_number(lst):\n",
    "    return min(lst)\n",
    "\n",
    "numbers = [10, 5, 8, 2, 15]\n",
    "print(\"Smallest number:\", find_smallest_number(numbers))\n"
   ]
  },
  {
   "cell_type": "markdown",
   "id": "0684d2e6",
   "metadata": {},
   "source": [
    "#### 4.Write a Python Program to find largest number in the list ?"
   ]
  },
  {
   "cell_type": "code",
   "execution_count": 4,
   "id": "c1984a1c",
   "metadata": {},
   "outputs": [
    {
     "name": "stdout",
     "output_type": "stream",
     "text": [
      "Largest number: 15\n"
     ]
    }
   ],
   "source": [
    "def find_largest_number(lst):\n",
    "    return max(lst)\n",
    "\n",
    "numbers = [10, 5, 8, 2, 15]\n",
    "print(\"Largest number:\", find_largest_number(numbers))\n"
   ]
  },
  {
   "cell_type": "markdown",
   "id": "ef882ac4",
   "metadata": {},
   "source": [
    "#### 5.Write a Python Program to find second largest number in the list ?"
   ]
  },
  {
   "cell_type": "code",
   "execution_count": 5,
   "id": "ca2c5e29",
   "metadata": {},
   "outputs": [
    {
     "name": "stdout",
     "output_type": "stream",
     "text": [
      "Second largest number: 10\n"
     ]
    }
   ],
   "source": [
    "def find_second_largest_number(lst):\n",
    "    sorted_list = sorted(lst, reverse=True)\n",
    "    return sorted_list[1]\n",
    "\n",
    "numbers = [10, 5, 8, 2, 15]\n",
    "print(\"Second largest number:\", find_second_largest_number(numbers))\n"
   ]
  },
  {
   "cell_type": "markdown",
   "id": "ee185d52",
   "metadata": {},
   "source": [
    "#### 6.Write a Python Program to find N largest elements in the list ?"
   ]
  },
  {
   "cell_type": "code",
   "execution_count": 6,
   "id": "e2c518fa",
   "metadata": {},
   "outputs": [
    {
     "name": "stdout",
     "output_type": "stream",
     "text": [
      "3 largest elements: [15, 10, 8]\n"
     ]
    }
   ],
   "source": [
    "def find_n_largest_elements(lst, n):\n",
    "    sorted_list = sorted(lst, reverse=True)\n",
    "    return sorted_list[:n]\n",
    "\n",
    "numbers = [10, 5, 8, 2, 15]\n",
    "n = 3\n",
    "print(f\"{n} largest elements:\", find_n_largest_elements(numbers, n))\n"
   ]
  },
  {
   "cell_type": "markdown",
   "id": "7f5a2b91",
   "metadata": {},
   "source": [
    "#### 7.Write a Python Program to find even numbers in the list ?"
   ]
  },
  {
   "cell_type": "code",
   "execution_count": 7,
   "id": "e9b0d19a",
   "metadata": {},
   "outputs": [
    {
     "name": "stdout",
     "output_type": "stream",
     "text": [
      "Even numbers: [2, 4, 6, 8, 10]\n"
     ]
    }
   ],
   "source": [
    "def print_even_numbers(lst):\n",
    "    even_numbers = [num for num in lst if num % 2 == 0]\n",
    "    print(\"Even numbers:\", even_numbers)\n",
    "\n",
    "numbers = [1, 2, 3, 4, 5, 6, 7, 8, 9, 10]\n",
    "print_even_numbers(numbers)\n"
   ]
  },
  {
   "cell_type": "markdown",
   "id": "a5d3f862",
   "metadata": {},
   "source": [
    "#### 8.Write a Python Program to find odd numbers in the list ?"
   ]
  },
  {
   "cell_type": "code",
   "execution_count": 8,
   "id": "101d0718",
   "metadata": {},
   "outputs": [
    {
     "name": "stdout",
     "output_type": "stream",
     "text": [
      "Odd numbers: [1, 3, 5, 7, 9]\n"
     ]
    }
   ],
   "source": [
    "def print_odd_numbers(lst):\n",
    "    odd_numbers = [num for num in lst if num % 2 != 0]\n",
    "    print(\"Odd numbers:\", odd_numbers)\n",
    "\n",
    "numbers = [1, 2, 3, 4, 5, 6, 7, 8, 9, 10]\n",
    "print_odd_numbers(numbers)\n"
   ]
  },
  {
   "cell_type": "markdown",
   "id": "f97fa7ea",
   "metadata": {},
   "source": [
    "#### 9.Write a Python Program to remove empty list from list ?"
   ]
  },
  {
   "cell_type": "code",
   "execution_count": 9,
   "id": "193a2ef1",
   "metadata": {},
   "outputs": [
    {
     "name": "stdout",
     "output_type": "stream",
     "text": [
      "List with empty lists removed: [1, 2, 3, [4, 5], 6]\n"
     ]
    }
   ],
   "source": [
    "def remove_empty_lists(lst):\n",
    "    return [sublist for sublist in lst if sublist]\n",
    "\n",
    "data = [1, 2, [], 3, [], [4, 5], [], 6]\n",
    "print(\"List with empty lists removed:\", remove_empty_lists(data))\n"
   ]
  },
  {
   "cell_type": "markdown",
   "id": "1a5b1f91",
   "metadata": {},
   "source": [
    "#### 10.Write a Python Program to Cloning or Copying a list ?"
   ]
  },
  {
   "cell_type": "code",
   "execution_count": 10,
   "id": "55882ca5",
   "metadata": {},
   "outputs": [
    {
     "name": "stdout",
     "output_type": "stream",
     "text": [
      "Cloned list: [1, 2, 3, 4, 5]\n"
     ]
    }
   ],
   "source": [
    "def clone_list(lst):\n",
    "    return lst.copy()\n",
    "\n",
    "numbers = [1, 2, 3, 4, 5]\n",
    "cloned_list = clone_list(numbers)\n",
    "print(\"Cloned list:\", cloned_list)\n"
   ]
  },
  {
   "cell_type": "markdown",
   "id": "37e5e6bd",
   "metadata": {},
   "source": [
    "#### 11.Write a Python Program to count occurences of an element in a list ?"
   ]
  },
  {
   "cell_type": "code",
   "execution_count": 11,
   "id": "8a5e7b52",
   "metadata": {},
   "outputs": [
    {
     "name": "stdout",
     "output_type": "stream",
     "text": [
      "Occurrences of 2: 3\n"
     ]
    }
   ],
   "source": [
    "def count_occurrences(lst, element):\n",
    "    return lst.count(element)\n",
    "\n",
    "numbers = [1, 2, 3, 4, 5, 2, 6, 2, 7]\n",
    "element_to_find = 2\n",
    "print(f\"Occurrences of {element_to_find}: {count_occurrences(numbers, element_to_find)}\")\n"
   ]
  },
  {
   "cell_type": "code",
   "execution_count": null,
   "id": "4f9e0565",
   "metadata": {},
   "outputs": [],
   "source": []
  }
 ],
 "metadata": {
  "kernelspec": {
   "display_name": "Python 3 (ipykernel)",
   "language": "python",
   "name": "python3"
  },
  "language_info": {
   "codemirror_mode": {
    "name": "ipython",
    "version": 3
   },
   "file_extension": ".py",
   "mimetype": "text/x-python",
   "name": "python",
   "nbconvert_exporter": "python",
   "pygments_lexer": "ipython3",
   "version": "3.9.0"
  }
 },
 "nbformat": 4,
 "nbformat_minor": 5
}
