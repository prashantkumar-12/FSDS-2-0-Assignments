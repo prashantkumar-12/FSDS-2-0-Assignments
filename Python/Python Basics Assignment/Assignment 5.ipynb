{
 "cells": [
  {
   "cell_type": "markdown",
   "metadata": {},
   "source": [
    "# Assignment 5 Solutions"
   ]
  },
  {
   "cell_type": "markdown",
   "metadata": {},
   "source": [
    "#### 1.What does an empty dictionary's code look like?\n",
    "**Ans:** An empty dictionary's code looks like this:\n",
    "{}"
   ]
  },
  {
   "cell_type": "markdown",
   "metadata": {},
   "source": [
    "#### 2.what is the value of dictionary value with key 'foo' and the value 42 ?\n",
    "**Ans:** The value of a dictionary value with the key 'foo' and the value 42 is:\n",
    "42"
   ]
  },
  {
   "cell_type": "markdown",
   "metadata": {},
   "source": [
    "#### 3.What is the most significant distinction between a dictionary and a list?\n",
    "**Ans:** The most significant distinction between a dictionary and a list is their data structure and how they store elements:\n",
    "\n",
    "Dictionary: Stores elements in key-value pairs, where each value is associated with a unique key. Keys are used to access values, and dictionaries are unordered.\n",
    "List: Stores elements in a sequence, and each element is identified by its index (position) in the list. Lists are ordered and allow duplicate elements."
   ]
  },
  {
   "cell_type": "markdown",
   "metadata": {},
   "source": [
    "#### 4.What happens if you try to access spam ['foo'] if spam is {'bar':100} ?\n",
    "**Ans:** If you try to access spam['foo'] when spam is {'bar': 100}, it will raise a KeyError because the key 'foo' does not exist in the dictionary spam. The dictionary spam only contains the key 'bar', so trying to access 'foo' will result in an error."
   ]
  },
  {
   "cell_type": "markdown",
   "metadata": {},
   "source": [
    "#### 5.if a dictionary is stored in spam,what is the difference between the expressions 'cat' in spam and 'cat' in spam.keys() ?\n",
    "**Ans:** Difference between the expressions 'cat' in spam and 'cat' in spam.keys():\n",
    "'cat' in spam: This expression checks if the key 'cat' exists in the dictionary spam. It returns True if the key 'cat' is present in the keys of the dictionary, and False otherwise.\n",
    "\n",
    "'cat' in spam.keys(): This expression checks if the key 'cat' exists in the keys of the dictionary spam. It is functionally equivalent to the first expression and also returns True if the key 'cat' is present in the keys of the dictionary, and False otherwise.\n",
    "\n",
    "Both expressions test for the presence of the key 'cat' in the dictionary spam."
   ]
  },
  {
   "cell_type": "markdown",
   "metadata": {},
   "source": [
    "#### 6.if a dictionary is stored in spam,what is the difference between the expressions 'cat' in spam and 'cat' in spam.values() ?\n",
    "**Ans:**   Difference between the expressions 'cat' in spam and 'cat' in spam.values():\n",
    "'cat' in spam: This expression checks if the key 'cat' exists in the dictionary spam. It returns True if the key 'cat' is present in the keys of the dictionary, and False otherwise.\n",
    "\n",
    "'cat' in spam.values(): This expression checks if the value 'cat' exists in the values of the dictionary spam. It returns True if the value 'cat' is present in any of the values of the dictionary, and False otherwise.\n",
    "\n",
    "The first expression tests for the presence of the key 'cat' in the dictionary, while the second expression tests for the presence of the value 'cat' in the dictionary's values."
   ]
  },
  {
   "cell_type": "markdown",
   "metadata": {},
   "source": [
    "#### 7.what is a shortcut for the following code ?\n",
    "`if 'color' not in spam:\n",
    "    spam['color'] ='black'`\n",
    "    \n",
    "**Ans:** `spam.setdefault('color','black')`"
   ]
  },
  {
   "cell_type": "markdown",
   "metadata": {},
   "source": [
    "#### 8.How do you 'pretty print' dictionary values using which modules and function ?\n",
    "**Ans:** To \"pretty print\" dictionary values, you can use the pprint module and the pprint() function.\n",
    "\n",
    "python\n",
    "Copy code\n",
    "import pprint\n",
    "\n",
    "my_dict = {'name': 'John', 'age': 30, 'city': 'New York'}\n",
    "\n",
    "pprint.pprint(my_dict)\n",
    "The pprint() function from the pprint module formats the dictionary output in a more readable and well-organized manner, making it easier to understand complex data structures like dictionaries."
   ]
  }
 ],
 "metadata": {
  "kernelspec": {
   "display_name": "Python 3 (ipykernel)",
   "language": "python",
   "name": "python3"
  },
  "language_info": {
   "codemirror_mode": {
    "name": "ipython",
    "version": 3
   },
   "file_extension": ".py",
   "mimetype": "text/x-python",
   "name": "python",
   "nbconvert_exporter": "python",
   "pygments_lexer": "ipython3",
   "version": "3.9.0"
  }
 },
 "nbformat": 4,
 "nbformat_minor": 4
}
