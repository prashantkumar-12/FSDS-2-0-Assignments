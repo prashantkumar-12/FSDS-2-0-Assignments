{
 "cells": [
  {
   "cell_type": "markdown",
   "metadata": {},
   "source": [
    "# Assignment 6 Solutions"
   ]
  },
  {
   "cell_type": "markdown",
   "metadata": {},
   "source": [
    "#### 1.What are Escape characters ? and how do you use them ?\n",
    "**Ans:** Escape characters are special characters used to represent non-printable or reserved characters in strings. They are prefixed with a backslash () to indicate their special meaning.\n"
   ]
  },
  {
   "cell_type": "markdown",
   "metadata": {},
   "source": [
    "#### 2.What do the escape characters n and t stand for ?\n",
    "**Ans:** The escape character \\n stands for a newline, and \\t stands for a tab."
   ]
  },
  {
   "cell_type": "markdown",
   "metadata": {},
   "source": [
    "#### 3.What is the way to include backslash character in a string?\n",
    "**Ans:** To include a backslash character itself in a string, you need to escape it using another backslash. For example, to include the backslash character in a string, you would use \\\\."
   ]
  },
  {
   "cell_type": "markdown",
   "metadata": {},
   "source": [
    "#### 4.The string \"Howl's Moving Castle\" is a correct value. Why isn't the single quote character in the word Howl's not escaped a problem ?\n",
    "**Ans:** The single quote character in the word \"Howl's\" is not escaped because it is part of a valid string literal in Python. In Python, you can enclose a string in either single quotes (' ') or double quotes (\" \"). Since the entire string is enclosed within double quotes, the single quote within the word \"Howl's\" does not cause any problem."
   ]
  },
  {
   "cell_type": "markdown",
   "metadata": {},
   "source": [
    "#### 5.How do you write a string of newlines if you don't want to use the n character?\n",
    "**Ans:**  If you don't want to use the \\n character for newlines, you can use triple quotes (''' or \"\"\") to create a multi-line string. For example:\n",
    "\n",
    "multi_line_string = '''Line 1\n",
    "Line 2\n",
    "Line 3'''"
   ]
  },
  {
   "cell_type": "code",
   "execution_count": 1,
   "metadata": {},
   "outputs": [
    {
     "name": "stdout",
     "output_type": "stream",
     "text": [
      "iNeuron full stack\n",
      "Data Science Course\n"
     ]
    }
   ],
   "source": [
    "# Example:\n",
    "a = '''iNeuron full stack\n",
    "Data Science Course'''\n",
    "print(a)"
   ]
  },
  {
   "cell_type": "markdown",
   "metadata": {},
   "source": [
    "#### 6.What are the values of the given expressions ?\n",
    "'Hello, world!'[1]  \n",
    "'Hello, world!'[0:5]  \n",
    "'Hello, world!'[:5]  \n",
    "'Hello, world!'[3:]  "
   ]
  },
  {
   "cell_type": "markdown",
   "metadata": {},
   "source": [
    "**Ans:** \n",
    "'Hello, world!'[1]: Returns the character at index 1, which is 'e'.\n",
    "\n",
    "'Hello, world!'[0:5]: Returns the substring from index 0 to index 4 (5-1), which is 'Hello'.\n",
    "\n",
    "'Hello, world!'[:5]: Returns the substring from the beginning up to index 4 (5-1), which is 'Hello'.\n",
    "\n",
    "'Hello, world!'[3:]: Returns the substring from index 3 to the end of the string, which is 'lo, world!'."
   ]
  },
  {
   "cell_type": "markdown",
   "metadata": {},
   "source": [
    "#### 7.What are the values of the following expressions ?\n",
    "'Hello'.upper()  \n",
    "'Hello'.upper().isupper()  \n",
    "'Hello'.upper().lower()    \n",
    "\n",
    "**Ans:** 'Hello'.upper(): Returns the string 'HELLO'. It converts all characters in the string to uppercase.\n",
    "\n",
    "'Hello'.upper().isupper(): Returns True. The first part 'Hello'.upper() converts the string to uppercase ('HELLO'), and then .isupper() checks if all characters in the string are uppercase, which is True in this case.\n",
    "\n",
    "'Hello'.upper().lower(): Returns the string 'hello'. The first part 'Hello'.upper() converts the string to uppercase ('HELLO'), and then .lower() converts it back to lowercase ('hello')."
   ]
  },
  {
   "cell_type": "markdown",
   "metadata": {},
   "source": [
    "#### 8.What are the values of the following expressions ?\n",
    "'Remember, remember, the fifith of July.'.split()  \n",
    "-'.join('There can only one'.split())\n",
    "\n",
    "**Ans:** The values for the given expressions are:  \n",
    "'Remember, remember, the fifith of July.'.split()  **`->`** `['Remember,', 'remember,', 'the', 'fifith', 'of', 'July.']`  \n",
    "'-'.join('There can only one'.split()) **`->`** `'There-can-only-one'` "
   ]
  },
  {
   "cell_type": "markdown",
   "metadata": {},
   "source": [
    "#### 9.What are the methods for right-justifying, left-justifying and centering a string ?\n",
    "**Ans:** Methods for right-justifying, left-justifying, and centering a string:\n",
    "Right-justifying: Use the rjust() method. For example, text.rjust(width, fillchar) will right-justify the string text within a field of width width, filling the remaining space with the character fillchar.\n",
    "\n",
    "Left-justifying: Use the ljust() method. For example, text.ljust(width, fillchar) will left-justify the string text within a field of width width, filling the remaining space with the character fillchar.\n",
    "\n",
    "Centering: Use the center() method. For example, text.center(width, fillchar) will center the string text within a field of width width, filling the remaining space with the character fillchar."
   ]
  },
  {
   "cell_type": "markdown",
   "metadata": {},
   "source": [
    "#### 10.What is the best way to remove whitespace characters from the start or end ?\n",
    "**Ans:** The best way to remove whitespace characters from the start or end of a string is by using the strip() method. For example, text.strip() will remove leading and trailing whitespace characters (spaces, tabs, newlines) from the string text. If you only want to remove leading whitespace, use lstrip(), and for trailing whitespace, use rstrip()."
   ]
  }
 ],
 "metadata": {
  "kernelspec": {
   "display_name": "Python 3 (ipykernel)",
   "language": "python",
   "name": "python3"
  },
  "language_info": {
   "codemirror_mode": {
    "name": "ipython",
    "version": 3
   },
   "file_extension": ".py",
   "mimetype": "text/x-python",
   "name": "python",
   "nbconvert_exporter": "python",
   "pygments_lexer": "ipython3",
   "version": "3.9.0"
  }
 },
 "nbformat": 4,
 "nbformat_minor": 4
}
