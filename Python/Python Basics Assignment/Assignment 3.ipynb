{
 "cells": [
  {
   "cell_type": "markdown",
   "metadata": {},
   "source": [
    "# Assignment 3 Solutions"
   ]
  },
  {
   "cell_type": "markdown",
   "metadata": {},
   "source": [
    "#### 1. Why are functions advantageous to have in your programs?\n",
    "**Ans:** Advantages of Functions:\n",
    "Reusability: Functions allow you to encapsulate a block of code and reuse it throughout your program, reducing code duplication.\n",
    "Modularity: Functions promote modular programming, making the code easier to read, understand, and maintain.\n",
    "Abstraction: Functions hide the implementation details, allowing you to focus on what the function does rather than how it does it.\n",
    "Code Organization: Functions help in organizing the code into smaller, manageable, and logical units, improving code structure."
   ]
  },
  {
   "cell_type": "markdown",
   "metadata": {},
   "source": [
    "#### 2. When does the code in a function run: when it's specified or when it's called?\n",
    "**Ans:** When does the code in a function run: when it's specified or when it's called?\n",
    "The code in a function runs when the function is called. Defining a function does not execute its code; it only creates the function. The code inside the function is executed when the function is called by its name in the program."
   ]
  },
  {
   "cell_type": "markdown",
   "metadata": {},
   "source": [
    "#### 3. What statement creates a function?\n",
    "**Ans:** What statement creates a function?\n",
    "The def statement is used to create a function in Python. It is followed by the function name, parentheses for parameters (if any), and a colon. The function body is indented below the def statement.\n",
    "`"
   ]
  },
  {
   "cell_type": "markdown",
   "metadata": {},
   "source": [
    "#### 4. What is the difference between a function and a function call?\n",
    "**Ans:** Difference between a Function and a Function Call:\n",
    "\n",
    "Function: A function is a block of reusable code that performs a specific task when called. It is defined using the def statement and may have parameters and a return value.\n",
    "Function Call: A function call is the act of invoking or executing a function by using its name followed by parentheses. When a function is called, the code inside the function is executed."
   ]
  },
  {
   "cell_type": "markdown",
   "metadata": {},
   "source": [
    "#### 5. How many global scopes are there in a Python program? How many local scopes?\n",
    "**Ans:** Global and Local Scopes in Python:\n",
    "Global Scopes: There is only one global scope in a Python program. Variables defined outside all functions or code blocks have global scope and can be accessed from anywhere in the program.\n",
    "Local Scopes: Local scopes are created when a function is called. Variables defined inside a function have local scope and are accessible only within that function."
   ]
  },
  {
   "cell_type": "markdown",
   "metadata": {},
   "source": [
    "#### 6. What happens to variables in a local scope when the function call returns?\n",
    "**Ans:** What happens to variables in a Local Scope when the function call returns?\n",
    "When the function call returns, the local scope is destroyed, and the variables in that scope are no longer accessible. The variables in the local scope are temporary and exist only during the execution of the function."
   ]
  },
  {
   "cell_type": "markdown",
   "metadata": {},
   "source": [
    "#### 7. What is the concept of a return value? Is it possible to have a return value in an expression?\n",
    "**Ans**: Concept of a Return Value:\n",
    "A return value is the value that a function gives back when it is called. It is specified using the return statement in the function. The return value can be used to pass data from the function back to the caller. Yes, it is possible to have a return value in an expression, and the return value can be used in further calculations or assignments in the program."
   ]
  },
  {
   "cell_type": "markdown",
   "metadata": {},
   "source": [
    "#### 8. If a function does not have a return statement, what is the return value of a call to that function?\n",
    "**Ans:** If a function does not have a return statement, the return value of a call to that function is None."
   ]
  },
  {
   "cell_type": "markdown",
   "metadata": {},
   "source": [
    "#### 9. How do you make a function variable refer to the global variable?\n",
    "**Ans:** To make a function variable refer to the global variable, you can use the global keyword before the variable name inside the function. "
   ]
  },
  {
   "cell_type": "markdown",
   "metadata": {},
   "source": [
    "#### 10. What is the data type of None?\n",
    "**Ans:** The data type of None is NoneType. It represents the absence of a value and is often used as a default return value for functions that do not have a specific return statement."
   ]
  },
  {
   "cell_type": "markdown",
   "metadata": {},
   "source": [
    "#### 11. What does the sentence import areallyourpetsnamederic do?\n",
    "**Ans:** The sentence import areallyourpetsnamederic is not a valid Python import statement and will result in a syntax error."
   ]
  },
  {
   "cell_type": "markdown",
   "metadata": {},
   "source": [
    "#### 12. If you had a bacon() feature in a spam module, what would you call it after importing spam?\n",
    "**Ans:** If you have a bacon() function in a spam module, you can call it after importing spam as follows:\n",
    "\n",
    "import spam\n",
    "\n",
    "spam.bacon()"
   ]
  },
  {
   "cell_type": "markdown",
   "metadata": {},
   "source": [
    "#### 13. What can you do to save a programme from crashing if it encounters an error?\n",
    "**Ans:** To save a program from crashing if it encounters an error, you can use error handling techniques, such as using the try and except clauses. The code that may raise an error is placed inside the try block, and the handling of the error is done in the except block, allowing the program to continue execution without crashing."
   ]
  },
  {
   "cell_type": "markdown",
   "metadata": {},
   "source": [
    "#### 14. What is the purpose of the try clause? What is the purpose of the except clause?\n",
    "**Answer** \n",
    "The purpose of the try clause is to enclose the code that may raise an exception or error. It allows the program to attempt the execution of potentially risky code without stopping abruptly.\n",
    "\n",
    "The purpose of the except clause is to specify the actions to be taken if an exception occurs within the try block. It provides a way to handle errors gracefully by executing alternative code or displaying error messages without crashing the program."
   ]
  }
 ],
 "metadata": {
  "kernelspec": {
   "display_name": "Python 3 (ipykernel)",
   "language": "python",
   "name": "python3"
  },
  "language_info": {
   "codemirror_mode": {
    "name": "ipython",
    "version": 3
   },
   "file_extension": ".py",
   "mimetype": "text/x-python",
   "name": "python",
   "nbconvert_exporter": "python",
   "pygments_lexer": "ipython3",
   "version": "3.9.0"
  }
 },
 "nbformat": 4,
 "nbformat_minor": 4
}
