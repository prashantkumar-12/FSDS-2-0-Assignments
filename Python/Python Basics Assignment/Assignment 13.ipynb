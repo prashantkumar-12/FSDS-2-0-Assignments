{
 "cells": [
  {
   "cell_type": "markdown",
   "id": "e3bb5f2d",
   "metadata": {},
   "source": [
    "# Assignment 13 Solutions"
   ]
  },
  {
   "cell_type": "markdown",
   "id": "d8aab80a",
   "metadata": {},
   "source": [
    "#### 1. What advantages do Excel spreadsheets have over CSV spreadsheets?\n",
    "**Ans:** Advantages of Excel spreadsheets over CSV spreadsheets:\n",
    "\n",
    "Excel spreadsheets support more complex data structures like multiple sheets, formatting, formulas, and charts.\n",
    "Excel files (.xlsx) can store data in a tabular format with rich formatting options, whereas CSV files are plain text files with no formatting.\n",
    "Excel provides a user-friendly graphical interface for viewing and editing data, making it easier for non-technical users to work with the data."
   ]
  },
  {
   "cell_type": "markdown",
   "id": "b66e958d",
   "metadata": {},
   "source": [
    "#### 2.What do you pass to csv.reader() and csv.writer() to create reader and writer objects?"
   ]
  },
  {
   "cell_type": "markdown",
   "id": "7a3bd409",
   "metadata": {},
   "source": [
    "**ANSWER** To create reader and writer objects in the csv module, you need to pass a File object as an argument to csv.reader() and csv.writer(). The File object can be created using Python's built-in open() function."
   ]
  },
  {
   "cell_type": "markdown",
   "id": "c3478f56",
   "metadata": {},
   "source": [
    "#### 3. What modes do File objects for reader and writer objects need to be opened in?\n",
    "**Ans:** File objects for reader and writer objects need to be opened in the following modes:\n",
    "\n",
    "For reading CSV files, open the File object in read mode: mode='r'.\n",
    "For writing CSV files, open the File object in write mode: mode='w' or append mode: mode='a'."
   ]
  },
  {
   "cell_type": "markdown",
   "id": "c2f017ec",
   "metadata": {},
   "source": [
    "#### 4. What method takes a list argument and writes it to a CSV file?\n",
    "**Ans:** The writerow() method takes a list argument and writes it to a CSV file. It is used with a writer object from the csv module. For example:"
   ]
  },
  {
   "cell_type": "code",
   "execution_count": 3,
   "id": "3a3e46b5",
   "metadata": {},
   "outputs": [],
   "source": [
    "import csv\n",
    "\n",
    "# Create a CSV writer object\n",
    "with open('example.csv', 'w', newline='') as csvfile:\n",
    "    csv_writer = csv.writer(csvfile)\n",
    "\n",
    "    # Write a list to the CSV file\n",
    "    csv_writer.writerow(['Name', 'Age', 'City'])\n",
    "    csv_writer.writerow(['John', 30, 'New York'])\n",
    "    csv_writer.writerow(['Alice', 25, 'London'])\n"
   ]
  },
  {
   "cell_type": "markdown",
   "id": "68179164",
   "metadata": {},
   "source": [
    "#### 5. What do the keyword arguments delimiter and line terminator do?\n",
    "**Ans:** The keyword arguments delimiter and line terminator are used in the csv.writer() function from the csv module. They specify how the CSV data should be formatted when writing to a file:\n",
    "\n",
    "delimiter: Specifies the character used to separate values in the CSV file. The default delimiter is a comma (,), but you can use other characters like tabs, semicolons, etc.\n",
    "line terminator: Specifies the character sequence used to terminate each line in the CSV file. The default line terminator is the newline character (\\n), but you can use other sequences like \\r\\n (Windows-style) or \\r (Mac-style)."
   ]
  },
  {
   "cell_type": "markdown",
   "id": "94752f89",
   "metadata": {},
   "source": [
    "#### 6. What function takes a string of JSON data and returns a Python data structure?\n",
    "**Ans:** The json.loads() function takes a string of JSON data and returns a Python data structure. It is used to deserialize (parse) JSON data into Python objects like lists or dictionaries. For example:\n",
    "\n",
    "\n",
    "import json\n",
    "\n",
    "json_string = '{\"name\": \"John\", \"age\": 30, \"city\": \"New York\"}'\n",
    "python_data = json.loads(json_string)\n",
    "\n",
    "print(python_data)"
   ]
  },
  {
   "cell_type": "code",
   "execution_count": 4,
   "id": "cf976f3f",
   "metadata": {},
   "outputs": [
    {
     "name": "stdout",
     "output_type": "stream",
     "text": [
      "{'name': 'John', 'age': 30, 'city': 'New York'}\n"
     ]
    }
   ],
   "source": [
    "import json\n",
    "\n",
    "json_string = '{\"name\": \"John\", \"age\": 30, \"city\": \"New York\"}'\n",
    "python_data = json.loads(json_string)\n",
    "\n",
    "print(python_data)"
   ]
  },
  {
   "cell_type": "markdown",
   "id": "bc39716d",
   "metadata": {},
   "source": [
    "#### 7. What function takes a Python data structure and returns a string of JSON data?\n",
    "**Ans:** The json.dumps() function takes a Python data structure (like lists or dictionaries) and returns a string of JSON data. It is used to serialize (convert) Python objects into a JSON-formatted string. "
   ]
  },
  {
   "cell_type": "code",
   "execution_count": 5,
   "id": "5125a827",
   "metadata": {},
   "outputs": [
    {
     "name": "stdout",
     "output_type": "stream",
     "text": [
      "{\"name\": \"John\", \"age\": 30, \"city\": \"New York\"}\n"
     ]
    }
   ],
   "source": [
    "import json\n",
    "\n",
    "python_data = {'name': 'John', 'age': 30, 'city': 'New York'}\n",
    "json_string = json.dumps(python_data)\n",
    "\n",
    "print(json_string)  # Output: '{\"name\": \"John\", \"age\": 30, \"city\": \"New York\"}'\n"
   ]
  },
  {
   "cell_type": "code",
   "execution_count": null,
   "id": "d9045298",
   "metadata": {},
   "outputs": [],
   "source": []
  }
 ],
 "metadata": {
  "kernelspec": {
   "display_name": "Python 3 (ipykernel)",
   "language": "python",
   "name": "python3"
  },
  "language_info": {
   "codemirror_mode": {
    "name": "ipython",
    "version": 3
   },
   "file_extension": ".py",
   "mimetype": "text/x-python",
   "name": "python",
   "nbconvert_exporter": "python",
   "pygments_lexer": "ipython3",
   "version": "3.9.0"
  }
 },
 "nbformat": 4,
 "nbformat_minor": 5
}
