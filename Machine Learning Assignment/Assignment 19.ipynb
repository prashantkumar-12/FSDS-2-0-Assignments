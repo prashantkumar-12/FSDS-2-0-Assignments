{
 "cells": [
  {
   "cell_type": "markdown",
   "id": "b2aa57f2",
   "metadata": {},
   "source": [
    "# Assignment 19 Solutions"
   ]
  },
  {
   "cell_type": "markdown",
   "id": "111120c6",
   "metadata": {},
   "source": [
    "##### 1. A set of one-dimensional data points is given to you: 5, 10, 15, 20, 25, 30, 35. Assume that k = 2 and that the first set of random centroid is 15, 32, and that the second set is 12, 30. ?\n",
    "1. Using the k-means method, create two clusters for each set of centroid described above.\n",
    "2. For each set of centroid values, calculate the SSE."
   ]
  },
  {
   "cell_type": "markdown",
   "id": "f9fe7e04",
   "metadata": {},
   "source": [
    "**Answer**\n",
    "\n",
    "K-means Clustering:\n",
    "a) Using the first set of centroids (15 and 32):\n",
    "Cluster 1: Assign data points {5, 10, 15, 20, 25} to centroid 15.\n",
    "Cluster 2: Assign data points {30, 35} to centroid 32.\n",
    "b) SSE for the first set of centroids:\n",
    "SSE = Sum of squared distances of data points from their respective centroids.\n",
    "SSE = [(5-15)^2 + (10-15)^2 + (15-15)^2 + (20-15)^2 + (25-15)^2] + [(30-32)^2 + (35-32)^2]\n",
    "\n",
    "Using the second set of centroids (12 and 30):\n",
    "\n",
    "Cluster 1: Assign data points {5, 10, 15, 20} to centroid 12.\n",
    "Cluster 2: Assign data points {25, 30, 35} to centroid 30.\n",
    "b) SSE for the second set of centroids:\n",
    "SSE = [(5-12)^2 + (10-12)^2 + (15-12)^2 + (20-12)^2] + [(25-30)^2 + (30-30)^2 + (35-30)^2]"
   ]
  },
  {
   "cell_type": "markdown",
   "id": "4ae857d4",
   "metadata": {},
   "source": [
    "##### 2. Describe how the Market Basket Research makes use of association analysis concepts ?"
   ]
  },
  {
   "cell_type": "markdown",
   "id": "a3135cda",
   "metadata": {},
   "source": [
    "**Answer**\n",
    "Market Basket Analysis:\n",
    "Market Basket Analysis is a technique used in retail to discover association rules between items frequently purchased together. It leverages concepts from association analysis, such as support, confidence, and lift, to identify strong relationships between items in transactional data. For example, if customers often buy item A and item B together, Market Basket Analysis can help identify this frequent itemset and suggest strategies like placing these items closer in the store to increase sales."
   ]
  },
  {
   "cell_type": "markdown",
   "id": "c981ac1e",
   "metadata": {},
   "source": [
    "##### 3. Give an example of the Apriori algorithm for learning association rules ?"
   ]
  },
  {
   "cell_type": "markdown",
   "id": "37a69cf4",
   "metadata": {},
   "source": [
    "**Answer**\n",
    "Example of Apriori Algorithm:\n",
    "Consider a transactional dataset with the following items bought by customers:\n",
    "{Milk, Bread, Eggs, Butter, Juice}\n",
    "{Milk, Bread, Eggs, Juice}\n",
    "{Milk, Bread, Butter}\n",
    "{Milk, Bread, Eggs, Butter}\n",
    "{Bread, Eggs, Juice}\n",
    "\n",
    "Step 1: Find frequent itemsets with minimum support (e.g., support >= 2):\n",
    "Frequent 1-itemsets: {Milk}, {Bread}, {Eggs}, {Butter}, {Juice}\n",
    "Frequent 2-itemsets: {Milk, Bread}, {Milk, Eggs}, {Bread, Eggs}, {Bread, Juice}\n",
    "Frequent 3-itemsets: {Milk, Bread, Eggs}, {Bread, Eggs, Juice}\n",
    "\n",
    "Step 2: Generate association rules with minimum confidence (e.g., confidence >= 0.5):\n",
    "Example rule: {Milk, Bread} => {Eggs} (Support: 2, Confidence: 2/3 = 0.67)"
   ]
  },
  {
   "cell_type": "markdown",
   "id": "07ab2a64",
   "metadata": {},
   "source": [
    "##### 4. In hierarchical clustering, how is the distance between clusters measured? Explain how this metric is used to decide when to end the iteration ?"
   ]
  },
  {
   "cell_type": "markdown",
   "id": "a4905f46",
   "metadata": {},
   "source": [
    "**Answer**\n",
    "Hierarchical Clustering Distance Metric:\n",
    "The distance between clusters in hierarchical clustering can be measured using various methods, such as:\n",
    "Single Linkage: Minimum distance between any two data points from different clusters.\n",
    "Complete Linkage: Maximum distance between any two data points from different clusters.\n",
    "Average Linkage: Average distance between data points from different clusters.\n",
    "Ward's Linkage: Measures the increase in the sum of squared distances after merging two clusters.\n",
    "The iteration stops when all data points are merged into a single cluster (agglomerative clustering) or when each data point is considered as a separate cluster (divisive clustering). The decision to stop the iteration is often based on a predetermined number of desired clusters or by analyzing the dendrogram to identify an optimal cut-off point."
   ]
  },
  {
   "cell_type": "markdown",
   "id": "0be2162e",
   "metadata": {},
   "source": [
    "##### 5. In the k-means algorithm, how do you recompute the cluster centroids ?"
   ]
  },
  {
   "cell_type": "markdown",
   "id": "edcfe742",
   "metadata": {},
   "source": [
    "**Answer**\n",
    "Recomputing Cluster Centroids in k-means Algorithm:\n",
    "To recompute cluster centroids in the k-means algorithm:\n",
    "\n",
    "For each data point, calculate the distance to each centroid.\n",
    "\n",
    "Assign the data point to the nearest centroid, forming clusters.\n",
    "\n",
    "Update the centroid of each cluster by calculating the mean (average) of all data points assigned to that cluster.\n",
    "\n",
    "Repeat steps 1-3 until the centroids converge (stop changing significantly) or a maximum number of iterations is reached.\n",
    "\n"
   ]
  },
  {
   "cell_type": "markdown",
   "id": "a96163dd",
   "metadata": {},
   "source": [
    "##### 6. At the start of the clustering exercise, discuss one method for determining the required number of clusters ?"
   ]
  },
  {
   "cell_type": "markdown",
   "id": "dea56771",
   "metadata": {},
   "source": [
    "\n",
    "**Answer**\n",
    "Determining the Required Number of Clusters:\n",
    "One method for determining the required number of clusters is the \"Elbow Method.\" In this method, the Sum of Squared Errors (SSE) is calculated for different values of k (number of clusters). The SSE measures the total variation within clusters. When plotting SSE against the number of clusters, there may be a point on the graph that resembles an \"elbow,\" where the SSE decreases less rapidly as k increases. This point indicates an optimal number of clusters where adding more clusters does not significantly reduce the SSE."
   ]
  },
  {
   "cell_type": "markdown",
   "id": "6b3b649e",
   "metadata": {},
   "source": [
    "##### 7. Discuss the k-means algorithm's advantages and disadvantages ?"
   ]
  },
  {
   "cell_type": "markdown",
   "id": "b7568237",
   "metadata": {},
   "source": [
    "**Answer**\n",
    "Advantages of the k-means Algorithm:\n",
    "\n",
    "Simple and easy to implement.\n",
    "Efficient and scalable for large datasets.\n",
    "Can handle high-dimensional data efficiently.\n",
    "Clustering results can be easily interpreted.\n",
    "Disadvantages of the k-means Algorithm:\n",
    "\n",
    "Sensitive to the initial choice of centroids, which may lead to different results.\n",
    "May converge to local optima, so multiple initializations are needed for robust results.\n",
    "Assumes clusters with similar sizes and shapes, limiting its effectiveness on complex or non-linear data.\n",
    "May not work well with clusters of varying densities or irregular shapes."
   ]
  },
  {
   "cell_type": "markdown",
   "id": "54020cf8",
   "metadata": {},
   "source": [
    "##### 8. Draw a diagram to demonstrate the principle of clustering ?"
   ]
  },
  {
   "cell_type": "markdown",
   "id": "de37fe9b",
   "metadata": {},
   "source": [
    "**Answer**\n"
   ]
  },
  {
   "cell_type": "markdown",
   "id": "9db681d1",
   "metadata": {},
   "source": [
    "##### 9. During your study, you discovered seven findings, which are listed in the data points below. Using the K-means algorithm, you want to build three clusters from these observations. The clusters C1, C2, and C3 have the following findings after the first iteration ?\n",
    "- `C1: (2,2), (4,4), (6,6); C2: (2,2), (4,4), (6,6); C3: (2,2), (4,4),  `\n",
    "- `C2: (0,4), (4,0), (0,4), (0,4), (0,4), (0,4), (0,4), (0,4), (0,  `\n",
    "- `C3: (5,5) and (9,9) ` \n",
    "\n",
    "What would the cluster centroids be if you were to run a second iteration? What would this clustering's SSE be?"
   ]
  },
  {
   "cell_type": "markdown",
   "id": "0daadad9",
   "metadata": {},
   "source": [
    "**Answer**\n"
   ]
  },
  {
   "cell_type": "markdown",
   "id": "5b686929",
   "metadata": {},
   "source": [
    "##### 10. In a software project, the team is attempting to determine if software flaws discovered during testing are identical. Based on the text analytics of the defect details, they decided to build 5 clusters of related defects. Any new defect formed after the 5 clusters of defects have been identified must be listed as one of the forms identified by clustering. A simple diagram can be used to explain this process. Assume you have 20 defect data points that are clustered into 5 clusters and you used the k-means algorithm ?"
   ]
  },
  {
   "cell_type": "markdown",
   "id": "758a10e8",
   "metadata": {},
   "source": [
    "\n",
    "**Answer**\n"
   ]
  }
 ],
 "metadata": {
  "kernelspec": {
   "display_name": "Python 3 (ipykernel)",
   "language": "python",
   "name": "python3"
  },
  "language_info": {
   "codemirror_mode": {
    "name": "ipython",
    "version": 3
   },
   "file_extension": ".py",
   "mimetype": "text/x-python",
   "name": "python",
   "nbconvert_exporter": "python",
   "pygments_lexer": "ipython3",
   "version": "3.9.0"
  }
 },
 "nbformat": 4,
 "nbformat_minor": 5
}
