{
 "cells": [
  {
   "cell_type": "markdown",
   "id": "03474a03",
   "metadata": {},
   "source": [
    "## Assignment 3 Solutions"
   ]
  },
  {
   "cell_type": "markdown",
   "id": "35a4ddc8",
   "metadata": {},
   "source": [
    "##### 1. Why are functions advantageous to have in your programs?\n",
    "**Answers**\n",
    "Functions are advantageous in programs because they promote code reusability, modularization, and easier maintenance. They allow you to break complex tasks into smaller, manageable pieces."
   ]
  },
  {
   "cell_type": "markdown",
   "id": "3464e545",
   "metadata": {},
   "source": [
    "##### 2. When does the code in a function run: when it's specified or when it's called?\n",
    "**Answers**\n",
    "The code in a function runs when it's called. Calling a function means executing the block of code inside the function."
   ]
  },
  {
   "cell_type": "markdown",
   "id": "26106f31",
   "metadata": {},
   "source": [
    "### 3. What statement creates a function?\n",
    "**Answers** \n",
    "The \"def\" statement creates a function in Python. It defines the function name, parameters, and the code block associated with the function."
   ]
  },
  {
   "cell_type": "markdown",
   "id": "eb9aeeb5",
   "metadata": {},
   "source": [
    "4. What is the difference between a function and a function call?\n",
    "**Answers**\n",
    "A function is a block of code with a name and defined logic, whereas a function call is the act of executing that code with specific arguments."
   ]
  },
  {
   "cell_type": "markdown",
   "id": "75c2a7d7",
   "metadata": {},
   "source": [
    "##### 5. How many global scopes are there in a Python program? How many local scopes?\n",
    "**Answers**\n",
    "There is one global scope in a Python program, and a new local scope is created whenever a function is called."
   ]
  },
  {
   "cell_type": "markdown",
   "id": "6c1c71de",
   "metadata": {},
   "source": [
    "##### 6. What happens to variables in a local scope when the function call returns?\n",
    "**Answers**\n",
    "Variables in a local scope are destroyed (no longer accessible) when the function call returns. They only exist within the function's execution context."
   ]
  },
  {
   "cell_type": "markdown",
   "id": "2b49ddfd",
   "metadata": {},
   "source": [
    "##### 7. What is the concept of a return value? Is it possible to have a return value in an expression?\n",
    "**Answers**\n",
    "The return value is the output of a function after it has completed its execution. Yes, it is possible to use a return value in an expression, allowing you to use the function's result in further calculations or assignments."
   ]
  },
  {
   "cell_type": "markdown",
   "id": "ad8760a4",
   "metadata": {},
   "source": [
    "##### 8. If a function does not have a return statement, what is the return value of a call to that function?\n",
    "**Answers**\n",
    "If a function does not have a return statement, the return value of a call to that function is \"None.\""
   ]
  },
  {
   "cell_type": "markdown",
   "id": "0b5a2155",
   "metadata": {},
   "source": [
    "##### 9. How do you make a function variable refer to the global variable?\n",
    "**Answers**\n",
    "To refer to a global variable in a function, you need to use the \"global\" keyword before the variable name inside the function."
   ]
  },
  {
   "cell_type": "markdown",
   "id": "26feea2a",
   "metadata": {},
   "source": [
    "##### 10. What is the data type of None?\n",
    "**Answers**\n",
    "The data type of \"None\" is \"NoneType.\" It represents the absence of a value and is often used to indicate the absence of a meaningful result."
   ]
  },
  {
   "cell_type": "markdown",
   "id": "3d1758dd",
   "metadata": {},
   "source": [
    "##### 11. What does the sentence import areallyourpetsnamederic do?\n",
    "**Answers**\n",
    "The sentence \"import areallyourpetsnamederic\" is not a valid Python statement. It doesn't perform any meaningful action and would raise a syntax error."
   ]
  },
  {
   "cell_type": "markdown",
   "id": "a74104e4",
   "metadata": {},
   "source": [
    "##### 12. If you had a bacon() feature in a spam module, what would you call it after importing spam?\n",
    "**Answers**\n",
    "After importing the spam module, you would call the bacon() function using the syntax \"spam.bacon()\"."
   ]
  },
  {
   "cell_type": "markdown",
   "id": "97bc5b2f",
   "metadata": {},
   "source": [
    "##### 13. What can you do to save a programme from crashing if it encounters an error?\n",
    "**Answers**\n",
    "To save a program from crashing when encountering an error, you can use exception handling. Place the code that might raise an exception inside a try block, and handle the exception gracefully in an except block."
   ]
  },
  {
   "cell_type": "markdown",
   "id": "8dd3f689",
   "metadata": {},
   "source": [
    "##### 14. What is the purpose of the try clause? What is the purpose of the except clause?\n",
    "**Answers**\n",
    "The try clause is used to enclose code that might raise an exception. It allows you to test a block of code for errors. The except clause is used to specify how the program should respond if an exception is raised in the try block. It defines the code that will be executed to handle the exception."
   ]
  },
  {
   "cell_type": "code",
   "execution_count": null,
   "id": "5ddb6c97",
   "metadata": {},
   "outputs": [],
   "source": []
  }
 ],
 "metadata": {
  "kernelspec": {
   "display_name": "Python 3 (ipykernel)",
   "language": "python",
   "name": "python3"
  },
  "language_info": {
   "codemirror_mode": {
    "name": "ipython",
    "version": 3
   },
   "file_extension": ".py",
   "mimetype": "text/x-python",
   "name": "python",
   "nbconvert_exporter": "python",
   "pygments_lexer": "ipython3",
   "version": "3.9.0"
  }
 },
 "nbformat": 4,
 "nbformat_minor": 5
}
