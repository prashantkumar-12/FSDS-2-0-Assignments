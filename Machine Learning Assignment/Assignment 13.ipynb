{
 "cells": [
  {
   "cell_type": "markdown",
   "id": "a566390d",
   "metadata": {},
   "source": [
    "# Assignment 13 Solutions\n"
   ]
  },
  {
   "cell_type": "markdown",
   "id": "d5b41239",
   "metadata": {},
   "source": [
    "##### 1.Provide an example of the concepts of Prior, Posterior, and Likelihood.\n",
    "**Answer**\n",
    "\n",
    "Example: Medical Test for a Rare Disease\n",
    "\n",
    "Let's consider a medical test for a rare disease, where only 1% of the population is affected (prior probability). The test has a sensitivity of 90% (likelihood), meaning it correctly identifies 90% of the affected individuals and a specificity of 95%, meaning it correctly identifies 95% of the non-affected individuals.\n",
    "\n",
    "Prior Probability: Before taking the test, the prior probability of a randomly selected person having the disease is 0.01 (1%).\n",
    "\n",
    "Likelihood: If a person actually has the disease (true positive), the probability of the test being positive is 0.9 (90%). If a person does not have the disease (true negative), the probability of the test being negative is 0.95 (95%).\n",
    "\n",
    "Posterior Probability: After performing the test on an individual, we obtain the test result, either positive or negative. The posterior probability is the updated probability of that person having the disease based on the test result.\n",
    "\n",
    "For example, if the test result is positive for an individual:\n",
    "\n",
    "The probability of being affected and getting a positive test result (true positive) is 0.9 (90%).\n",
    "The probability of being non-affected and still getting a positive test result (false positive) is 0.05 (5%).\n",
    "Using Bayes' theorem, we can calculate the posterior probability:\n",
    "Posterior Probability of having the disease = (Prior Probability * True Positive) / [(Prior Probability * True Positive) + (1 - Prior Probability) * False Positive]"
   ]
  },
  {
   "cell_type": "markdown",
   "id": "062214ac",
   "metadata": {},
   "source": [
    "##### 2. What role does Bayes' theorem play in the concept learning principle?\n",
    "**Answer**\n",
    "Bayes' theorem plays a fundamental role in the concept learning principle by providing a way to update prior beliefs about hypotheses or concepts based on new evidence or observations. In the context of concept learning, Bayes' theorem is used to calculate the posterior probability of a hypothesis or concept given the observed data and the prior probability.\n",
    "\n",
    "When learning a concept or hypothesis from data, we start with an initial belief or prior probability about the hypothesis. As we observe more data, Bayes' theorem enables us to incorporate this new evidence to update our belief and obtain the posterior probability, which represents our updated belief in the hypothesis based on the observed data.\n",
    "\n",
    "In summary, Bayes' theorem is used in concept learning to move from prior beliefs to posterior beliefs as we acquire more information, allowing us to make more informed and refined decisions about the most likely hypothesis or concept given the data. This process of updating probabilities is essential in various machine learning algorithms and Bayesian inference methods."
   ]
  },
  {
   "cell_type": "markdown",
   "id": "71ad43d5",
   "metadata": {},
   "source": [
    "##### 3. Offer an example of how the Nave Bayes classifier is used in real life.\n",
    "**Answer**\n",
    "Real-life Example: Email Spam Filtering\n",
    "\n",
    "The Naïve Bayes classifier is commonly used in email spam filtering. In this application, the classifier analyzes incoming emails and determines whether they are spam or legitimate (ham). The algorithm learns from a labeled dataset of emails, where some emails are marked as spam, and others are marked as ham.\n",
    "\n",
    "During the training phase, the Naïve Bayes classifier calculates the probabilities of certain words or features occurring in spam emails and legitimate emails. It assumes that the presence of each word in an email is independent of the presence of other words, which is the \"naïve\" assumption.\n",
    "\n",
    "When a new email arrives, the Naïve Bayes classifier uses the frequencies of words in that email to calculate the likelihood of it being spam or ham based on the probabilities learned during training. It then applies Bayes' theorem to determine the posterior probability of the email being spam or ham.\n",
    "\n",
    "If the posterior probability of the email being spam exceeds a predefined threshold, the email is classified as spam and directed to the spam folder. Otherwise, it is classified as ham and sent to the inbox."
   ]
  },
  {
   "cell_type": "markdown",
   "id": "e19f23b1",
   "metadata": {},
   "source": [
    "##### 4. Can the Nave Bayes classifier be used on continuous numeric data? If so, how can you go about doing it?\n",
    "**Answer**\n",
    "Yes, the Naïve Bayes classifier can be used on continuous numeric data. To apply the Naïve Bayes classifier to continuous features, you need to use a probability distribution that suits your data.\n",
    "\n",
    "One common approach is to assume that the continuous features follow a Gaussian (Normal) distribution. In this case, you would estimate the mean and standard deviation of each feature for each class label during the training phase. Then, during the testing or prediction phase, you would use these estimated parameters to calculate the likelihood of the observed values belonging to each class. The class with the highest posterior probability is assigned to the data point.\n",
    "\n",
    "It's essential to note that using Gaussian distributions assumes that the features are approximately normally distributed within each class, which might not always hold true in real-world data. In such cases, you may need to preprocess the data or apply transformations to make it conform to the Gaussian assumption or explore other distributions that better fit your data."
   ]
  },
  {
   "cell_type": "markdown",
   "id": "99599ed7",
   "metadata": {},
   "source": [
    "##### 5. What are Bayesian Belief Networks, and how do they work? What are their applications? Are they capable of resolving a wide range of issues?\n",
    "\n",
    "**Answer**\n",
    "Bayesian Belief Networks (BBNs), also known as Bayesian Networks or Probabilistic Graphical Models, are probabilistic graphical models used to represent and reason about uncertain relationships among variables. BBNs consist of a directed acyclic graph (DAG) where nodes represent variables and edges represent probabilistic dependencies between variables.\n",
    "\n",
    "How they work: BBNs combine prior knowledge (prior probabilities) with conditional probabilities to model the joint probability distribution of variables in a compact and efficient manner. They use Bayes' theorem to update beliefs about variables based on new evidence or observations.\n",
    "\n",
    "Applications: BBNs have a wide range of applications, including:\n",
    "\n",
    "Medical diagnosis: BBNs can help in diagnosing diseases by combining symptoms, medical test results, and patient information to calculate the probability of various conditions.\n",
    "\n",
    "Risk assessment: BBNs are used to assess risks in areas like finance, engineering, and safety, by modeling dependencies among risk factors.\n",
    "\n",
    "Predictive modeling: BBNs can be used for predictive tasks, such as predicting customer behavior, weather forecasting, and equipment failure prediction.\n",
    "\n",
    "Decision support systems: BBNs aid decision-making by providing a framework to analyze the impact of various decisions on outcomes."
   ]
  },
  {
   "cell_type": "markdown",
   "id": "f9fa9f1d",
   "metadata": {},
   "source": [
    "##### 6. Passengers are checked in an airport screening system to see if there is an intruder. Let I be the random variable that indicates whether someone is an intruder I = 1) or not I = 0), and A be the variable that indicates alarm I = 0). If an intruder is detected with probability P(A = 1|I = 1) = 0.98 and a non-intruder is detected with probability P(A = 1|I = 0) = 0.001, an alarm will be triggered, implying the error factor. The likelihood of an intruder in the passenger population is P(I = 1) = 0.00001. What are the chances that an alarm would be triggered when an individual is actually an intruder?\n",
    "**Answer**\n",
    "To calculate the probability that an alarm will be triggered when an individual is actually an intruder (P(A = 1 | I = 1)), we can use Bayes' theorem. Bayes' theorem is expressed as:\n",
    "\n",
    "P(A = 1 | I = 1) = P(I = 1 | A = 1) * P(A = 1) / P(I = 1)\n",
    "\n",
    "where:\n",
    "P(A = 1 | I = 1) = Probability of an alarm being triggered given that the individual is an intruder.\n",
    "P(I = 1 | A = 1) = Probability of the individual being an intruder given that an alarm is triggered.\n",
    "P(A = 1) = Probability of an alarm being triggered (regardless of whether the individual is an intruder or not).\n",
    "P(I = 1) = Probability of the individual being an intruder (prior probability).\n",
    "\n",
    "Given the information provided:\n",
    "P(I = 1 | A = 1) = 0.98 (Probability of an individual being an intruder given that an alarm is triggered).\n",
    "P(A = 1 | I = 0) = 0.001 (Probability of an alarm being triggered given that the individual is not an intruder).\n",
    "P(I = 1) = 0.00001 (Probability of an individual being an intruder).\n",
    "\n",
    "We can calculate P(A = 1) using the law of total probability:\n",
    "P(A = 1) = P(A = 1 | I = 1) * P(I = 1) + P(A = 1 | I = 0) * P(I = 0)\n",
    "P(A = 1) = 0.98 * 0.00001 + 0.001 * (1 - 0.00001)\n",
    "P(A = 1) = 0.0000098 + 0.000999\n",
    "P(A = 0.0010098\n",
    "\n",
    "Now, we can calculate P(A = 1 | I = 1) using Bayes' theorem:\n",
    "P(A = 1 | I = 1) = P(I = 1 | A = 1) * P(A = 1) / P(I = 1)\n",
    "P(A = 1 | I = 1) = 0.98 * 0.0010098 / 0.00001\n",
    "P(A = 1 | I = 1) ≈ 0.098\n",
    "\n",
    "So, the chances that an alarm would be triggered when an individual is actually an intruder are approximately 0.098 or 9.8%."
   ]
  },
  {
   "cell_type": "markdown",
   "id": "f77604ca",
   "metadata": {},
   "source": [
    "\n",
    "##### 7. An antibiotic resistance test (random variable T) has 1% false positives (i.e., 1% of those who are not immune to an antibiotic display a positive result in the test) and 5% false negatives (i.e., 1% of those who are not resistant to an antibiotic show a positive result in the test) (i.e. 5 percent of those actually resistant to an antibiotic test negative). Assume that 2% of those who were screened were antibiotic-resistant. Calculate the likelihood that a person who tests positive is actually immune (random variable D).\n",
    "**Answer**\n"
   ]
  },
  {
   "cell_type": "markdown",
   "id": "6ac8e082",
   "metadata": {},
   "source": [
    "##### 8. In order to prepare for the test, a student knows that there will be one question in the exam that is either form A, B, or C. The chances of getting an A, B, or C on the exam are 30 percent, 20%, and 50 percent, respectively. During the planning, the student solved 9 of 10 type A problems, 2 of 10 type B problems, and 6 of 10 type C problems.\n",
    "\n",
    "         1. What is the likelihood that the student can solve the exam problem?\n",
    "\n",
    "         2. Given the student's solution, what is the likelihood that the problem was of form A?\n",
    "**Answer**\n"
   ]
  },
  {
   "cell_type": "markdown",
   "id": "a5c88b56",
   "metadata": {},
   "source": [
    "##### 9. A bank installs a CCTV system to track and photograph incoming customers. Despite the constant influx of customers, we divide the timeline into 5 minute bins. There may be a customer coming into the bank with a 5% chance in each 5-minute time period, or there may be no customer (again, for simplicity, we assume that either there is 1 customer or none, not the case of multiple customers). If there is a client, the CCTV will detect them with a 99 percent probability. If there is no customer, the camera can take a false photograph with a 10% chance of detecting movement from other objects.\n",
    "\n",
    "                1. How many customers come into the bank on a daily basis (10 hours)?\n",
    "\n",
    "                2. On a daily basis, how many fake photographs (photographs taken when there is no customer) and how many missed photographs (photographs taken when there is a customer) are there?\n",
    "\n",
    "                3. Explain likelihood that there is a customer if there is a photograph?\n",
    "**Answer**\n",
    "To calculate the number of customers coming into the bank on a daily basis (10 hours), we need to determine the number of 5-minute bins in 10 hours and then calculate the expected number of customers based on the 5% chance of a customer arriving in each bin.\n",
    "Number of 5-minute bins in 10 hours = 10 hours * 60 minutes/hour ÷ 5 minutes/bin = 120 bins\n",
    "\n",
    "Expected number of customers on a daily basis = 120 bins * 0.05 (5% chance of a customer) = 6 customers\n",
    "\n",
    "To calculate the number of fake photographs and missed photographs on a daily basis, we use the probabilities given for the CCTV system.\n",
    "Number of fake photographs (false alarms):\n",
    "Number of 5-minute bins in 10 hours = 120 bins\n",
    "Expected number of bins with no customer = 120 bins * (1 - 0.05) = 114 bins\n",
    "Number of fake photographs = 114 bins * 0.10 (10% chance of a false alarm) = 11.4 photographs (rounded to 11 photographs)\n",
    "\n",
    "Number of missed photographs:\n",
    "Expected number of customers on a daily basis = 6 customers\n",
    "Probability of detecting a customer = 0.99 (99% probability of detecting a customer)\n",
    "Number of missed photographs = 6 customers * (1 - 0.99) = 6 * 0.01 = 0.06 photographs (rounded to 0 photographs, as it is not possible to have a fraction of a photograph)"
   ]
  },
  {
   "cell_type": "markdown",
   "id": "5da5ac34",
   "metadata": {},
   "source": [
    "##### 10. Create the conditional probability table associated with the node Won Toss in the Bayesian Belief network to represent the conditional independence assumptions of the Nave Bayes classifier for the match winning prediction problem in Section 6.4.4.\n",
    "**Answer**"
   ]
  },
  {
   "cell_type": "code",
   "execution_count": null,
   "id": "5c5c10bd",
   "metadata": {},
   "outputs": [],
   "source": []
  },
  {
   "cell_type": "code",
   "execution_count": null,
   "id": "78012989",
   "metadata": {},
   "outputs": [],
   "source": []
  },
  {
   "cell_type": "code",
   "execution_count": null,
   "id": "a1ca34b9",
   "metadata": {},
   "outputs": [],
   "source": []
  },
  {
   "cell_type": "code",
   "execution_count": null,
   "id": "575650b1",
   "metadata": {},
   "outputs": [],
   "source": []
  },
  {
   "cell_type": "code",
   "execution_count": null,
   "id": "32d413df",
   "metadata": {},
   "outputs": [],
   "source": []
  },
  {
   "cell_type": "code",
   "execution_count": null,
   "id": "cef9b569",
   "metadata": {},
   "outputs": [],
   "source": []
  }
 ],
 "metadata": {
  "kernelspec": {
   "display_name": "Python 3 (ipykernel)",
   "language": "python",
   "name": "python3"
  },
  "language_info": {
   "codemirror_mode": {
    "name": "ipython",
    "version": 3
   },
   "file_extension": ".py",
   "mimetype": "text/x-python",
   "name": "python",
   "nbconvert_exporter": "python",
   "pygments_lexer": "ipython3",
   "version": "3.9.0"
  }
 },
 "nbformat": 4,
 "nbformat_minor": 5
}
