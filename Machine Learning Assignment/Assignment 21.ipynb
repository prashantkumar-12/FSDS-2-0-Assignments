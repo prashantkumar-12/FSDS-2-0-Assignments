{
 "cells": [
  {
   "cell_type": "markdown",
   "id": "b2aa57f2",
   "metadata": {},
   "source": [
    "# Assignment 21 Solutions"
   ]
  },
  {
   "cell_type": "markdown",
   "id": "111120c6",
   "metadata": {},
   "source": [
    "##### 1. What is the estimated depth of a Decision Tree trained (unrestricted) on a one million instance training set ?"
   ]
  },
  {
   "cell_type": "markdown",
   "id": "f18be88a",
   "metadata": {},
   "source": [
    "**Answer*\n",
    "\n",
    "Estimated Depth of Decision Tree on a One Million Instance Training Set:\n",
    "The estimated depth of a decision tree trained on a one million instance training set depends on various factors, such as the complexity of the data, number of features, and the algorithm used. Without specific information on these factors, it is challenging to determine the exact depth. In practice, decision trees can have depths ranging from a few levels to tens or even hundreds of levels, depending on the data and hyperparameters."
   ]
  },
  {
   "cell_type": "markdown",
   "id": "4ae857d4",
   "metadata": {},
   "source": [
    "##### 2. Is the Gini impurity of a node usually lower or higher than that of its parent? Is it always lower/greater, or is it usually lower/greater ?"
   ]
  },
  {
   "cell_type": "markdown",
   "id": "4a7c7241",
   "metadata": {},
   "source": [
    "**Answer*\n",
    "\n",
    "Gini Impurity of a Node:\n",
    "\n",
    "The Gini impurity of a node is usually lower than that of its parent when the node's split results in more homogeneous child nodes (i.e., child nodes with similar class distribution).\n",
    "It is not guaranteed to always be lower since Gini impurity is a measure of the overall impurity in the node, and sometimes a split may increase impurity slightly, but lead to a better overall partition of the data."
   ]
  },
  {
   "cell_type": "markdown",
   "id": "c981ac1e",
   "metadata": {},
   "source": [
    "##### 3. Explain if its a good idea to reduce max depth if a Decision Tree is overfitting the training set ?"
   ]
  },
  {
   "cell_type": "markdown",
   "id": "d4f3ed46",
   "metadata": {},
   "source": [
    "**Answer*\n",
    "\n",
    "Reducing Max Depth to Combat Overfitting:\n",
    "Yes, reducing the maximum depth of a decision tree can be a good idea if the tree is overfitting the training set. A shallow tree with limited depth will have fewer nodes and less complex decision boundaries, making it less likely to memorize noise in the data. By reducing the depth, the model's ability to generalize to unseen data may improve, thus reducing overfitting."
   ]
  },
  {
   "cell_type": "markdown",
   "id": "07ab2a64",
   "metadata": {},
   "source": [
    "##### 4. Explain if its a  good idea to try scaling the input features if a Decision Tree underfits the training set ?"
   ]
  },
  {
   "cell_type": "markdown",
   "id": "b4d96cac",
   "metadata": {},
   "source": [
    "**Answer*\n",
    "\n",
    "Scaling Input Features to Address Underfitting:\n",
    "Scaling input features is typically unnecessary for decision trees. Decision trees make splits based on feature thresholds and do not depend on the scale of the features. However, if the decision tree is underfitting the training set, other solutions like tuning hyperparameters, increasing the tree's depth, or using ensemble methods like Random Forest may be more effective."
   ]
  },
  {
   "cell_type": "markdown",
   "id": "0be2162e",
   "metadata": {},
   "source": [
    "##### 5. How much time will it take to train another Decision Tree on a training set of 10 million instances if it takes an hour to train a Decision Tree on a training set with 1 million instances ?"
   ]
  },
  {
   "cell_type": "markdown",
   "id": "7a135966",
   "metadata": {},
   "source": [
    "**Answer*\n",
    "\n",
    "Training Time for a 10 Million Instance Training Set:\n",
    "The training time for a decision tree is generally proportional to the number of instances and the number of features. If it takes an hour to train a decision tree on a training set with 1 million instances, it might take approximately 10 hours to train another decision tree on a training set with 10 million instances, assuming the hardware and other conditions remain the same."
   ]
  },
  {
   "cell_type": "markdown",
   "id": "a96163dd",
   "metadata": {},
   "source": [
    "##### 6. Will setting presort=True speed up training if your training set has 100,000 instances ?"
   ]
  },
  {
   "cell_type": "markdown",
   "id": "09410cbb",
   "metadata": {},
   "source": [
    "**Answer*\n",
    "\n",
    "Setting presort=True in scikit-learn's DecisionTreeClassifier or DecisionTreeRegressor can speed up training for smaller datasets, but it is generally not recommended for datasets with a large number of instances, such as 100,000 instances.\n",
    "\n",
    "When presort=True, the algorithm pre-sorts the data before splitting nodes during the tree construction process. This pre-sorting can be beneficial for smaller datasets where the overhead of sorting is manageable. However, for larger datasets with 100,000 instances, the sorting process can become computationally expensive and can significantly slow down the training process. The overhead of sorting may outweigh the benefits of faster node splits.\n",
    "\n",
    "In practice, for larger datasets, it is often more efficient to use the default setting presort=False, which avoids the costly pre-sorting step and uses an optimized algorithm that dynamically searches for the best split points during tree construction. This default setting is generally more efficient for larger datasets and is the recommended approach when dealing with datasets of this size."
   ]
  },
  {
   "cell_type": "markdown",
   "id": "6b3b649e",
   "metadata": {},
   "source": [
    "##### 7. Follow these steps to train and fine-tune a Decision Tree for the moons dataset:\n",
    "1. To build a moons dataset, use make moons(n samples=10000, noise=0.4).\n",
    "2. Divide the dataset into a training and a test collection with train test split().\n",
    "3. To find good hyperparameters values for a DecisionTreeClassifier, use grid search with cross-validation (with the GridSearchCV class). Try different values for max leaf nodes.\n",
    "4. Use these hyperparameters to train the model on the entire training set, and then assess its output on the test set. You can achieve an accuracy of 85 to 87 percent."
   ]
  },
  {
   "cell_type": "code",
   "execution_count": 2,
   "id": "62149770",
   "metadata": {},
   "outputs": [
    {
     "name": "stdout",
     "output_type": "stream",
     "text": [
      "Accuracy: 87.00%\n"
     ]
    }
   ],
   "source": [
    "###**Answer*\n",
    "\n",
    "# Step 1: Import necessary libraries\n",
    "import numpy as np\n",
    "from sklearn.datasets import make_moons\n",
    "from sklearn.model_selection import train_test_split, GridSearchCV\n",
    "from sklearn.tree import DecisionTreeClassifier\n",
    "from sklearn.metrics import accuracy_score\n",
    "\n",
    "# Step 2: Generate the moons dataset\n",
    "X, y = make_moons(n_samples=10000, noise=0.4, random_state=42)\n",
    "\n",
    "# Step 3: Split the dataset into training and test sets\n",
    "X_train, X_test, y_train, y_test = train_test_split(X, y, test_size=0.2, random_state=42)\n",
    "\n",
    "# Step 4: Define hyperparameters for grid search\n",
    "param_grid = {\n",
    "    'max_leaf_nodes': [None, 5, 10, 15, 20]  # Try different values for max leaf nodes\n",
    "}\n",
    "\n",
    "# Step 5: Create a DecisionTreeClassifier\n",
    "dt_classifier = DecisionTreeClassifier(random_state=42)\n",
    "\n",
    "# Step 6: Perform grid search with cross-validation\n",
    "grid_search = GridSearchCV(dt_classifier, param_grid, cv=5, scoring='accuracy', n_jobs=-1)\n",
    "grid_search.fit(X_train, y_train)\n",
    "\n",
    "# Step 7: Get the best hyperparameters\n",
    "best_params = grid_search.best_params_\n",
    "\n",
    "# Step 8: Train the model with the best hyperparameters on the entire training set\n",
    "best_dt_classifier = DecisionTreeClassifier(**best_params, random_state=42)\n",
    "best_dt_classifier.fit(X_train, y_train)\n",
    "\n",
    "# Step 9: Assess the model's performance on the test set\n",
    "y_pred = best_dt_classifier.predict(X_test)\n",
    "accuracy = accuracy_score(y_test, y_pred)\n",
    "\n",
    "# Step 10: Print the accuracy\n",
    "print(\"Accuracy: {:.2f}%\".format(accuracy * 100))\n"
   ]
  },
  {
   "cell_type": "markdown",
   "id": "54020cf8",
   "metadata": {},
   "source": [
    "##### 8. Follow these steps to grow a forest:\n",
    "1. Using the same method as before, create 1,000 subsets of the training set, each containing 100 instances chosen at random. You can do this with Scikit-ShuffleSplit Learn's class.\n",
    "2. Using the best hyperparameter values found in the previous exercise, train one Decision Tree on each subset. On the test collection, evaluate these 1,000 Decision Trees. These Decision        Trees would likely perform worse than the first Decision Tree, achieving only around 80% accuracy, since they were trained on smaller sets.\n",
    "3. Now the magic begins. Create 1,000 Decision Tree predictions for each test set case, and keep only the most common prediction (you can do this with SciPy's mode() function). Over the test collection, this method gives you majority-vote predictions.\n",
    "4. On the test range, evaluate these predictions: you should achieve a slightly higher accuracy than the first model (approx 0.5 to 1.5 percent higher). You've successfully learned a Random Forest classifier!"
   ]
  },
  {
   "cell_type": "markdown",
   "id": "1c9b181c",
   "metadata": {},
   "source": [
    "**Answer*"
   ]
  }
 ],
 "metadata": {
  "kernelspec": {
   "display_name": "Python 3 (ipykernel)",
   "language": "python",
   "name": "python3"
  },
  "language_info": {
   "codemirror_mode": {
    "name": "ipython",
    "version": 3
   },
   "file_extension": ".py",
   "mimetype": "text/x-python",
   "name": "python",
   "nbconvert_exporter": "python",
   "pygments_lexer": "ipython3",
   "version": "3.9.0"
  }
 },
 "nbformat": 4,
 "nbformat_minor": 5
}
