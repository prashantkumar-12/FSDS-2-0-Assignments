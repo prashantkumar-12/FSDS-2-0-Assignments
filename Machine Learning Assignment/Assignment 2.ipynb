{
 "cells": [
  {
   "cell_type": "markdown",
   "id": "c029c33b",
   "metadata": {},
   "source": [
    "# Assignment 02 Solutions"
   ]
  },
  {
   "cell_type": "markdown",
   "id": "fc7b0fec",
   "metadata": {},
   "source": [
    "##### 1.What are the two values of the Boolean data type? How do you write them?\n",
    "\n",
    "**Answers** :The two values of the Boolean data type are:\n",
    "\n",
    "True (written as True)\n",
    "False (written as False)"
   ]
  },
  {
   "cell_type": "markdown",
   "id": "00101a65",
   "metadata": {},
   "source": [
    "##### 2. What are the three different types of Boolean operators?\n",
    "**Answers :**\n",
    "The three different types of Boolean operators are:\n",
    "\n",
    "AND (written as and)\n",
    "OR (written as or)\n",
    "NOT (written as not)"
   ]
  },
  {
   "cell_type": "markdown",
   "id": "aa917f0b",
   "metadata": {},
   "source": [
    "##### 3. Make a list of each Boolean operator's truth tables (i.e. every possible combination of Boolean values for the operator and what it evaluate ).\n",
    "\n",
    "**Answers : **\n",
    "\n",
    "Truth tables for Boolean operators:\n",
    "\n",
    "AND (conjunction):\n",
    "\n",
    "A\tB\tA AND B\n",
    "False\tFalse\tFalse\n",
    "False\tTrue\tFalse\n",
    "True\tFalse\tFalse\n",
    "True\tTrue\tTrue\n",
    "OR (disjunction):\n",
    "\n",
    "A\tB\tA OR B\n",
    "False\tFalse\tFalse\n",
    "False\tTrue\tTrue\n",
    "True\tFalse\tTrue\n",
    "True\tTrue\tTrue\n",
    "NOT (negation):\n",
    "\n",
    "A\tNOT A\n",
    "False\tTrue\n",
    "True\tFalse\n"
   ]
  },
  {
   "cell_type": "markdown",
   "id": "6585c918",
   "metadata": {},
   "source": [
    "##### 4. What are the values of the following expressions?\n",
    "(5 > 4) and (3 == 5)\n",
    "not (5 > 4)\n",
    "(5 > 4) or (3 == 5)\n",
    "not ((5 > 4) or (3 == 5))\n",
    "(True and True) and (True == False)\n",
    "(not False) or (not True)\n",
    "**Answers**\n",
    "\n",
    "Values of the given expressions:\n",
    "\n",
    "(5 > 4) and (3 == 5) - False\n",
    "not (5 > 4) - False\n",
    "(5 > 4) or (3 == 5) - True\n",
    "not ((5 > 4) or (3 == 5)) - False\n",
    "(True and True) and (True == False) - False\n",
    "(not False) or (not True) - True"
   ]
  },
  {
   "cell_type": "markdown",
   "id": "e3df3296",
   "metadata": {},
   "source": [
    "##### 5. What are the six comparison operators?\n",
    "**Answers**\n",
    "The six comparison operators are:\n",
    "\n",
    "Equal to: ==\n",
    "Not equal to: !=\n",
    "Greater than: >\n",
    "Less than: <\n",
    "Greater than or equal to: >=\n",
    "Less than or equal to: <="
   ]
  },
  {
   "cell_type": "markdown",
   "id": "1d072937",
   "metadata": {},
   "source": [
    "##### 6. How do you tell the difference between the equal to and assignment operators?Describe a condition and when you would use one.\n",
    "**Answers**\n",
    "To tell the difference between the equal to (==) and assignment (=) operators:\n",
    "\n",
    "The equal to (==) operator is used to check if two values are equal in a condition or expression.\n",
    "The assignment (=) operator is used to assign a value to a variable.\n",
    "Example:\n",
    "x = 5   # Assignment\n",
    "if x == 5:  # Equal to comparison in a condition\n",
    "    # Some code here\n"
   ]
  },
  {
   "cell_type": "markdown",
   "id": "04b035fc",
   "metadata": {},
   "source": [
    "##### 7. Identify the three blocks in this code:\n",
    "spam = 0\n",
    "if spam == 10:\n",
    "print('eggs')\n",
    "if spam > 5:\n",
    "print('bacon')\n",
    "else:\n",
    "print('ham')\n",
    "print('spam')\n",
    "print('spam')\n",
    "\n",
    "**Answers**\n",
    "Identify the three blocks in this code:\n",
    "spam = 0\n",
    "if spam == 10:\n",
    "    print('eggs')   # Block 1\n",
    "if spam > 5:\n",
    "    print('bacon')  # Block 2\n",
    "else:\n",
    "    print('ham')    # Block 3\n",
    "\n",
    "print('spam')       # Not part of any block\n",
    "print('spam')       # Not part of any block\n",
    "Blocks are defined by indentation in Python. The three blocks are as follows:\n",
    "\n",
    "Block 1:\n",
    "\n",
    "if spam == 10: line is the start of Block 1.\n",
    "The code inside this block is indented and contains only one line: print('eggs').\n",
    "Block 2:\n",
    "\n",
    "if spam > 5: line is the start of Block 2.\n",
    "The code inside this block is indented and contains only one line: print('bacon').\n",
    "Block 3:\n",
    "\n",
    "The else: statement marks the start of Block 3.\n",
    "The code inside this block is indented and contains one line: print('ham').\n",
    "The lines print('spam') are not part of any block, as they are not indented and will be executed unconditionally."
   ]
  },
  {
   "cell_type": "markdown",
   "id": "f9021dba",
   "metadata": {},
   "source": [
    "##### 8. Write code that prints Hello if 1 is stored in spam, prints Howdy if 2 is stored in spam, and prints Greetings! if anything else is stored in spam.\n",
    "**Answers**\n",
    "spam =  # Some value here\n",
    "\n",
    "if spam == 1:\n",
    "    print('Hello')\n",
    "elif spam == 2:\n",
    "    print('Howdy')\n",
    "else:\n",
    "    print('Greetings!')\n",
    "Replace # Some value here with the actual value you want to store in spam, and the code will print the appropriate message based on that value. If spam is 1, it will print \"Hello\". If spam is 2, it will print \"Howdy\". And if spam is anything other than 1 or 2, it will print \"Greetings!\".\n",
    "\n",
    "For example, if you set spam = 1, the output will be:\n",
    "\n",
    "Copy code\n",
    "Hello\n",
    "If you set spam = 2, the output will be:\n",
    "\n",
    "Copy code\n",
    "Howdy\n",
    "If you set spam to any other value (e.g., spam = 0 or spam = 42), the output will be:\n",
    "\n",
    "Copy code\n",
    "Greetings!"
   ]
  },
  {
   "cell_type": "markdown",
   "id": "61f0e846",
   "metadata": {},
   "source": [
    "##### 9.If your programme is stuck in an endless loop, what keys you’ll press?\n",
    "**Answers**\n",
    "If your program is stuck in an endless loop, you can press Ctrl + C on your keyboard to interrupt the execution and terminate the program.\n",
    "\n",
    "When you press Ctrl + C, it sends an interrupt signal to the running program, which causes it to break out of the loop and terminate. This allows you to regain control and stop the program from running indefinitely."
   ]
  },
  {
   "cell_type": "markdown",
   "id": "120778c8",
   "metadata": {},
   "source": [
    "##### 10. How can you tell the difference between break and continue?\n",
    "**Answers**\n",
    "break and continue are two control flow statements used in loops (e.g., for and while loops) to modify the flow of execution. Here's how you can tell the difference between them:\n",
    "\n",
    "break:\n",
    "\n",
    "When encountered inside a loop, break immediately terminates the loop and moves the control to the next statement after the loop.\n",
    "It is used to forcefully exit the loop prematurely based on a certain condition.\n",
    "Example:\n",
    "\n",
    "python\n",
    "Copy code\n",
    "for num in range(1, 6):\n",
    "    if num == 4:\n",
    "        break  # Loop will be terminated when num is 4\n",
    "    print(num)\n",
    "Output:\n",
    "\n",
    "Copy code\n",
    "1\n",
    "2\n",
    "3\n",
    "continue:\n",
    "\n",
    "When encountered inside a loop, continue skips the rest of the loop's code for the current iteration and moves to the next iteration.\n",
    "It is used to skip specific iterations based on a certain condition without terminating the entire loop.\n",
    "Example:\n",
    "\n",
    "python\n",
    "Copy code\n",
    "for num in range(1, 6):\n",
    "    if num == 3:\n",
    "        continue  # Skip the rest of the loop for num = 3\n",
    "    print(num)\n",
    "Output:\n",
    "\n",
    "Copy code\n",
    "1\n",
    "2\n",
    "4\n",
    "5\n",
    "In summary, break is used to terminate the loop completely, while continue is used to skip the current iteration and move to the next one."
   ]
  },
  {
   "cell_type": "markdown",
   "id": "c752f1a2",
   "metadata": {},
   "source": [
    "##### 11. In a for loop, what is the difference between range(10), range(0, 10), and range(0, 10, 1)?\n",
    "**Answers**\n",
    "The range(10), range(0, 10), and range(0, 10, 1) expressions in a for loop are all equivalent and produce the sequence of numbers from 0 to 9 (excluding 10) with a step of 1."
   ]
  },
  {
   "cell_type": "markdown",
   "id": "3a98e389",
   "metadata": {},
   "source": []
  },
  {
   "cell_type": "markdown",
   "id": "c055c3b9",
   "metadata": {},
   "source": [
    "##### 13. If you had a function named bacon() inside a module named spam, how would you call it after importing spam?\n",
    "**Answers**\n",
    "After importing the module spam, you can call the function bacon() using the dot notation.\n",
    "\n",
    "Here's how you would do it:\n",
    "\n",
    "\n",
    "Import the module\n",
    "import spam\n",
    "\n",
    "Call the function\n",
    "spam.bacon()\n",
    "Alternatively, if you only want to import the bacon() function from the spam module, you can use the following approach:\n",
    "\n",
    "Import only the bacon() function from the module\n",
    "from spam import bacon\n",
    "\n",
    "Call the function directly\n",
    "bacon()\n",
    "Both of these methods will allow you to call the bacon() function from the spam module and execute its code."
   ]
  },
  {
   "cell_type": "code",
   "execution_count": null,
   "id": "31efb6e9",
   "metadata": {},
   "outputs": [],
   "source": []
  },
  {
   "cell_type": "code",
   "execution_count": null,
   "id": "008a01e3",
   "metadata": {},
   "outputs": [],
   "source": []
  }
 ],
 "metadata": {
  "kernelspec": {
   "display_name": "Python 3 (ipykernel)",
   "language": "python",
   "name": "python3"
  },
  "language_info": {
   "codemirror_mode": {
    "name": "ipython",
    "version": 3
   },
   "file_extension": ".py",
   "mimetype": "text/x-python",
   "name": "python",
   "nbconvert_exporter": "python",
   "pygments_lexer": "ipython3",
   "version": "3.9.0"
  }
 },
 "nbformat": 4,
 "nbformat_minor": 5
}
