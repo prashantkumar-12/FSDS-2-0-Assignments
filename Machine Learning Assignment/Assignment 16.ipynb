{
 "cells": [
  {
   "cell_type": "markdown",
   "id": "59491b74",
   "metadata": {},
   "source": [
    "##### 1. In a linear equation, what is the difference between a dependent variable and an independent variable?\n",
    "**Answer**\n",
    "In a linear equation:\n",
    "Dependent Variable: The variable that is being predicted or explained. It depends on the values of other variables and is represented on the vertical (y) axis in a graph.\n",
    "Independent Variable: The variable that is used to make predictions or explanations. It influences the dependent variable and is represented on the horizontal (x) axis in a graph."
   ]
  },
  {
   "cell_type": "markdown",
   "id": "5fe6aab8",
   "metadata": {},
   "source": [
    "##### 2. What is the concept of simple linear regression? Give a specific example.\n",
    "**Answer**\n",
    "Concept of Simple Linear Regression:\n",
    "Simple linear regression is a statistical technique used to model the relationship between a dependent variable (Y) and a single independent variable (X) by fitting a straight line to the data points. The equation of a simple linear regression is Y = b0 + b1*X, where b0 is the y-intercept, and b1 is the slope of the line. It represents how Y changes with a unit change in X.\n",
    "Example: Predicting a student's exam score (Y) based on the number of hours studied (X). Here, the number of hours studied is the independent variable, and the exam score is the dependent variable."
   ]
  },
  {
   "cell_type": "markdown",
   "id": "c1e73f37",
   "metadata": {},
   "source": [
    "##### 3. In a linear regression, define the slope.\n",
    "**Answer**\n",
    "In linear regression, the slope represents the change in the dependent variable (Y) concerning a unit change in the independent variable (X). It indicates the rate of change of Y with respect to X."
   ]
  },
  {
   "cell_type": "markdown",
   "id": "9c1e6472",
   "metadata": {},
   "source": [
    "##### 4. Determine the graph's slope, where the lower point on the line is represented as (3, 2) and the higher point is represented as (2, 2).\n",
    "**Answer**\n",
    "To determine the slope of the graph, we use the formula:\n",
    "Slope (m) = (Change in Y) / (Change in X)\n",
    "\n",
    "Given points: (3, 2) and (2, 2)\n",
    "Slope (m) = (2 - 2) / (3 - 2) = 0"
   ]
  },
  {
   "cell_type": "markdown",
   "id": "29e63d65",
   "metadata": {},
   "source": [
    "##### 5. In linear regression, what are the conditions for a positive slope?\n",
    "**Answer**\n",
    "Conditions for a positive slope in linear regression:\n",
    "A positive slope indicates that as the independent variable increases, the dependent variable also increases. This happens when the data points have a positive correlation, meaning that they show an upward trend."
   ]
  },
  {
   "cell_type": "markdown",
   "id": "36bf5796",
   "metadata": {},
   "source": [
    "##### 6. In linear regression, what are the conditions for a negative slope?\n",
    "**Answer**\n",
    "Conditions for a negative slope in linear regression:\n",
    "A negative slope indicates that as the independent variable increases, the dependent variable decreases. This happens when the data points have a negative correlation, meaning that they show a downward trend."
   ]
  },
  {
   "cell_type": "markdown",
   "id": "8f249293",
   "metadata": {},
   "source": [
    "##### 7. What is multiple linear regression and how does it work?\n",
    "**Answer**\n",
    "Multiple Linear Regression:\n",
    "Multiple linear regression is an extension of simple linear regression that involves two or more independent variables to predict a dependent variable. The equation of multiple linear regression is Y = b0 + b1X1 + b2X2 + ... + bn*Xn, where b0 is the y-intercept, and b1, b2, ..., bn are the coefficients representing the effect of each independent variable on the dependent variable."
   ]
  },
  {
   "cell_type": "markdown",
   "id": "1327c8ec",
   "metadata": {},
   "source": [
    "##### 8. In multiple linear regression, define the number of squares due to error.\n",
    "**Answer**\n",
    "In multiple linear regression, the \"Sum of Squares due to Error\" (SSE) is a measure of the variation in the dependent variable that is not explained by the model. It represents the discrepancy between the actual values of the dependent variable and the values predicted by the regression model. Minimizing the SSE is one of the key objectives in fitting a multiple linear regression model to the data."
   ]
  },
  {
   "cell_type": "markdown",
   "id": "968ba593",
   "metadata": {},
   "source": [
    "##### 9. In multiple linear regression, define the number of squares due to regression.\n",
    "**Answer**\n",
    "In multiple linear regression, the \"Sum of Squares due to Regression\" (SSR) represents the total variation in the dependent variable (Y) that is explained by the regression model. It measures how well the model fits the data and represents the sum of the squared differences between the predicted values and the mean of the dependent variable."
   ]
  },
  {
   "cell_type": "markdown",
   "id": "1cbecf3c",
   "metadata": {},
   "source": [
    "##### 10. In a regression equation, what is multicollinearity?\n",
    "**Answer**\n",
    "Multicollinearity in a regression equation occurs when two or more independent variables are highly correlated with each other. It can cause problems in the regression model as it becomes challenging to distinguish the individual effects of the correlated variables on the dependent variable. Multicollinearity can lead to unstable coefficient estimates and reduced interpretability of the model."
   ]
  },
  {
   "cell_type": "markdown",
   "id": "884f754a",
   "metadata": {},
   "source": [
    "##### 11. What is heteroskedasticity, and what does it mean?\n",
    "**Answer**\n",
    "Heteroskedasticity refers to the situation in regression analysis where the variability of the residuals (the differences between the observed values and the predicted values) is not constant across all levels of the independent variable(s). It means that the spread of the residuals changes as the value of the independent variable changes. Heteroskedasticity violates the assumption of constant variance of residuals, which can affect the accuracy of statistical tests and confidence intervals in the regression model."
   ]
  },
  {
   "cell_type": "markdown",
   "id": "6b0787d2",
   "metadata": {},
   "source": [
    "##### 12. Describe the concept of ridge regression.\n",
    "**Answer**\n",
    "Ridge Regression:\n",
    "Ridge regression is a regularized linear regression technique used to handle multicollinearity and prevent overfitting in multiple linear regression models. It adds a penalty term (L2 regularization) to the sum of squared errors, which helps to shrink the coefficient estimates of correlated variables towards zero. This reduces the impact of multicollinearity and stabilizes the model."
   ]
  },
  {
   "cell_type": "markdown",
   "id": "6a3776ad",
   "metadata": {},
   "source": [
    "##### 13. Describe the concept of lasso regression.\n",
    "**Answer**\n",
    "Lasso Regression:\n",
    "Lasso regression (Least Absolute Shrinkage and Selection Operator) is another regularized linear regression technique that combines variable selection with shrinkage. It adds a penalty term (L1 regularization) to the sum of squared errors, which can lead to some coefficient estimates being exactly zero. Lasso regression can be used for feature selection, as it tends to eliminate less important variables from the model."
   ]
  },
  {
   "cell_type": "markdown",
   "id": "1ffbb08b",
   "metadata": {},
   "source": [
    "##### 14. What is polynomial regression and how does it work?\n",
    "**Answer**\n",
    "Polynomial Regression:\n",
    "Polynomial regression is a form of regression analysis that allows the relationship between the independent and dependent variables to be modeled as an nth-degree polynomial equation. It works by adding polynomial terms (such as x^2, x^3, etc.) to the linear regression equation, allowing the model to capture more complex nonlinear relationships between the variables."
   ]
  },
  {
   "cell_type": "markdown",
   "id": "b338e28c",
   "metadata": {},
   "source": [
    "##### 15. Describe the basis function.\n",
    "**Answer**\n",
    "Basis Function:\n",
    "In the context of polynomial regression, a basis function is a mathematical function used to transform the original features (independent variables) into higher-dimensional space. Polynomial basis functions are used to create polynomial regression models by introducing polynomial terms (such as x^2, x^3, etc.) based on the degree of the polynomial."
   ]
  },
  {
   "cell_type": "markdown",
   "id": "76afba9f",
   "metadata": {},
   "source": [
    "##### 16. Describe how logistic regression works.\n",
    "**Answer**\n",
    "Logistic Regression:\n",
    "Logistic regression is a statistical method used for binary classification tasks, where the dependent variable is categorical with two possible outcomes (e.g., Yes/No, 1/0). It models the probability of the binary outcome as a function of the independent variables using the logistic (sigmoid) function. The logistic regression model outputs a probability score, and a threshold is used to make the final classification decision."
   ]
  },
  {
   "cell_type": "code",
   "execution_count": null,
   "id": "e0dd2f8d",
   "metadata": {},
   "outputs": [],
   "source": []
  },
  {
   "cell_type": "code",
   "execution_count": null,
   "id": "42a44b31",
   "metadata": {},
   "outputs": [],
   "source": []
  },
  {
   "cell_type": "code",
   "execution_count": null,
   "id": "7db273fe",
   "metadata": {},
   "outputs": [],
   "source": []
  },
  {
   "cell_type": "code",
   "execution_count": null,
   "id": "1ce2f408",
   "metadata": {},
   "outputs": [],
   "source": []
  }
 ],
 "metadata": {
  "kernelspec": {
   "display_name": "Python 3 (ipykernel)",
   "language": "python",
   "name": "python3"
  },
  "language_info": {
   "codemirror_mode": {
    "name": "ipython",
    "version": 3
   },
   "file_extension": ".py",
   "mimetype": "text/x-python",
   "name": "python",
   "nbconvert_exporter": "python",
   "pygments_lexer": "ipython3",
   "version": "3.9.0"
  }
 },
 "nbformat": 4,
 "nbformat_minor": 5
}
