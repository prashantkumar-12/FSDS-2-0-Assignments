{
 "cells": [
  {
   "cell_type": "markdown",
   "id": "b2aa57f2",
   "metadata": {},
   "source": [
    "# Assignment 24 Solutions"
   ]
  },
  {
   "cell_type": "markdown",
   "id": "111120c6",
   "metadata": {},
   "source": [
    "##### 1. What is your definition of clustering? What are a few clustering algorithms you might think of ?"
   ]
  },
  {
   "cell_type": "markdown",
   "id": "c7c66c7b",
   "metadata": {},
   "source": [
    "**Ans:** Clustering:\n",
    "Clustering is a type of unsupervised learning where the goal is to group similar data points together into clusters based on their inherent similarities or patterns. The objective is to maximize the intra-cluster similarity and minimize the inter-cluster similarity.\n",
    "Popular Clustering Algorithms:\n",
    "\n",
    "K-Means\n",
    "Hierarchical Clustering\n",
    "DBSCAN (Density-Based Spatial Clustering of Applications with Noise)\n",
    "Gaussian Mixture Model (GMM)"
   ]
  },
  {
   "cell_type": "markdown",
   "id": "4ae857d4",
   "metadata": {},
   "source": [
    "##### 2. What are some of the most popular clustering algorithm applications ?"
   ]
  },
  {
   "cell_type": "markdown",
   "id": "102a391a",
   "metadata": {},
   "source": [
    "**Ans:** Popular Clustering Algorithm Applications:\n",
    "Customer Segmentation in Marketing\n",
    "Image Segmentation in Computer Vision\n",
    "Document Clustering in Natural Language Processing\n",
    "Anomaly Detection in Network Security\n",
    "Market Basket Analysis in Retail"
   ]
  },
  {
   "cell_type": "markdown",
   "id": "c981ac1e",
   "metadata": {},
   "source": [
    "##### 3. When using K-Means, describe two strategies for selecting the appropriate number of clusters ?"
   ]
  },
  {
   "cell_type": "markdown",
   "id": "35c1c60a",
   "metadata": {},
   "source": [
    "**Ans:** Strategies for Selecting the Appropriate Number of Clusters in K-Means:\n",
    "Elbow Method: Plotting the cost (inertia) against the number of clusters and looking for the \"elbow\" point, where adding more clusters does not significantly reduce the cost.\n",
    "Silhouette Score: Calculating the average silhouette score for different numbers of clusters and selecting the value that maximizes the score, indicating well-separated clusters."
   ]
  },
  {
   "cell_type": "markdown",
   "id": "07ab2a64",
   "metadata": {},
   "source": [
    "##### 4. What is mark propagation and how does it work? Why would you do it, and how would you do it ?"
   ]
  },
  {
   "cell_type": "markdown",
   "id": "161bda60",
   "metadata": {},
   "source": [
    "**Ans:**   Mark Propagation:\n",
    "Mark propagation, also known as label propagation, is a semi-supervised learning technique where labels are iteratively propagated or assigned to unlabeled data points based on their similarity to labeled data points. It works by transferring labels from a subset of labeled data points to the rest of the unlabeled data, effectively expanding the labeled set. This technique is useful when the initial labeled data is limited, and labeling more data points manually would be time-consuming or costly."
   ]
  },
  {
   "cell_type": "markdown",
   "id": "0be2162e",
   "metadata": {},
   "source": [
    "##### 5. Provide two examples of clustering algorithms that can handle large datasets. And two that look for high-density areas ?"
   ]
  },
  {
   "cell_type": "markdown",
   "id": "15308df6",
   "metadata": {},
   "source": [
    "**Ans:** Clustering Algorithms for Large Datasets:\n",
    "\n",
    "Mini-Batch K-Means: An efficient variant of K-Means that uses random subsets (mini-batches) of data for updates, suitable for large datasets.\n",
    "DBSCAN: Density-Based Spatial Clustering of Applications with Noise, which can efficiently handle large datasets with varying cluster densities.\n",
    "Clustering Algorithms for High-Density Areas:\n",
    "Mean Shift: A density-based clustering algorithm that identifies high-density regions as modes and iteratively shifts points towards these modes.\n",
    "OPTICS (Ordering Points To Identify the Clustering Structure): A density-based algorithm that identifies clusters of varying densities and shapes, including high-density areas."
   ]
  },
  {
   "cell_type": "markdown",
   "id": "a96163dd",
   "metadata": {},
   "source": [
    "##### 6. Can you think of a scenario in which constructive learning will be advantageous? How can you go about putting it into action ?"
   ]
  },
  {
   "cell_type": "markdown",
   "id": "282fd79a",
   "metadata": {},
   "source": [
    "**Ans:** Scenario for Constructive Learning:\n",
    "Constructive learning can be advantageous in scenarios where labeled data is scarce, but it is relatively easy and inexpensive to obtain unlabeled data. In such cases, the algorithm can iteratively build and improve its model by leveraging the unlabeled data, either by using self-training, co-training, or label propagation techniques."
   ]
  },
  {
   "cell_type": "markdown",
   "id": "6b3b649e",
   "metadata": {},
   "source": [
    "##### 7. How do you tell the difference between anomaly and novelty detection?"
   ]
  },
  {
   "cell_type": "markdown",
   "id": "a8387209",
   "metadata": {},
   "source": [
    "**Ans:** Difference between Anomaly and Novelty Detection:\n",
    "\n",
    "Anomaly Detection: Identifies data points that significantly deviate from the norm or expected behavior. Anomalies are often rare and unseen during training and require detection as outliers.\n",
    "Novelty Detection: Similar to anomaly detection but focuses on identifying novel or previously unseen instances during testing. It assumes that the test data contains only instances similar to the training data and flags instances that significantly differ from the training distribution."
   ]
  },
  {
   "cell_type": "markdown",
   "id": "54020cf8",
   "metadata": {},
   "source": [
    "##### 8. What is a Gaussian mixture, and how does it work? What are some of the things you can do about it?"
   ]
  },
  {
   "cell_type": "markdown",
   "id": "e13f85d1",
   "metadata": {},
   "source": [
    "**Ans:** Gaussian Mixture Model (GMM):\n",
    "GMM is a probabilistic model used for clustering and density estimation. It represents the data as a combination of multiple Gaussian distributions. The model estimates the mean, covariance, and weights of these Gaussian components to fit the data distribution. GMM can handle data points that belong to multiple clusters and are not well-separated."
   ]
  },
  {
   "cell_type": "markdown",
   "id": "9db681d1",
   "metadata": {},
   "source": [
    "##### 9. When using a Gaussian mixture model, can you name two techniques for determining the correct number of clusters?"
   ]
  },
  {
   "cell_type": "markdown",
   "id": "5629a3d5",
   "metadata": {},
   "source": [
    "**Ans:** Techniques for Determining the Correct Number of Clusters in GMM:\n",
    "\n",
    "BIC (Bayesian Information Criterion): A criterion that penalizes the likelihood based on the number of parameters in the model, helping to select the optimal number of clusters.\n",
    "Cross-Validation: Using cross-validation techniques to evaluate the performance of GMM with different numbers of clusters on validation data and choosing the number that provides the best generalization performance."
   ]
  }
 ],
 "metadata": {
  "kernelspec": {
   "display_name": "Python 3 (ipykernel)",
   "language": "python",
   "name": "python3"
  },
  "language_info": {
   "codemirror_mode": {
    "name": "ipython",
    "version": 3
   },
   "file_extension": ".py",
   "mimetype": "text/x-python",
   "name": "python",
   "nbconvert_exporter": "python",
   "pygments_lexer": "ipython3",
   "version": "3.9.0"
  }
 },
 "nbformat": 4,
 "nbformat_minor": 5
}
