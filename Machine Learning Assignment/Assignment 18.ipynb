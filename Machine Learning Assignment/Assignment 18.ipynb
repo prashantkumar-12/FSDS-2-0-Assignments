{
 "cells": [
  {
   "cell_type": "markdown",
   "id": "92e77f0d",
   "metadata": {},
   "source": [
    "# Assignment 18"
   ]
  },
  {
   "cell_type": "markdown",
   "id": "91d09486",
   "metadata": {},
   "source": [
    "##### 1. What is the difference between supervised and unsupervised learning? Give some examples to illustrate your point.\n",
    "**Answer**\n",
    "Difference between Supervised and Unsupervised Learning:\n",
    "Supervised Learning: In supervised learning, the algorithm learns from labeled training data, where each input is associated with the correct output. The goal is to learn a mapping from inputs to outputs, enabling the model to make predictions on new, unseen data with labeled outputs. Example: Handwriting recognition (input: images of digits with corresponding labels).\n",
    "Unsupervised Learning: In unsupervised learning, the algorithm learns from unlabeled data only. It aims to find patterns, structure, or representations in the data without specific output labels. Example: Clustering customer data into different segments based on similarities without predefined categories."
   ]
  },
  {
   "cell_type": "markdown",
   "id": "2ce309e6",
   "metadata": {},
   "source": [
    "##### 2. Mention a few unsupervised learning applications.\n",
    "**Answer**\n",
    "Unsupervised Learning Applications:\n",
    "Clustering: Grouping similar data points together, as in customer segmentation or image segmentation.\n",
    "Dimensionality Reduction: Reducing the number of features while retaining important information, as in PCA (Principal Component Analysis) or t-SNE (t-distributed Stochastic Neighbor Embedding).\n",
    "Anomaly Detection: Identifying rare and abnormal data points in a dataset, which can indicate potential anomalies or fraud.\n",
    "Association Rule Mining: Discovering interesting relationships or patterns in data, as in market basket analysis."
   ]
  },
  {
   "cell_type": "markdown",
   "id": "3a231dad",
   "metadata": {},
   "source": [
    "##### 3. What are the three main types of clustering methods? Briefly describe the characteristics of each.\n",
    "**Answer**\n",
    "Three Main Types of Clustering Methods:\n",
    "Hierarchical Clustering: Creates a tree-like structure (dendrogram) of nested clusters. It can be agglomerative (bottom-up) or divisive (top-down).\n",
    "Partitioning Clustering: Divides data into non-overlapping clusters. Examples include k-means and k-medoids algorithms.\n",
    "Density-Based Clustering: Forms clusters based on data density. One popular method is DBSCAN (Density-Based Spatial Clustering of Applications with Noise)."
   ]
  },
  {
   "cell_type": "markdown",
   "id": "4a31a0e1",
   "metadata": {},
   "source": [
    "##### 4. Explain how the k-means algorithm determines the consistency of clustering.\n",
    "**Answer**\n",
    "Consistency of Clustering in k-means:\n",
    "The k-means algorithm determines the consistency of clustering by minimizing the sum of squared distances (SSE) between data points and their assigned cluster centroids. The algorithm iteratively updates the centroids and reassigns data points to clusters to minimize the SSE until convergence."
   ]
  },
  {
   "cell_type": "markdown",
   "id": "0c5a6df8",
   "metadata": {},
   "source": [
    "##### 5. With a simple illustration, explain the key difference between the k-means and k-medoids algorithms.\n",
    "**Answer**\n",
    "Key Difference between k-means and k-medoids:\n",
    "Both k-means and k-medoids are partitioning clustering algorithms. However, while k-means uses the mean of data points to represent cluster centroids, k-medoids uses the actual data points (medoids) themselves as cluster centroids. K-medoids is more robust to outliers as it uses actual data points for clustering."
   ]
  },
  {
   "cell_type": "markdown",
   "id": "290b0bfb",
   "metadata": {},
   "source": [
    "##### 6. What is a dendrogram, and how does it work? Explain how to do it.\n",
    "**Answer**\n",
    "Dendrogram:\n",
    "A dendrogram is a tree-like diagram used in hierarchical clustering to visualize the arrangement of data points into nested clusters. It illustrates the process of merging or splitting clusters at different distances. The y-axis represents the distance between clusters, and the x-axis represents the data points."
   ]
  },
  {
   "cell_type": "markdown",
   "id": "e51afc1f",
   "metadata": {},
   "source": [
    "##### 7. What exactly is SSE? What role does it play in the k-means algorithm?\n",
    "**Answer**\n",
    "SSE (Sum of Squared Errors):\n",
    "SSE is a measure of how well the data points in a cluster are grouped around their centroid in k-means clustering. It represents the sum of squared distances between each data point and its assigned cluster centroid. Minimizing SSE is the main objective of the k-means algorithm."
   ]
  },
  {
   "cell_type": "markdown",
   "id": "794e5c86",
   "metadata": {},
   "source": [
    "##### 8. With a step-by-step algorithm, explain the k-means procedure.\n",
    "**Answer**\n",
    "K-means Procedure:\n",
    "Step-by-step k-means algorithm:\n",
    "\n",
    "Randomly initialize k centroids.\n",
    "\n",
    "Assign each data point to the nearest centroid, forming k clusters.\n",
    "\n",
    "Recalculate the centroid of each cluster based on the data points assigned to it.\n",
    "\n",
    "Repeat steps 2 and 3 until the centroids stabilize (convergence)."
   ]
  },
  {
   "cell_type": "markdown",
   "id": "23706f36",
   "metadata": {},
   "source": [
    "##### 9. In the sense of hierarchical clustering, define the terms single link and complete link.\n",
    "**Answer**Single Link and Complete Link in Hierarchical Clustering:\n",
    "\n",
    "Single Link: Measures the distance between clusters based on the shortest distance between any two points in each cluster. It tends to create elongated, chaining clusters.\n",
    "Complete Link: Measures the distance between clusters based on the maximum distance between any two points in each cluster. It tends to create compact, spherical clusters.\n",
    "Apriori Concept in Business Basket Analysis:\n",
    "Apriori is an association rule mining algorithm used to discover interesting relationships between items in transactional datasets, often used in market basket analysis. It helps reduce measurement overhead by identifying frequent itemsets and eliminating the need to examine all possible item combinations. For example, if \"milk\" and \"bread\" are frequently bought together (a frequent itemset), the apriori algorithm can skip checking combinations like \"milk\" and \"bread\" with \"eggs\" as the support for the latter will be low."
   ]
  },
  {
   "cell_type": "markdown",
   "id": "1db1d97c",
   "metadata": {},
   "source": [
    "##### 10. How does the apriori concept aid in the reduction of measurement overhead in a business basket analysis? Give an example to demonstrate your point.\n",
    "**Answer**\n",
    "Single Link and Complete Link in Hierarchical Clustering:\n",
    "\n",
    "Single Link: Measures the distance between clusters based on the shortest distance between any two points in each cluster. It tends to create elongated, chaining clusters.\n",
    "Complete Link: Measures the distance between clusters based on the maximum distance between any two points in each cluster. It tends to create compact, spherical clusters.\n",
    "Apriori Concept in Business Basket Analysis:\n",
    "Apriori is an association rule mining algorithm used to discover interesting relationships between items in transactional datasets, often used in market basket analysis. It helps reduce measurement overhead by identifying frequent itemsets and eliminating the need to examine all possible item combinations. For example, if \"milk\" and \"bread\" are frequently bought together (a frequent itemset), the apriori algorithm can skip checking combinations like \"milk\" and \"bread\" with \"eggs\" as the support for the latter will be low."
   ]
  },
  {
   "cell_type": "code",
   "execution_count": null,
   "id": "31f7f17c",
   "metadata": {},
   "outputs": [],
   "source": []
  },
  {
   "cell_type": "code",
   "execution_count": null,
   "id": "7808f4e0",
   "metadata": {},
   "outputs": [],
   "source": []
  }
 ],
 "metadata": {
  "kernelspec": {
   "display_name": "Python 3 (ipykernel)",
   "language": "python",
   "name": "python3"
  },
  "language_info": {
   "codemirror_mode": {
    "name": "ipython",
    "version": 3
   },
   "file_extension": ".py",
   "mimetype": "text/x-python",
   "name": "python",
   "nbconvert_exporter": "python",
   "pygments_lexer": "ipython3",
   "version": "3.9.0"
  }
 },
 "nbformat": 4,
 "nbformat_minor": 5
}
