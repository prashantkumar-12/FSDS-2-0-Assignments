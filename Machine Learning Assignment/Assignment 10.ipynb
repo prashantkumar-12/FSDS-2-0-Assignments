{
 "cells": [
  {
   "cell_type": "markdown",
   "id": "7df6214d",
   "metadata": {},
   "source": [
    "##### 1.Define the Bayesian interpretation of probability.\n",
    "**Answers**\n",
    "The Bayesian interpretation of probability views probability as a measure of subjective uncertainty or degree of belief. It considers probability as a subjective representation of an individual's confidence in an event's occurrence based on available information and prior beliefs. Bayesian probabilities are continually updated with new evidence using Bayes' theorem."
   ]
  },
  {
   "cell_type": "markdown",
   "id": "5cdf84a4",
   "metadata": {},
   "source": [
    "##### 2.\tDefine probability of a union of two events with equation.\n",
    "**Answers**\n",
    "The probability of the union of two events A and B, denoted as P(A ∪ B), is the probability that at least one of the events A or B occurs. It is the probability of the combined outcomes of both events.\n",
    "\n",
    "The equation for the probability of the union of two events is given by the formula:\n",
    "\n",
    "P(A ∪ B) = P(A) + P(B) - P(A ∩ B)\n",
    "\n",
    "Where:\n",
    "\n",
    "P(A) is the probability of event A.\n",
    "P(B) is the probability of event B.\n",
    "P(A ∩ B) is the probability of the intersection of events A and B (i.e., the probability that both A and B occur simultaneously).\n",
    "The formula accounts for the fact that the intersection of events A and B is counted twice when adding the probabilities of A and B, so we subtract P(A ∩ B) once to avoid double-counting."
   ]
  },
  {
   "cell_type": "markdown",
   "id": "b48d3b9e",
   "metadata": {},
   "source": [
    "##### 3.\tWhat is joint probability? What is its formula?\n",
    "**Answers**\n",
    "Joint probability is a probability measure that quantifies the likelihood of two or more events occurring simultaneously. It represents the probability of the intersection of two or more events.\n",
    "\n",
    "For two events A and B, the joint probability of both events occurring is denoted as P(A ∩ B) and is calculated using the following formula:\n",
    "\n",
    "P(A ∩ B) = P(A) * P(B|A)"
   ]
  },
  {
   "cell_type": "markdown",
   "id": "d3a1caca",
   "metadata": {},
   "source": [
    "##### 4.\tWhat is chain rule of probability?\n",
    "**Answers**\n",
    "\n",
    "The chain rule of probability is a fundamental rule that allows us to calculate the joint probability of multiple events by breaking it down into conditional probabilities. It expresses the probability of events occurring together as the product of individual probabilities and conditional probabilities."
   ]
  },
  {
   "cell_type": "markdown",
   "id": "04208114",
   "metadata": {},
   "source": [
    "##### 5.\tWhat is conditional probability means? What is the formula of it?\n",
    "**Answers**\n",
    "Conditional probability is the probability of an event occurring given that another event has already occurred. It quantifies the likelihood of one event happening under the condition that some related event has taken place.\n",
    "\n",
    "The formula for conditional probability is:\n",
    "\n",
    "P(A|B) = P(A ∩ B) / P(B)\n",
    "\n",
    "Where:\n",
    "\n",
    "P(A|B) is the conditional probability of event A given event B has occurred.\n",
    "P(A ∩ B) is the joint probability of both events A and B occurring simultaneously.\n",
    "P(B) is the probability of event B occurring."
   ]
  },
  {
   "cell_type": "markdown",
   "id": "c1245bfc",
   "metadata": {},
   "source": [
    "##### 6.\tWhat are continuous random variables?\n",
    "**Answers**\n",
    "Continuous random variables are variables in probability and statistics that can take any value within a specified range or interval. Unlike discrete random variables, which can only take on distinct and separate values, continuous random variables can assume an infinite number of possible values within their defined range.\n",
    "\n",
    "Characteristics of continuous random variables:\n",
    "\n",
    "Infinite Possible Values: Continuous random variables can take on an uncountably infinite number of values within their specified range. For example, the height of a person, the time it takes for a computer program to run, or the temperature on a given day are all continuous random variables.\n",
    "\n",
    "Unbroken Probability Distribution: The probability distribution of a continuous random variable is represented by a smooth and unbroken curve. This is in contrast to discrete random variables, where the probability distribution is represented by a set of isolated points.\n",
    "\n",
    "Probability Density Function (PDF): Continuous random variables are described by a probability density function (PDF) rather than a probability mass function (PMF). The PDF gives the probability of the random variable falling within a specific range of values.\n",
    "\n",
    "Probability of Exact Values is Zero: The probability of a continuous random variable taking on an exact value is zero. Instead, probabilities are associated with intervals or ranges of values."
   ]
  },
  {
   "cell_type": "markdown",
   "id": "7cdad14d",
   "metadata": {},
   "source": [
    "##### 7.\tWhat are Bernoulli distributions? What is the formula of it?\n",
    "**Answers**\n",
    "Bernoulli distribution is a discrete probability distribution that models a binary random variable that can take only two outcomes: success (usually denoted by 1) with probability 'p' and failure (usually denoted by 0) with probability 'q' = 1 - p.\n",
    "\n",
    "The formula for the Bernoulli distribution is:\n",
    "\n",
    "P(X = x) = p^x * (1 - p)^(1-x)\n",
    "\n",
    "Where:\n",
    "\n",
    "P(X = x) is the probability of the random variable X taking the value 'x'.\n",
    "x can only be 0 or 1.\n",
    "p is the probability of success (X = 1).\n",
    "(1 - p) is the probability of failure (X = 0)."
   ]
  },
  {
   "cell_type": "markdown",
   "id": "1f026132",
   "metadata": {},
   "source": [
    "##### 8.\tWhat is binomial distribution? What is the formula?\n",
    "**Answers**\n",
    "Binomial distribution is a discrete probability distribution that models the number of successes in a fixed number of independent Bernoulli trials, where each trial can result in either success or failure. The binomial distribution is characterized by two parameters: the number of trials 'n' and the probability of success 'p' in each trial.\n",
    "\n",
    "Formula for the probability mass function of the binomial distribution:\n",
    "\n",
    "P(X = k) = C(n, k) * p^k * (1 - p)^(n - k)\n",
    "\n",
    "Where:\n",
    "\n",
    "P(X = k) is the probability of getting exactly 'k' successes in 'n' trials.\n",
    "C(n, k) (binomial coefficient) is the number of ways to choose 'k' successes out of 'n' trials, calculated as n! / (k! * (n - k)!).\n",
    "p is the probability of success in a single trial.\n",
    "(1 - p) is the probability of failure in a single trial.\n",
    "k is the number of successes (0 ≤ k ≤ n)."
   ]
  },
  {
   "cell_type": "markdown",
   "id": "19951d51",
   "metadata": {},
   "source": [
    "##### 9.\tWhat is Poisson distribution? What is the formula?\n",
    "**Answers**\n",
    "Poisson distribution is a probability distribution for rare events occurring independently in a fixed interval. It is characterized by a single parameter λ (lambda) representing the average rate of events. The formula for the probability mass function (PMF) is P(X = k) = (e^(-λ) * λ^k) / k!."
   ]
  },
  {
   "cell_type": "markdown",
   "id": "d7ac6a24",
   "metadata": {},
   "source": [
    "##### 10.\tDefine covariance.\n",
    "**Answers**\n",
    "Covariance is a statistical measure that quantifies the degree of joint variability between two random variables. It indicates whether the variables tend to increase or decrease together. Positive covariance means they increase together, negative covariance means one increases as the other decreases, and zero covariance means no linear relationship."
   ]
  },
  {
   "cell_type": "markdown",
   "id": "f119f9c7",
   "metadata": {},
   "source": [
    "##### 11.\tDefine correlation\n",
    "**Answers**\n",
    "Correlation is a statistical measure that quantifies the strength and direction of the linear relationship between two variables. It ranges from -1 to +1, where -1 indicates a perfect negative linear relationship, +1 indicates a perfect positive linear relationship, and 0 indicates no linear relationship."
   ]
  },
  {
   "cell_type": "markdown",
   "id": "085b7cc5",
   "metadata": {},
   "source": [
    "##### 12.\tDefine sampling with replacement. Give example.\n",
    "**Answers**\n",
    "Sampling with replacement is a method of selecting elements from a dataset, where each selected element is returned to the dataset before the next selection. This means that the same element can be chosen more than once during the sampling process.\n",
    "\n",
    "Example: Suppose we have a bag containing five colored balls: red, blue, green, yellow, and orange. If we perform sampling with replacement and randomly draw a ball from the bag, we note down its color and put it back into the bag before drawing again. This process continues for a specified number of draws or repetitions. As a result, it is possible to pick the same color ball multiple times during the sampling process."
   ]
  },
  {
   "cell_type": "markdown",
   "id": "38e131f7",
   "metadata": {},
   "source": [
    "##### 13.\tWhat is sampling without replacement? Give example.\n",
    "**Answers**\n",
    "Sampling without replacement is a method of selecting elements from a dataset, where each selected element is not returned to the dataset before the next selection. Once an element is chosen, it is removed from the dataset, and subsequent selections are made from the reduced dataset.\n",
    "\n",
    "Example: Suppose we have a deck of playing cards containing 52 cards. If we perform sampling without replacement and randomly draw a card from the deck, we note down its value and suit and remove it from the deck. The next draw will be from the remaining 51 cards, and this process continues until all cards have been drawn. As a result, each card can only be selected once during the sampling process."
   ]
  },
  {
   "cell_type": "markdown",
   "id": "a33074e4",
   "metadata": {},
   "source": [
    "##### 14.\tWhat is hypothesis? Give example.\n",
    "**Answers**\n",
    "\n",
    "A hypothesis is a testable statement or prediction that proposes a possible explanation for an observed phenomenon or set of data. In the scientific method, hypotheses are formulated to guide research and experimentation and are subject to empirical testing and evaluation.\n",
    "\n",
    "Example: A hypothesis could be \"Exposure to sunlight increases the growth rate of plants.\" This statement suggests a cause-and-effect relationship between sunlight exposure and plant growth. To test this hypothesis, experiments could be conducted by exposing one group of plants to sunlight and another group to shade, and then measuring and comparing their growth rates. The results of the experiment will either support or refute the hypothesis."
   ]
  },
  {
   "cell_type": "code",
   "execution_count": null,
   "id": "8ff0863c",
   "metadata": {},
   "outputs": [],
   "source": []
  },
  {
   "cell_type": "code",
   "execution_count": null,
   "id": "1a9c6346",
   "metadata": {},
   "outputs": [],
   "source": []
  },
  {
   "cell_type": "code",
   "execution_count": null,
   "id": "6e57f4c1",
   "metadata": {},
   "outputs": [],
   "source": []
  },
  {
   "cell_type": "code",
   "execution_count": null,
   "id": "80216be5",
   "metadata": {},
   "outputs": [],
   "source": []
  }
 ],
 "metadata": {
  "kernelspec": {
   "display_name": "Python 3 (ipykernel)",
   "language": "python",
   "name": "python3"
  },
  "language_info": {
   "codemirror_mode": {
    "name": "ipython",
    "version": 3
   },
   "file_extension": ".py",
   "mimetype": "text/x-python",
   "name": "python",
   "nbconvert_exporter": "python",
   "pygments_lexer": "ipython3",
   "version": "3.9.0"
  }
 },
 "nbformat": 4,
 "nbformat_minor": 5
}
