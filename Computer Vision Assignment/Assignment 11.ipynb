{
 "cells": [
  {
   "cell_type": "markdown",
   "id": "99b071bc",
   "metadata": {},
   "source": [
    "# Assignment 11 Solutions"
   ]
  },
  {
   "cell_type": "markdown",
   "id": "faed445a",
   "metadata": {},
   "source": [
    "#### 1.\tWhat do REGION PROPOSALS entail?"
   ]
  },
  {
   "cell_type": "markdown",
   "id": "bd5dd657",
   "metadata": {},
   "source": [
    "**Answer**Region Proposals: Region proposals involve identifying potential object locations within an image. These proposals suggest regions likely to contain objects, which are then further evaluated by object detection models."
   ]
  },
  {
   "cell_type": "markdown",
   "id": "0804ecc1",
   "metadata": {},
   "source": [
    "#### 2.\tWhat do you mean by NON-MAXIMUM SUPPRESSION? (NMS)"
   ]
  },
  {
   "cell_type": "markdown",
   "id": "7bafecbd",
   "metadata": {},
   "source": [
    "**Answer**Non-Maximum Suppression (NMS): NMS is a technique used in object detection to eliminate redundant bounding box predictions. It keeps the box with the highest confidence score and removes boxes with significant overlap (based on IoU) with the selected box."
   ]
  },
  {
   "cell_type": "markdown",
   "id": "a300559d",
   "metadata": {},
   "source": [
    "#### 3.\tWhat exactly is mAP?"
   ]
  },
  {
   "cell_type": "markdown",
   "id": "a8485752",
   "metadata": {},
   "source": [
    "**Answer**Mean Average Precision (mAP): mAP is a metric for evaluating object detection models. It measures the average precision across different levels of confidence thresholds, providing an overall assessment of precision and recall."
   ]
  },
  {
   "cell_type": "markdown",
   "id": "4246d2fe",
   "metadata": {},
   "source": [
    "#### 4.\tWhat is a frames per second (FPS)?\n",
    "**Answer**\n",
    "Frames Per Second (FPS): FPS is a measure of how many frames (images) a system can process per second. It indicates the speed of a model's inference or processing capabilities."
   ]
  },
  {
   "cell_type": "markdown",
   "id": "b2e29857",
   "metadata": {},
   "source": [
    "**Answer**"
   ]
  },
  {
   "cell_type": "markdown",
   "id": "76b8aa18",
   "metadata": {},
   "source": [
    "#### 5.\tWhat is an IOU (INTERSECTION OVER UNION)?"
   ]
  },
  {
   "cell_type": "markdown",
   "id": "c079e7f4",
   "metadata": {},
   "source": [
    "**Answer**Intersection Over Union (IoU): IoU is a metric to measure the overlap between a predicted bounding box and the ground truth bounding box. It's calculated as the ratio of the intersection area to the union area."
   ]
  },
  {
   "cell_type": "markdown",
   "id": "4bf4effd",
   "metadata": {},
   "source": [
    "#### 6.\tDescribe the PRECISION-RECALL CURVE (PR CURVE)"
   ]
  },
  {
   "cell_type": "markdown",
   "id": "4ff6d816",
   "metadata": {},
   "source": [
    "**Answer**Precision-Recall Curve (PR Curve): The PR curve plots precision against recall at different confidence thresholds for object detection. It provides insights into the trade-off between correctly predicted positive instances (precision) and the total number of actual positive instances (recall)."
   ]
  },
  {
   "cell_type": "markdown",
   "id": "2fac40b1",
   "metadata": {},
   "source": [
    "#### 7.What is the term \"selective search\"?"
   ]
  },
  {
   "cell_type": "markdown",
   "id": "bc181eb7",
   "metadata": {},
   "source": [
    "**Answer**Selective Search: Selective search is an algorithm used to generate region proposals for object detection. It identifies potential object regions by grouping pixels based on color, texture, and proximity."
   ]
  },
  {
   "cell_type": "markdown",
   "id": "36e94190",
   "metadata": {},
   "source": [
    "#### 8.\t. Describe the R-CNN model's four components."
   ]
  },
  {
   "cell_type": "markdown",
   "id": "d8fc447a",
   "metadata": {},
   "source": [
    "**Answer**R-CNN Components:\n",
    "\n",
    "Region Proposal Network (RPN): Suggests potential object regions.\n",
    "RoI (Region of Interest) Pooling Layer: Extracts fixed-size features from RoIs.\n",
    "Classifier: Classifies objects using extracted features.\n",
    "Bounding Box Regressor: Refines the bounding box coordinates."
   ]
  },
  {
   "cell_type": "markdown",
   "id": "84baff66",
   "metadata": {},
   "source": [
    "#### 9.\tWhat exactly is the Localization Module?"
   ]
  },
  {
   "cell_type": "markdown",
   "id": "a4698bf6",
   "metadata": {},
   "source": [
    "**Answer**Localization Module: The localization module in R-CNN predicts the refined bounding box coordinates based on the features extracted from the RoI. It adjusts the initial region proposal to fit the object accurately."
   ]
  },
  {
   "cell_type": "markdown",
   "id": "dff43a28",
   "metadata": {},
   "source": [
    "#### 10. What are the R-CNN DISADVANTAGES?"
   ]
  },
  {
   "cell_type": "markdown",
   "id": "550bb0a8",
   "metadata": {},
   "source": [
    "**Answer**R-CNN Disadvantages:\n",
    "\n",
    "Slow processing due to separate object proposal and classification steps.\n",
    "High memory consumption due to individual object extraction and processing.\n",
    "Inefficiency in real-time applications due to slower inference times compared to newer architectures."
   ]
  },
  {
   "cell_type": "markdown",
   "id": "8cd9c4a4",
   "metadata": {},
   "source": []
  },
  {
   "cell_type": "code",
   "execution_count": null,
   "id": "bd304c3b",
   "metadata": {},
   "outputs": [],
   "source": []
  },
  {
   "cell_type": "markdown",
   "id": "125b1f81",
   "metadata": {},
   "source": []
  },
  {
   "cell_type": "code",
   "execution_count": null,
   "id": "e3514a3f",
   "metadata": {},
   "outputs": [],
   "source": []
  },
  {
   "cell_type": "markdown",
   "id": "ec31e38e",
   "metadata": {},
   "source": []
  },
  {
   "cell_type": "code",
   "execution_count": null,
   "id": "a613a051",
   "metadata": {},
   "outputs": [],
   "source": []
  },
  {
   "cell_type": "markdown",
   "id": "786b7b13",
   "metadata": {},
   "source": []
  },
  {
   "cell_type": "code",
   "execution_count": null,
   "id": "8458299c",
   "metadata": {},
   "outputs": [],
   "source": []
  },
  {
   "cell_type": "markdown",
   "id": "48bcf072",
   "metadata": {},
   "source": []
  },
  {
   "cell_type": "code",
   "execution_count": null,
   "id": "b1eac126",
   "metadata": {},
   "outputs": [],
   "source": []
  }
 ],
 "metadata": {
  "kernelspec": {
   "display_name": "Python 3 (ipykernel)",
   "language": "python",
   "name": "python3"
  },
  "language_info": {
   "codemirror_mode": {
    "name": "ipython",
    "version": 3
   },
   "file_extension": ".py",
   "mimetype": "text/x-python",
   "name": "python",
   "nbconvert_exporter": "python",
   "pygments_lexer": "ipython3",
   "version": "3.9.0"
  }
 },
 "nbformat": 4,
 "nbformat_minor": 5
}
