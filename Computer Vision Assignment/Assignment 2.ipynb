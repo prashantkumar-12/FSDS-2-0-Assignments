{
 "cells": [
  {
   "cell_type": "markdown",
   "id": "99b071bc",
   "metadata": {},
   "source": [
    "# Assignment 02 Solutions"
   ]
  },
  {
   "cell_type": "markdown",
   "id": "faed445a",
   "metadata": {},
   "source": [
    "#### 1. Explain convolutional neural network, and how does it work ?"
   ]
  },
  {
   "cell_type": "markdown",
   "id": "f39486fc",
   "metadata": {},
   "source": [
    "**Answer**A convolutional neural network (CNN) is a type of deep learning model designed for tasks involving grid-like data, such as images and videos. It uses specialized layers called convolutional layers to automatically learn and extract hierarchical features from the input data. These layers apply convolutional operations using learnable filters or kernels, followed by pooling layers to downsample and reduce spatial dimensions. CNNs leverage these learned features to make predictions and classifications."
   ]
  },
  {
   "cell_type": "code",
   "execution_count": null,
   "id": "88f66cc2",
   "metadata": {},
   "outputs": [],
   "source": []
  },
  {
   "cell_type": "markdown",
   "id": "0804ecc1",
   "metadata": {},
   "source": [
    "#### 2. How does refactoring parts of your neural network definition favor you ?"
   ]
  },
  {
   "cell_type": "markdown",
   "id": "f4162a79",
   "metadata": {},
   "source": [
    "**Answer**Refactoring parts of a neural network definition benefits by improving modularity, reusability, and readability. It allows easier experimentation with different architectures, swapping components, and sharing code. This modularity simplifies debugging and maintenance, fostering efficient development and collaboration."
   ]
  },
  {
   "cell_type": "markdown",
   "id": "a300559d",
   "metadata": {},
   "source": [
    "#### 3. What does it mean to flatten? Is it necessary to include it in the MNIST CNN? What is the reason for this ?"
   ]
  },
  {
   "cell_type": "markdown",
   "id": "b0702201",
   "metadata": {},
   "source": [
    "**Answer**\n",
    "Flattening refers to reshaping a multi-dimensional array into a one-dimensional vector. It's essential to include flattening in a CNN when transitioning from convolutional and pooling layers to fully connected (dense) layers. This step prepares the data for feeding into these dense layers, which require flat input vectors. In the MNIST CNN, flattening is necessary as the convolutional and pooling layers extract spatial features, while the dense layers require flattened input for classification."
   ]
  },
  {
   "cell_type": "markdown",
   "id": "4246d2fe",
   "metadata": {},
   "source": [
    "#### 4. What exactly does NCHW stand for ?"
   ]
  },
  {
   "cell_type": "markdown",
   "id": "0e361a5e",
   "metadata": {},
   "source": [
    "**Ans:** NCHW stands for: **batch N, channels C, depth D, height H, width W**. It is a way to store multidimensional arrays / data frames / matrix into memory, which can be considered as a 1-D array."
   ]
  },
  {
   "cell_type": "markdown",
   "id": "76b8aa18",
   "metadata": {},
   "source": [
    "#### 5. Why are there 7*7*(1168-16) multiplications in the MNIST CNN's third layer ?"
   ]
  },
  {
   "cell_type": "markdown",
   "id": "a0cb73ff",
   "metadata": {},
   "source": [
    "**Answer**There are 7 * 7 * (1168 - 16) multiplications in the MNIST CNN's third layer due to the following factors:\n",
    "\n",
    "The layer has a 7x7 spatial grid, resulting from a series of convolutions and pooling operations.\n",
    "The layer has 1168 channels (feature maps) before the final 1x1 convolution.\n",
    "There are 16 1x1 convolutional filters in the final layer to reduce the number of channels to 16."
   ]
  },
  {
   "cell_type": "markdown",
   "id": "4bf4effd",
   "metadata": {},
   "source": [
    "#### 6.Explain definition of  receptive field ?"
   ]
  },
  {
   "cell_type": "markdown",
   "id": "606a24ed",
   "metadata": {},
   "source": [
    "**Answer**The receptive field refers to the area in the input space that influences the value of a specific neuron or element in a layer. It's the region from which the neuron receives input through its connections. In convolutional neural networks, the receptive field size grows as you move deeper into the network due to the stacking of convolutional and pooling layers."
   ]
  },
  {
   "cell_type": "markdown",
   "id": "2fac40b1",
   "metadata": {},
   "source": [
    "#### 7. What is the scale of an activation's receptive field after two stride-2 convolutions? What is the reason for this ?"
   ]
  },
  {
   "cell_type": "markdown",
   "id": "2547dccc",
   "metadata": {},
   "source": [
    "**Answer**After two stride-2 convolutions, the scale of an activation's receptive field increases by a factor of 4. Each stride-2 convolution reduces the spatial dimensions by half, so applying two such convolutions reduces the spatial dimensions to 1/4 of the original. However, the receptive field size increases because each output unit in the convolutional layer now encompasses a larger area of the input due to the larger stride, resulting in a broader perception of the input data.\n",
    "\n",
    "\n",
    "\n",
    "\n",
    "\n"
   ]
  },
  {
   "cell_type": "markdown",
   "id": "36e94190",
   "metadata": {},
   "source": [
    "#### 8. What is the tensor representation of a color image ?"
   ]
  },
  {
   "cell_type": "markdown",
   "id": "e60cd6ee",
   "metadata": {},
   "source": [
    "**Ans:** The representation of an image can take many forms. Most of the time, it refers to the way that the conveyed information, such as color, is coded digitally and how the image is stored, i.e., how is structured an image file. Several open or patented standards were proposed to create, manipulate, store and exchange digital images. They describe the format of image files, the algorithms of image encoding such as compression as well as the format of additional information often called metadata.\n",
    "\n",
    "**TENSORS IMAGES**   \n",
    "Tensors can be understood as nested lists of objects of the previous order all with the same size. For example, an order three tensor can be thought of as a list of matrices all of which have the same number of rows and columns. These matrices are tensors of order two and since they have all the same number of rows and columns, the tensor of order three is actually like a cuboid of numbers and we can find numbers by going along any of the three-axis. Each number is identified by the row, the column, and the depth at which it’s stored. We can formalize this idea in the concept of shape."
   ]
  },
  {
   "cell_type": "markdown",
   "id": "84baff66",
   "metadata": {},
   "source": [
    "#### 9. How does a color input interact with a convolution ?"
   ]
  },
  {
   "cell_type": "markdown",
   "id": "c1326ab6",
   "metadata": {},
   "source": [
    "**Answer**A color input interacts with a convolution by applying multiple filters, each operating on different color channels (e.g., red, green, blue). Convolutions are performed independently on each channel, allowing the network to capture spatial patterns and features in both individual color channels and their combinations."
   ]
  }
 ],
 "metadata": {
  "kernelspec": {
   "display_name": "Python 3 (ipykernel)",
   "language": "python",
   "name": "python3"
  },
  "language_info": {
   "codemirror_mode": {
    "name": "ipython",
    "version": 3
   },
   "file_extension": ".py",
   "mimetype": "text/x-python",
   "name": "python",
   "nbconvert_exporter": "python",
   "pygments_lexer": "ipython3",
   "version": "3.9.0"
  }
 },
 "nbformat": 4,
 "nbformat_minor": 5
}
