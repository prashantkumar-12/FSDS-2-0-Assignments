{
 "cells": [
  {
   "cell_type": "markdown",
   "id": "99b071bc",
   "metadata": {},
   "source": [
    "# Assignment 06 Solutions"
   ]
  },
  {
   "cell_type": "markdown",
   "id": "faed445a",
   "metadata": {},
   "source": [
    "#### 1. What is the difference between TRAINABLE and NON-TRAINABLE PARAMETERS ?"
   ]
  },
  {
   "cell_type": "markdown",
   "id": "95a4eb69",
   "metadata": {},
   "source": [
    "**Answers** TRAINABLE and NON-TRAINABLE PARAMETERS: Trainable parameters are learned during model training (weights and biases), while non-trainable parameters are fixed values, such as those in activation functions or pre-trained embeddings."
   ]
  },
  {
   "cell_type": "markdown",
   "id": "0804ecc1",
   "metadata": {},
   "source": [
    "#### 2. In the CNN architecture, where does the DROPOUT LAYER go ? "
   ]
  },
  {
   "cell_type": "markdown",
   "id": "9d3d24b0",
   "metadata": {},
   "source": [
    "**Answers**\n",
    "DROPOUT LAYER: Dropout layers are typically placed after fully connected layers (or dense layers) in a CNN architecture to prevent overfitting by randomly deactivating neurons during training."
   ]
  },
  {
   "cell_type": "markdown",
   "id": "a300559d",
   "metadata": {},
   "source": [
    "#### 3. What is the optimal number of hidden layers to stack ?"
   ]
  },
  {
   "cell_type": "markdown",
   "id": "f50612e3",
   "metadata": {},
   "source": [
    "**Answers**\n",
    "Optimal number of hidden layers: The optimal number of hidden layers depends on the complexity of the problem and the available data. There's no fixed rule, and it's often determined through experimentation."
   ]
  },
  {
   "cell_type": "markdown",
   "id": "4246d2fe",
   "metadata": {},
   "source": [
    "#### 4. In each layer, how many secret units or filters should there be ?"
   ]
  },
  {
   "cell_type": "markdown",
   "id": "d30431ea",
   "metadata": {},
   "source": [
    "**Answers**\n",
    "Number of units or filters: The number of units or filters in each layer depends on factors like input size, complexity of the problem, and available computational resources. It's often a hyperparameter determined through experimentation."
   ]
  },
  {
   "cell_type": "markdown",
   "id": "76b8aa18",
   "metadata": {},
   "source": [
    "#### 5. What should your initial learning rate be ?"
   ]
  },
  {
   "cell_type": "markdown",
   "id": "ba3dd76d",
   "metadata": {},
   "source": [
    "**Answers**\n",
    "Initial learning rate: The initial learning rate should be set based on the problem and architecture. It's commonly chosen within a range (e.g., 0.001 to 0.1) and then tuned through training experiments."
   ]
  },
  {
   "cell_type": "markdown",
   "id": "4bf4effd",
   "metadata": {},
   "source": [
    "#### 6. What do you do with the activation function ?"
   ]
  },
  {
   "cell_type": "markdown",
   "id": "836e7ded",
   "metadata": {},
   "source": [
    "**Answers**'\n",
    "Activation function: Apply an appropriate activation function to introduce non-linearity to the network, enabling it to learn complex patterns in the data."
   ]
  },
  {
   "cell_type": "markdown",
   "id": "2fac40b1",
   "metadata": {},
   "source": [
    "#### 7. What is NORMALIZATION OF DATA ?"
   ]
  },
  {
   "cell_type": "markdown",
   "id": "6f5b2729",
   "metadata": {},
   "source": [
    "**Answers**\n",
    "Normalization of data: Normalizing data involves scaling input features to have zero mean and unit variance, helping gradient-based optimization algorithms converge faster and more effectively."
   ]
  },
  {
   "cell_type": "markdown",
   "id": "36e94190",
   "metadata": {},
   "source": [
    "#### 8. What is IMAGE AUGMENTATION and how does it work ?"
   ]
  },
  {
   "cell_type": "markdown",
   "id": "28385369",
   "metadata": {},
   "source": [
    "**Answers**\n",
    "Image augmentation: Image augmentation involves applying various transformations (e.g., rotation, cropping, flipping) to training images to increase diversity and prevent overfitting. It enhances the model's ability to generalize."
   ]
  },
  {
   "cell_type": "markdown",
   "id": "84baff66",
   "metadata": {},
   "source": [
    "#### 9. What is DECLINE IN LEARNING RATE ?"
   ]
  },
  {
   "cell_type": "markdown",
   "id": "43d57858",
   "metadata": {},
   "source": [
    "**Answers**\n",
    "Decline in learning rate: A decline in learning rate, often referred to as learning rate scheduling or decay, involves reducing the learning rate during training to help the model converge more precisely as it approaches convergence."
   ]
  },
  {
   "cell_type": "markdown",
   "id": "dff43a28",
   "metadata": {},
   "source": [
    "#### 10. What does EARLY STOPPING CRITERIA mean ?"
   ]
  },
  {
   "cell_type": "markdown",
   "id": "a5b72879",
   "metadata": {},
   "source": [
    "**Answers**\n",
    "Early stopping criteria: Early stopping criteria involve monitoring a validation metric during training (e.g., validation loss) and stopping training when the metric starts deteriorating, preventing overfitting and finding the optimal point of generalization."
   ]
  }
 ],
 "metadata": {
  "kernelspec": {
   "display_name": "Python 3 (ipykernel)",
   "language": "python",
   "name": "python3"
  },
  "language_info": {
   "codemirror_mode": {
    "name": "ipython",
    "version": 3
   },
   "file_extension": ".py",
   "mimetype": "text/x-python",
   "name": "python",
   "nbconvert_exporter": "python",
   "pygments_lexer": "ipython3",
   "version": "3.9.0"
  }
 },
 "nbformat": 4,
 "nbformat_minor": 5
}
