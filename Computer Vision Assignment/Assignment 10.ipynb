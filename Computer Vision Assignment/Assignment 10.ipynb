{
 "cells": [
  {
   "cell_type": "markdown",
   "id": "a0e0922d",
   "metadata": {},
   "source": [
    "# Assignment 10 Solutions"
   ]
  },
  {
   "cell_type": "markdown",
   "id": "70c68fcc",
   "metadata": {},
   "source": [
    "#### 1. Why don't we start all of the weights with zeros?\n",
    "**Answer**\n",
    "Starting Weights with Zeros: Starting all weights with zeros leads to symmetry in the gradients during backpropagation, causing all neurons in a layer to update in the same way. This hampers the network's learning capacity and slows down training."
   ]
  },
  {
   "cell_type": "markdown",
   "id": "42cfd63c",
   "metadata": {},
   "source": [
    "#### 2. Why is it beneficial to start weights with a mean zero distribution?\n",
    "**Answer**\n",
    "Benefits of Mean Zero Distribution: Starting weights with a mean zero distribution breaks symmetry and allows neurons to learn independently. This encourages the network to differentiate features and learn more effectively."
   ]
  },
  {
   "cell_type": "markdown",
   "id": "8de3cd00",
   "metadata": {},
   "source": [
    "#### 3. What is dilated convolution, and how does it work?\n",
    "**Answer**\n",
    "Dilated Convolution: Dilated convolution involves inserting gaps between filter elements, expanding the receptive field without increasing the number of parameters. It captures multi-scale information and is useful for large-scale feature extraction."
   ]
  },
  {
   "cell_type": "markdown",
   "id": "3743a2b9",
   "metadata": {},
   "source": [
    "#### 4. What is TRANSPOSED CONVOLUTION, and how does it work?\n",
    "**Answer**\n",
    "Transposed Convolution: Transposed convolution, or deconvolution, is used to upsample feature maps. It involves applying a convolutional filter with learnable weights to expand spatial dimensions, useful in tasks like image segmentation."
   ]
  },
  {
   "cell_type": "markdown",
   "id": "a583e265",
   "metadata": {},
   "source": [
    "#### 5.Explain Separable convolution\n",
    "**Answer**\n",
    "Separable Convolution: Separable convolution splits a standard convolution into two separate convolutions: depthwise convolution (processing each channel separately) and pointwise convolution (merging channels). It reduces computation while maintaining expressive power."
   ]
  },
  {
   "cell_type": "markdown",
   "id": "ba788706",
   "metadata": {},
   "source": [
    "#### 6.What is depthwise convolution, and how does it work?\n",
    "**Answer**\n",
    "Depthwise Convolution: Depthwise convolution applies a separate filter to each input channel, creating channel-wise feature maps. It reduces computation while capturing spatial information within each channel."
   ]
  },
  {
   "cell_type": "markdown",
   "id": "73e0021a",
   "metadata": {},
   "source": [
    "#### 7.What is Depthwise separable convolution, and how does it work?\n",
    "**Answer**\n",
    "Depthwise Separable Convolution: Depthwise separable convolution combines depthwise and pointwise convolutions. It first applies depthwise convolution and then pointwise convolution to merge the channel-wise feature maps. This reduces both computation and parameters."
   ]
  },
  {
   "cell_type": "markdown",
   "id": "1cffaf7e",
   "metadata": {},
   "source": [
    "#### 8.Capsule networks are what they sound like.\n",
    "**Answer**\n",
    "Capsule Networks: Capsule networks aim to overcome the limitations of traditional CNNs by using capsules, which are groups of neurons representing features. They incorporate information about the pose (position, orientation) and presence of features, offering better recognition and understanding of hierarchical relationships."
   ]
  },
  {
   "cell_type": "markdown",
   "id": "2fbe0bf4",
   "metadata": {},
   "source": [
    "#### 9. Why is POOLING such an important operation in CNNs?\n",
    "**Answer**\n",
    "Importance of Pooling in CNNs: Pooling reduces spatial dimensions, extracts important features, and introduces translation invariance. It helps in capturing relevant information while reducing computation, aiding generalization and preventing overfitting."
   ]
  },
  {
   "cell_type": "markdown",
   "id": "6ecef759",
   "metadata": {},
   "source": [
    "#### 10. What are receptive fields and how do they work?\n",
    "**Answer**\n",
    "Receptive Fields: Receptive fields refer to the region in the input space that influences the value of a neuron in a layer. In CNNs, receptive fields expand with each layer due to the effects of convolution and pooling, allowing neurons to capture increasingly complex patterns."
   ]
  },
  {
   "cell_type": "code",
   "execution_count": null,
   "id": "5277cf82",
   "metadata": {},
   "outputs": [],
   "source": []
  },
  {
   "cell_type": "code",
   "execution_count": null,
   "id": "72f1d850",
   "metadata": {},
   "outputs": [],
   "source": []
  },
  {
   "cell_type": "code",
   "execution_count": null,
   "id": "2c28b24c",
   "metadata": {},
   "outputs": [],
   "source": []
  },
  {
   "cell_type": "code",
   "execution_count": null,
   "id": "a2e00994",
   "metadata": {},
   "outputs": [],
   "source": []
  }
 ],
 "metadata": {
  "kernelspec": {
   "display_name": "Python 3 (ipykernel)",
   "language": "python",
   "name": "python3"
  },
  "language_info": {
   "codemirror_mode": {
    "name": "ipython",
    "version": 3
   },
   "file_extension": ".py",
   "mimetype": "text/x-python",
   "name": "python",
   "nbconvert_exporter": "python",
   "pygments_lexer": "ipython3",
   "version": "3.9.0"
  }
 },
 "nbformat": 4,
 "nbformat_minor": 5
}
