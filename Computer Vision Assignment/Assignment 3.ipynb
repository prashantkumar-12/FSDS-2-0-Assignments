{
 "cells": [
  {
   "cell_type": "markdown",
   "id": "99b071bc",
   "metadata": {},
   "source": [
    "# Assignment 03 Solutions"
   ]
  },
  {
   "cell_type": "markdown",
   "id": "faed445a",
   "metadata": {},
   "source": [
    "#### 1. After each stride-2 conv, why do we double the number of filters?"
   ]
  },
  {
   "cell_type": "markdown",
   "id": "84ab4c77",
   "metadata": {},
   "source": [
    "**Answer**\n",
    "Doubling the number of filters after each stride-2 convolution helps the network learn and capture a richer set of features in deeper layers, compensating for the reduction in spatial dimensions and enabling the network to capture more complex patterns."
   ]
  },
  {
   "cell_type": "markdown",
   "id": "0804ecc1",
   "metadata": {},
   "source": [
    "#### 2. Why do we use a larger kernel with MNIST (with simple cnn) in the first conv ?"
   ]
  },
  {
   "cell_type": "markdown",
   "id": "728bc473",
   "metadata": {},
   "source": [
    "**Answer**Using a larger kernel in the first convolution with MNIST helps capture larger-scale features and patterns present in the images, as the initial convolutional layers need to grasp more global structures before proceeding to finer details."
   ]
  },
  {
   "cell_type": "markdown",
   "id": "a300559d",
   "metadata": {},
   "source": [
    "#### 3. What data is saved by ActivationStats for each layer ?"
   ]
  },
  {
   "cell_type": "markdown",
   "id": "eb3a8fe6",
   "metadata": {},
   "source": [
    "**Answer**ActivationStats records data like mean, standard deviation, and histogram of activations for each layer during training, aiding in understanding layer behavior and diagnosing issues."
   ]
  },
  {
   "cell_type": "markdown",
   "id": "4246d2fe",
   "metadata": {},
   "source": [
    "#### 4. How do we get a learner's callback after they've completed training ?"
   ]
  },
  {
   "cell_type": "markdown",
   "id": "4adf809e",
   "metadata": {},
   "source": [
    "**Answer**A learner's callback can be obtained after training completion by defining a custom callback class that inherits from the appropriate callback class provided by the framework, and then incorporating the desired behavior within its methods."
   ]
  },
  {
   "cell_type": "markdown",
   "id": "76b8aa18",
   "metadata": {},
   "source": [
    "#### 5. What are the drawbacks of activations above zero ?"
   ]
  },
  {
   "cell_type": "markdown",
   "id": "e349b44e",
   "metadata": {},
   "source": [
    "**Answer**Activations above zero can lead to issues like exploding gradients during training, making optimization difficult and slowing down convergence."
   ]
  },
  {
   "cell_type": "markdown",
   "id": "4bf4effd",
   "metadata": {},
   "source": [
    "#### 6.Draw up the benefits and drawbacks of practicing in larger batches ?"
   ]
  },
  {
   "cell_type": "markdown",
   "id": "6a87f678",
   "metadata": {},
   "source": [
    "**Answer**Benefits of practicing with larger batches include faster training due to optimized hardware usage, but drawbacks include increased memory requirements, possible overfitting, and potential convergence challenges."
   ]
  },
  {
   "cell_type": "markdown",
   "id": "2fac40b1",
   "metadata": {},
   "source": [
    "#### 7. Why should we avoid starting training with a high learning rate ?"
   ]
  },
  {
   "cell_type": "markdown",
   "id": "1ea2f464",
   "metadata": {},
   "source": [
    "**Answer**Avoiding high initial learning rates prevents overshooting the optimal parameter values, which can hinder convergence and result in poor performance during training."
   ]
  },
  {
   "cell_type": "markdown",
   "id": "36e94190",
   "metadata": {},
   "source": [
    "#### 8. What are the pros of studying with a high rate of learning ?"
   ]
  },
  {
   "cell_type": "markdown",
   "id": "a779486c",
   "metadata": {},
   "source": [
    "**Answer**Studying with a high learning rate can help escape local minima and converge faster initially, potentially speeding up training progress."
   ]
  },
  {
   "cell_type": "markdown",
   "id": "84baff66",
   "metadata": {},
   "source": [
    "#### 9. Why do we want to end the training with a low learning rate ?"
   ]
  },
  {
   "cell_type": "markdown",
   "id": "6734276f",
   "metadata": {},
   "source": [
    "**Answer**Ending training with a low learning rate facilitates fine-tuning of model parameters, enabling it to converge more precisely and consistently toward a better optimum."
   ]
  }
 ],
 "metadata": {
  "kernelspec": {
   "display_name": "Python 3 (ipykernel)",
   "language": "python",
   "name": "python3"
  },
  "language_info": {
   "codemirror_mode": {
    "name": "ipython",
    "version": 3
   },
   "file_extension": ".py",
   "mimetype": "text/x-python",
   "name": "python",
   "nbconvert_exporter": "python",
   "pygments_lexer": "ipython3",
   "version": "3.9.0"
  }
 },
 "nbformat": 4,
 "nbformat_minor": 5
}
