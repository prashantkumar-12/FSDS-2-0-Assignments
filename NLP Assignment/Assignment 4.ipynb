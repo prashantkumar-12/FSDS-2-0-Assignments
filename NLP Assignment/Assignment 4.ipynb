{
 "cells": [
  {
   "cell_type": "markdown",
   "id": "8fc44854",
   "metadata": {},
   "source": [
    "# Assignment 04 Solutions"
   ]
  },
  {
   "cell_type": "markdown",
   "id": "c35eaef1",
   "metadata": {},
   "source": [
    "#### 1.\tCan you think of a few applications for a sequence-to-sequence RNN? What about a sequence-to-vector RNN? And a vector-to-sequence RNN?"
   ]
  },
  {
   "cell_type": "markdown",
   "id": "efa20ab9",
   "metadata": {},
   "source": [
    "**Answers**\n",
    "Applications of Different RNNs:\n",
    "\n",
    "Sequence-to-sequence RNN: Machine translation, chatbot responses, video captioning.\n",
    "Sequence-to-vector RNN: Sentiment analysis, document classification, speech recognition.\n",
    "Vector-to-sequence RNN: Music generation, image captioning, text-to-speech synthesis."
   ]
  },
  {
   "cell_type": "markdown",
   "id": "c478edb2",
   "metadata": {},
   "source": [
    "#### 2.\tWhy do people use encoder–decoder RNNs rather than plain sequence-to-sequence RNNs for automatic translation?"
   ]
  },
  {
   "cell_type": "markdown",
   "id": "25976eb1",
   "metadata": {},
   "source": [
    "**Answers**\n",
    "Encoder–Decoder RNNs for Translation:\n",
    "Encoder captures input sequence information, generating a fixed-size context vector. Decoder then generates the output sequence from this context vector, making it suitable for tasks like translation where input and output lengths differ."
   ]
  },
  {
   "cell_type": "markdown",
   "id": "fb759d62",
   "metadata": {},
   "source": [
    "#### 3.\tHow could you combine a convolutional neural network with an RNN to classify videos?"
   ]
  },
  {
   "cell_type": "markdown",
   "id": "830955b8",
   "metadata": {},
   "source": [
    "**Answers**\n",
    "Combining CNN with RNN for Video Classification:\n",
    "Use CNN to extract spatial features from video frames, then pass these features through an RNN to capture temporal relationships across frames, resulting in improved video understanding and classification."
   ]
  },
  {
   "cell_type": "markdown",
   "id": "a639b7b3",
   "metadata": {},
   "source": [
    "#### 4.\tWhat are the advantages of building an RNN using dynamic_rnn() rather than static_rnn()?"
   ]
  },
  {
   "cell_type": "markdown",
   "id": "5959f28c",
   "metadata": {},
   "source": [
    "**Answers**\n",
    "Advantages of dynamic_rnn() over static_rnn():\n",
    "dynamic_rnn() handles variable-length sequences automatically, avoiding manual sequence padding and length management. This leads to cleaner, more efficient code."
   ]
  },
  {
   "cell_type": "markdown",
   "id": "2c4d0589",
   "metadata": {},
   "source": [
    "#### 5.\tHow can you deal with variable-length input sequences? What about variable-length output sequences?"
   ]
  },
  {
   "cell_type": "markdown",
   "id": "1047c911",
   "metadata": {},
   "source": [
    "**Answers**\n",
    "Handling Variable-Length Sequences:\n",
    "\n",
    "Variable-length input: Use dynamic_rnn() with input sequences and their lengths.\n",
    "Variable-length output: Use dynamic_rnn() for decoding with sequence length control and masking techniques."
   ]
  },
  {
   "cell_type": "markdown",
   "id": "34fa3100",
   "metadata": {},
   "source": [
    "#### 6.\tWhat is a common way to distribute training and execution of a deep RNN across multiple GPUs?"
   ]
  },
  {
   "cell_type": "markdown",
   "id": "19421c46",
   "metadata": {},
   "source": [
    "**Answers**\n",
    "Handling Variable-Length Sequences:\n",
    "\n",
    "Variable-length input: Use dynamic_rnn() with input sequences and their lengths.\n",
    "Variable-length output: Use dynamic_rnn() for decoding with sequence length control and masking techniques."
   ]
  }
 ],
 "metadata": {
  "kernelspec": {
   "display_name": "Python 3 (ipykernel)",
   "language": "python",
   "name": "python3"
  },
  "language_info": {
   "codemirror_mode": {
    "name": "ipython",
    "version": 3
   },
   "file_extension": ".py",
   "mimetype": "text/x-python",
   "name": "python",
   "nbconvert_exporter": "python",
   "pygments_lexer": "ipython3",
   "version": "3.9.0"
  }
 },
 "nbformat": 4,
 "nbformat_minor": 5
}
